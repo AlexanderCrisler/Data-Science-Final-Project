{
 "metadata": {
  "language_info": {
   "codemirror_mode": {
    "name": "ipython",
    "version": 3
   },
   "file_extension": ".py",
   "mimetype": "text/x-python",
   "name": "python",
   "nbconvert_exporter": "python",
   "pygments_lexer": "ipython3",
   "version": "3.8.3"
  },
  "orig_nbformat": 2,
  "kernelspec": {
   "name": "pythonjvsc74a57bd001652a96ea17fb8c5b1d7b9eb823a90f61f8ad4fa2dd1ccb83d76edc856f9457",
   "display_name": "Python 3.8.3  ('venv': venv)"
  },
  "metadata": {
   "interpreter": {
    "hash": "01652a96ea17fb8c5b1d7b9eb823a90f61f8ad4fa2dd1ccb83d76edc856f9457"
   }
  }
 },
 "nbformat": 4,
 "nbformat_minor": 2,
 "cells": [
  {
   "cell_type": "code",
   "execution_count": 2,
   "metadata": {},
   "outputs": [],
   "source": [
    "import pandas as pd"
   ]
  },
  {
   "cell_type": "code",
   "execution_count": 4,
   "metadata": {},
   "outputs": [
    {
     "output_type": "execute_result",
     "data": {
      "text/plain": [
       "            Player Team Pos  Receptions  ReceivingYds  ReceivingTD   FL  \\\n",
       "0    Lamar Jackson  BAL  QB         0.0           0.0          0.0  2.4   \n",
       "1  Patrick Mahomes   KC  QB         0.0           0.0          0.0  1.2   \n",
       "2     Dak Prescott  DAL  QB         0.0           0.0          0.0  2.3   \n",
       "3   Deshaun Watson  HOU  QB         0.0           0.0          0.0  1.8   \n",
       "4   Russell Wilson  SEA  QB         0.0           0.0          0.0  1.6   \n",
       "\n",
       "   RushingAtt  RushingYds  RushingTD  ...  FieldGoalsAttempted  \\\n",
       "0       160.8       967.8        5.8  ...                  0.0   \n",
       "1        55.6       302.0        2.8  ...                  0.0   \n",
       "2        64.4       261.4        3.7  ...                  0.0   \n",
       "3        92.9       491.2        4.8  ...                  0.0   \n",
       "4        72.1       373.7        2.4  ...                  0.0   \n",
       "\n",
       "   ExtraPointsMade  TotalSacks  TotalInt  FumblesRecovered  FumblesForced  \\\n",
       "0              0.0         0.0       0.0               0.0            0.0   \n",
       "1              0.0         0.0       0.0               0.0            0.0   \n",
       "2              0.0         0.0       0.0               0.0            0.0   \n",
       "3              0.0         0.0       0.0               0.0            0.0   \n",
       "4              0.0         0.0       0.0               0.0            0.0   \n",
       "\n",
       "   DefensiveTDs  SafetysForced  PointsAllowed  FantasyPoints  \n",
       "0           0.0            0.0            0.0          361.1  \n",
       "1           0.0            0.0            0.0          345.1  \n",
       "2           0.0            0.0            0.0          318.5  \n",
       "3           0.0            0.0            0.0          312.7  \n",
       "4           0.0            0.0            0.0          308.5  \n",
       "\n",
       "[5 rows x 26 columns]"
      ],
      "text/html": "<div>\n<style scoped>\n    .dataframe tbody tr th:only-of-type {\n        vertical-align: middle;\n    }\n\n    .dataframe tbody tr th {\n        vertical-align: top;\n    }\n\n    .dataframe thead th {\n        text-align: right;\n    }\n</style>\n<table border=\"1\" class=\"dataframe\">\n  <thead>\n    <tr style=\"text-align: right;\">\n      <th></th>\n      <th>Player</th>\n      <th>Team</th>\n      <th>Pos</th>\n      <th>Receptions</th>\n      <th>ReceivingYds</th>\n      <th>ReceivingTD</th>\n      <th>FL</th>\n      <th>RushingAtt</th>\n      <th>RushingYds</th>\n      <th>RushingTD</th>\n      <th>...</th>\n      <th>FieldGoalsAttempted</th>\n      <th>ExtraPointsMade</th>\n      <th>TotalSacks</th>\n      <th>TotalInt</th>\n      <th>FumblesRecovered</th>\n      <th>FumblesForced</th>\n      <th>DefensiveTDs</th>\n      <th>SafetysForced</th>\n      <th>PointsAllowed</th>\n      <th>FantasyPoints</th>\n    </tr>\n  </thead>\n  <tbody>\n    <tr>\n      <th>0</th>\n      <td>Lamar Jackson</td>\n      <td>BAL</td>\n      <td>QB</td>\n      <td>0.0</td>\n      <td>0.0</td>\n      <td>0.0</td>\n      <td>2.4</td>\n      <td>160.8</td>\n      <td>967.8</td>\n      <td>5.8</td>\n      <td>...</td>\n      <td>0.0</td>\n      <td>0.0</td>\n      <td>0.0</td>\n      <td>0.0</td>\n      <td>0.0</td>\n      <td>0.0</td>\n      <td>0.0</td>\n      <td>0.0</td>\n      <td>0.0</td>\n      <td>361.1</td>\n    </tr>\n    <tr>\n      <th>1</th>\n      <td>Patrick Mahomes</td>\n      <td>KC</td>\n      <td>QB</td>\n      <td>0.0</td>\n      <td>0.0</td>\n      <td>0.0</td>\n      <td>1.2</td>\n      <td>55.6</td>\n      <td>302.0</td>\n      <td>2.8</td>\n      <td>...</td>\n      <td>0.0</td>\n      <td>0.0</td>\n      <td>0.0</td>\n      <td>0.0</td>\n      <td>0.0</td>\n      <td>0.0</td>\n      <td>0.0</td>\n      <td>0.0</td>\n      <td>0.0</td>\n      <td>345.1</td>\n    </tr>\n    <tr>\n      <th>2</th>\n      <td>Dak Prescott</td>\n      <td>DAL</td>\n      <td>QB</td>\n      <td>0.0</td>\n      <td>0.0</td>\n      <td>0.0</td>\n      <td>2.3</td>\n      <td>64.4</td>\n      <td>261.4</td>\n      <td>3.7</td>\n      <td>...</td>\n      <td>0.0</td>\n      <td>0.0</td>\n      <td>0.0</td>\n      <td>0.0</td>\n      <td>0.0</td>\n      <td>0.0</td>\n      <td>0.0</td>\n      <td>0.0</td>\n      <td>0.0</td>\n      <td>318.5</td>\n    </tr>\n    <tr>\n      <th>3</th>\n      <td>Deshaun Watson</td>\n      <td>HOU</td>\n      <td>QB</td>\n      <td>0.0</td>\n      <td>0.0</td>\n      <td>0.0</td>\n      <td>1.8</td>\n      <td>92.9</td>\n      <td>491.2</td>\n      <td>4.8</td>\n      <td>...</td>\n      <td>0.0</td>\n      <td>0.0</td>\n      <td>0.0</td>\n      <td>0.0</td>\n      <td>0.0</td>\n      <td>0.0</td>\n      <td>0.0</td>\n      <td>0.0</td>\n      <td>0.0</td>\n      <td>312.7</td>\n    </tr>\n    <tr>\n      <th>4</th>\n      <td>Russell Wilson</td>\n      <td>SEA</td>\n      <td>QB</td>\n      <td>0.0</td>\n      <td>0.0</td>\n      <td>0.0</td>\n      <td>1.6</td>\n      <td>72.1</td>\n      <td>373.7</td>\n      <td>2.4</td>\n      <td>...</td>\n      <td>0.0</td>\n      <td>0.0</td>\n      <td>0.0</td>\n      <td>0.0</td>\n      <td>0.0</td>\n      <td>0.0</td>\n      <td>0.0</td>\n      <td>0.0</td>\n      <td>0.0</td>\n      <td>308.5</td>\n    </tr>\n  </tbody>\n</table>\n<p>5 rows × 26 columns</p>\n</div>"
     },
     "metadata": {},
     "execution_count": 4
    }
   ],
   "source": [
    "df = pd.read_csv('https://raw.githubusercontent.com/fantasydatapros/data/master/fantasypros/fp_projections.csv')\n",
    "\n",
    "df = df.iloc[:, 1:]\n",
    "\n",
    "df.head()"
   ]
  },
  {
   "cell_type": "code",
   "execution_count": 8,
   "metadata": {},
   "outputs": [],
   "source": [
    "scoring_weights = {\n",
    "    'receptions': 1, #PPR\n",
    "    'receiving_yds': 0.1,\n",
    "    'receiving_td': 6,\n",
    "    'FL': -2, #fumbles lost\n",
    "    'rushing_yds': 0.1,\n",
    "    'rushing_td': 6,\n",
    "    'passing_yds': 0.04,\n",
    "    'passing_td': 4,\n",
    "    'int': -2\n",
    "}"
   ]
  },
  {
   "cell_type": "code",
   "execution_count": 10,
   "metadata": {},
   "outputs": [
    {
     "output_type": "execute_result",
     "data": {
      "text/plain": [
       "            Player Team Pos  Receptions  ReceivingYds  ReceivingTD   FL  \\\n",
       "0    Lamar Jackson  BAL  QB         0.0           0.0          0.0  2.4   \n",
       "1  Patrick Mahomes   KC  QB         0.0           0.0          0.0  1.2   \n",
       "2     Dak Prescott  DAL  QB         0.0           0.0          0.0  2.3   \n",
       "3   Deshaun Watson  HOU  QB         0.0           0.0          0.0  1.8   \n",
       "4   Russell Wilson  SEA  QB         0.0           0.0          0.0  1.6   \n",
       "\n",
       "   RushingAtt  RushingYds  RushingTD  ...  FieldGoalsAttempted  \\\n",
       "0       160.8       967.8        5.8  ...                  0.0   \n",
       "1        55.6       302.0        2.8  ...                  0.0   \n",
       "2        64.4       261.4        3.7  ...                  0.0   \n",
       "3        92.9       491.2        4.8  ...                  0.0   \n",
       "4        72.1       373.7        2.4  ...                  0.0   \n",
       "\n",
       "   ExtraPointsMade  TotalSacks  TotalInt  FumblesRecovered  FumblesForced  \\\n",
       "0              0.0         0.0       0.0               0.0            0.0   \n",
       "1              0.0         0.0       0.0               0.0            0.0   \n",
       "2              0.0         0.0       0.0               0.0            0.0   \n",
       "3              0.0         0.0       0.0               0.0            0.0   \n",
       "4              0.0         0.0       0.0               0.0            0.0   \n",
       "\n",
       "   DefensiveTDs  SafetysForced  PointsAllowed  FantasyPoints  \n",
       "0           0.0            0.0            0.0        361.124  \n",
       "1           0.0            0.0            0.0        345.384  \n",
       "2           0.0            0.0            0.0        318.416  \n",
       "3           0.0            0.0            0.0        312.888  \n",
       "4           0.0            0.0            0.0        308.462  \n",
       "\n",
       "[5 rows x 26 columns]"
      ],
      "text/html": "<div>\n<style scoped>\n    .dataframe tbody tr th:only-of-type {\n        vertical-align: middle;\n    }\n\n    .dataframe tbody tr th {\n        vertical-align: top;\n    }\n\n    .dataframe thead th {\n        text-align: right;\n    }\n</style>\n<table border=\"1\" class=\"dataframe\">\n  <thead>\n    <tr style=\"text-align: right;\">\n      <th></th>\n      <th>Player</th>\n      <th>Team</th>\n      <th>Pos</th>\n      <th>Receptions</th>\n      <th>ReceivingYds</th>\n      <th>ReceivingTD</th>\n      <th>FL</th>\n      <th>RushingAtt</th>\n      <th>RushingYds</th>\n      <th>RushingTD</th>\n      <th>...</th>\n      <th>FieldGoalsAttempted</th>\n      <th>ExtraPointsMade</th>\n      <th>TotalSacks</th>\n      <th>TotalInt</th>\n      <th>FumblesRecovered</th>\n      <th>FumblesForced</th>\n      <th>DefensiveTDs</th>\n      <th>SafetysForced</th>\n      <th>PointsAllowed</th>\n      <th>FantasyPoints</th>\n    </tr>\n  </thead>\n  <tbody>\n    <tr>\n      <th>0</th>\n      <td>Lamar Jackson</td>\n      <td>BAL</td>\n      <td>QB</td>\n      <td>0.0</td>\n      <td>0.0</td>\n      <td>0.0</td>\n      <td>2.4</td>\n      <td>160.8</td>\n      <td>967.8</td>\n      <td>5.8</td>\n      <td>...</td>\n      <td>0.0</td>\n      <td>0.0</td>\n      <td>0.0</td>\n      <td>0.0</td>\n      <td>0.0</td>\n      <td>0.0</td>\n      <td>0.0</td>\n      <td>0.0</td>\n      <td>0.0</td>\n      <td>361.124</td>\n    </tr>\n    <tr>\n      <th>1</th>\n      <td>Patrick Mahomes</td>\n      <td>KC</td>\n      <td>QB</td>\n      <td>0.0</td>\n      <td>0.0</td>\n      <td>0.0</td>\n      <td>1.2</td>\n      <td>55.6</td>\n      <td>302.0</td>\n      <td>2.8</td>\n      <td>...</td>\n      <td>0.0</td>\n      <td>0.0</td>\n      <td>0.0</td>\n      <td>0.0</td>\n      <td>0.0</td>\n      <td>0.0</td>\n      <td>0.0</td>\n      <td>0.0</td>\n      <td>0.0</td>\n      <td>345.384</td>\n    </tr>\n    <tr>\n      <th>2</th>\n      <td>Dak Prescott</td>\n      <td>DAL</td>\n      <td>QB</td>\n      <td>0.0</td>\n      <td>0.0</td>\n      <td>0.0</td>\n      <td>2.3</td>\n      <td>64.4</td>\n      <td>261.4</td>\n      <td>3.7</td>\n      <td>...</td>\n      <td>0.0</td>\n      <td>0.0</td>\n      <td>0.0</td>\n      <td>0.0</td>\n      <td>0.0</td>\n      <td>0.0</td>\n      <td>0.0</td>\n      <td>0.0</td>\n      <td>0.0</td>\n      <td>318.416</td>\n    </tr>\n    <tr>\n      <th>3</th>\n      <td>Deshaun Watson</td>\n      <td>HOU</td>\n      <td>QB</td>\n      <td>0.0</td>\n      <td>0.0</td>\n      <td>0.0</td>\n      <td>1.8</td>\n      <td>92.9</td>\n      <td>491.2</td>\n      <td>4.8</td>\n      <td>...</td>\n      <td>0.0</td>\n      <td>0.0</td>\n      <td>0.0</td>\n      <td>0.0</td>\n      <td>0.0</td>\n      <td>0.0</td>\n      <td>0.0</td>\n      <td>0.0</td>\n      <td>0.0</td>\n      <td>312.888</td>\n    </tr>\n    <tr>\n      <th>4</th>\n      <td>Russell Wilson</td>\n      <td>SEA</td>\n      <td>QB</td>\n      <td>0.0</td>\n      <td>0.0</td>\n      <td>0.0</td>\n      <td>1.6</td>\n      <td>72.1</td>\n      <td>373.7</td>\n      <td>2.4</td>\n      <td>...</td>\n      <td>0.0</td>\n      <td>0.0</td>\n      <td>0.0</td>\n      <td>0.0</td>\n      <td>0.0</td>\n      <td>0.0</td>\n      <td>0.0</td>\n      <td>0.0</td>\n      <td>0.0</td>\n      <td>308.462</td>\n    </tr>\n  </tbody>\n</table>\n<p>5 rows × 26 columns</p>\n</div>"
     },
     "metadata": {},
     "execution_count": 10
    }
   ],
   "source": [
    "# overriding the fantasy points column with our own league settings\n",
    "df['FantasyPoints'] = (\n",
    "    df['Receptions']*scoring_weights['receptions'] + df['ReceivingYds']*scoring_weights['receiving_yds'] + \\\n",
    "    df['ReceivingTD']*scoring_weights['receiving_td'] + df['FL']*scoring_weights['FL'] + \\\n",
    "    df['RushingYds']*scoring_weights['rushing_yds'] + df['RushingTD']*scoring_weights['rushing_td'] + \\\n",
    "    df['PassingYds']*scoring_weights['passing_yds'] + df['PassingTD']*scoring_weights['passing_td'] + \\\n",
    "    df['Int']*scoring_weights['int'] )\n",
    "\n",
    "df.head()"
   ]
  },
  {
   "cell_type": "code",
   "execution_count": 11,
   "metadata": {},
   "outputs": [
    {
     "output_type": "execute_result",
     "data": {
      "text/plain": [
       "                 Player Team Pos  Receptions  ReceivingYds  ReceivingTD   FL  \\\n",
       "12  Christian McCaffrey  CAR  RB       102.8         855.8          4.5  2.2   \n",
       "23       Saquon Barkley  NYG  RB        66.2         536.9          2.7  1.5   \n",
       "25      Ezekiel Elliott  DAL  RB        59.3         468.6          2.6  2.6   \n",
       "26        Derrick Henry  TEN  RB        21.5         183.7          1.0  2.4   \n",
       "30          Dalvin Cook  MIN  RB        58.1         519.8          1.9  2.7   \n",
       "\n",
       "    RushingAtt  RushingYds  RushingTD  ...  FieldGoalsAttempted  \\\n",
       "12       252.7      1130.8        8.5  ...                  0.0   \n",
       "23       271.2      1237.0        9.0  ...                  0.0   \n",
       "25       288.0      1261.9        9.5  ...                  0.0   \n",
       "26       294.8      1481.1       12.1  ...                  0.0   \n",
       "30       262.7      1151.0        9.8  ...                  0.0   \n",
       "\n",
       "    ExtraPointsMade  TotalSacks  TotalInt  FumblesRecovered  FumblesForced  \\\n",
       "12              0.0         0.0       0.0               0.0            0.0   \n",
       "23              0.0         0.0       0.0               0.0            0.0   \n",
       "25              0.0         0.0       0.0               0.0            0.0   \n",
       "26              0.0         0.0       0.0               0.0            0.0   \n",
       "30              0.0         0.0       0.0               0.0            0.0   \n",
       "\n",
       "    DefensiveTDs  SafetysForced  PointsAllowed  FantasyPoints  \n",
       "12           0.0            0.0            0.0         375.06  \n",
       "23           0.0            0.0            0.0         310.79  \n",
       "25           0.0            0.0            0.0         299.75  \n",
       "26           0.0            0.0            0.0         261.78  \n",
       "30           0.0            0.0            0.0         289.98  \n",
       "\n",
       "[5 rows x 26 columns]"
      ],
      "text/html": "<div>\n<style scoped>\n    .dataframe tbody tr th:only-of-type {\n        vertical-align: middle;\n    }\n\n    .dataframe tbody tr th {\n        vertical-align: top;\n    }\n\n    .dataframe thead th {\n        text-align: right;\n    }\n</style>\n<table border=\"1\" class=\"dataframe\">\n  <thead>\n    <tr style=\"text-align: right;\">\n      <th></th>\n      <th>Player</th>\n      <th>Team</th>\n      <th>Pos</th>\n      <th>Receptions</th>\n      <th>ReceivingYds</th>\n      <th>ReceivingTD</th>\n      <th>FL</th>\n      <th>RushingAtt</th>\n      <th>RushingYds</th>\n      <th>RushingTD</th>\n      <th>...</th>\n      <th>FieldGoalsAttempted</th>\n      <th>ExtraPointsMade</th>\n      <th>TotalSacks</th>\n      <th>TotalInt</th>\n      <th>FumblesRecovered</th>\n      <th>FumblesForced</th>\n      <th>DefensiveTDs</th>\n      <th>SafetysForced</th>\n      <th>PointsAllowed</th>\n      <th>FantasyPoints</th>\n    </tr>\n  </thead>\n  <tbody>\n    <tr>\n      <th>12</th>\n      <td>Christian McCaffrey</td>\n      <td>CAR</td>\n      <td>RB</td>\n      <td>102.8</td>\n      <td>855.8</td>\n      <td>4.5</td>\n      <td>2.2</td>\n      <td>252.7</td>\n      <td>1130.8</td>\n      <td>8.5</td>\n      <td>...</td>\n      <td>0.0</td>\n      <td>0.0</td>\n      <td>0.0</td>\n      <td>0.0</td>\n      <td>0.0</td>\n      <td>0.0</td>\n      <td>0.0</td>\n      <td>0.0</td>\n      <td>0.0</td>\n      <td>375.06</td>\n    </tr>\n    <tr>\n      <th>23</th>\n      <td>Saquon Barkley</td>\n      <td>NYG</td>\n      <td>RB</td>\n      <td>66.2</td>\n      <td>536.9</td>\n      <td>2.7</td>\n      <td>1.5</td>\n      <td>271.2</td>\n      <td>1237.0</td>\n      <td>9.0</td>\n      <td>...</td>\n      <td>0.0</td>\n      <td>0.0</td>\n      <td>0.0</td>\n      <td>0.0</td>\n      <td>0.0</td>\n      <td>0.0</td>\n      <td>0.0</td>\n      <td>0.0</td>\n      <td>0.0</td>\n      <td>310.79</td>\n    </tr>\n    <tr>\n      <th>25</th>\n      <td>Ezekiel Elliott</td>\n      <td>DAL</td>\n      <td>RB</td>\n      <td>59.3</td>\n      <td>468.6</td>\n      <td>2.6</td>\n      <td>2.6</td>\n      <td>288.0</td>\n      <td>1261.9</td>\n      <td>9.5</td>\n      <td>...</td>\n      <td>0.0</td>\n      <td>0.0</td>\n      <td>0.0</td>\n      <td>0.0</td>\n      <td>0.0</td>\n      <td>0.0</td>\n      <td>0.0</td>\n      <td>0.0</td>\n      <td>0.0</td>\n      <td>299.75</td>\n    </tr>\n    <tr>\n      <th>26</th>\n      <td>Derrick Henry</td>\n      <td>TEN</td>\n      <td>RB</td>\n      <td>21.5</td>\n      <td>183.7</td>\n      <td>1.0</td>\n      <td>2.4</td>\n      <td>294.8</td>\n      <td>1481.1</td>\n      <td>12.1</td>\n      <td>...</td>\n      <td>0.0</td>\n      <td>0.0</td>\n      <td>0.0</td>\n      <td>0.0</td>\n      <td>0.0</td>\n      <td>0.0</td>\n      <td>0.0</td>\n      <td>0.0</td>\n      <td>0.0</td>\n      <td>261.78</td>\n    </tr>\n    <tr>\n      <th>30</th>\n      <td>Dalvin Cook</td>\n      <td>MIN</td>\n      <td>RB</td>\n      <td>58.1</td>\n      <td>519.8</td>\n      <td>1.9</td>\n      <td>2.7</td>\n      <td>262.7</td>\n      <td>1151.0</td>\n      <td>9.8</td>\n      <td>...</td>\n      <td>0.0</td>\n      <td>0.0</td>\n      <td>0.0</td>\n      <td>0.0</td>\n      <td>0.0</td>\n      <td>0.0</td>\n      <td>0.0</td>\n      <td>0.0</td>\n      <td>0.0</td>\n      <td>289.98</td>\n    </tr>\n  </tbody>\n</table>\n<p>5 rows × 26 columns</p>\n</div>"
     },
     "metadata": {},
     "execution_count": 11
    }
   ],
   "source": [
    "rb_df = df.loc[df['Pos'] == 'RB']\n",
    "rb_df.head()"
   ]
  },
  {
   "cell_type": "code",
   "execution_count": 12,
   "metadata": {},
   "outputs": [
    {
     "output_type": "execute_result",
     "data": {
      "text/plain": [
       "                 Player Team Pos  FantasyPoints  Receptions  ReceivingYds  \\\n",
       "12  Christian McCaffrey  CAR  RB         375.06       102.8         855.8   \n",
       "23       Saquon Barkley  NYG  RB         310.79        66.2         536.9   \n",
       "25      Ezekiel Elliott  DAL  RB         299.75        59.3         468.6   \n",
       "26        Derrick Henry  TEN  RB         261.78        21.5         183.7   \n",
       "30          Dalvin Cook  MIN  RB         289.98        58.1         519.8   \n",
       "\n",
       "    ReceivingTD  RushingAtt  RushingYds  RushingTD   FL  \n",
       "12          4.5       252.7      1130.8        8.5  2.2  \n",
       "23          2.7       271.2      1237.0        9.0  1.5  \n",
       "25          2.6       288.0      1261.9        9.5  2.6  \n",
       "26          1.0       294.8      1481.1       12.1  2.4  \n",
       "30          1.9       262.7      1151.0        9.8  2.7  "
      ],
      "text/html": "<div>\n<style scoped>\n    .dataframe tbody tr th:only-of-type {\n        vertical-align: middle;\n    }\n\n    .dataframe tbody tr th {\n        vertical-align: top;\n    }\n\n    .dataframe thead th {\n        text-align: right;\n    }\n</style>\n<table border=\"1\" class=\"dataframe\">\n  <thead>\n    <tr style=\"text-align: right;\">\n      <th></th>\n      <th>Player</th>\n      <th>Team</th>\n      <th>Pos</th>\n      <th>FantasyPoints</th>\n      <th>Receptions</th>\n      <th>ReceivingYds</th>\n      <th>ReceivingTD</th>\n      <th>RushingAtt</th>\n      <th>RushingYds</th>\n      <th>RushingTD</th>\n      <th>FL</th>\n    </tr>\n  </thead>\n  <tbody>\n    <tr>\n      <th>12</th>\n      <td>Christian McCaffrey</td>\n      <td>CAR</td>\n      <td>RB</td>\n      <td>375.06</td>\n      <td>102.8</td>\n      <td>855.8</td>\n      <td>4.5</td>\n      <td>252.7</td>\n      <td>1130.8</td>\n      <td>8.5</td>\n      <td>2.2</td>\n    </tr>\n    <tr>\n      <th>23</th>\n      <td>Saquon Barkley</td>\n      <td>NYG</td>\n      <td>RB</td>\n      <td>310.79</td>\n      <td>66.2</td>\n      <td>536.9</td>\n      <td>2.7</td>\n      <td>271.2</td>\n      <td>1237.0</td>\n      <td>9.0</td>\n      <td>1.5</td>\n    </tr>\n    <tr>\n      <th>25</th>\n      <td>Ezekiel Elliott</td>\n      <td>DAL</td>\n      <td>RB</td>\n      <td>299.75</td>\n      <td>59.3</td>\n      <td>468.6</td>\n      <td>2.6</td>\n      <td>288.0</td>\n      <td>1261.9</td>\n      <td>9.5</td>\n      <td>2.6</td>\n    </tr>\n    <tr>\n      <th>26</th>\n      <td>Derrick Henry</td>\n      <td>TEN</td>\n      <td>RB</td>\n      <td>261.78</td>\n      <td>21.5</td>\n      <td>183.7</td>\n      <td>1.0</td>\n      <td>294.8</td>\n      <td>1481.1</td>\n      <td>12.1</td>\n      <td>2.4</td>\n    </tr>\n    <tr>\n      <th>30</th>\n      <td>Dalvin Cook</td>\n      <td>MIN</td>\n      <td>RB</td>\n      <td>289.98</td>\n      <td>58.1</td>\n      <td>519.8</td>\n      <td>1.9</td>\n      <td>262.7</td>\n      <td>1151.0</td>\n      <td>9.8</td>\n      <td>2.7</td>\n    </tr>\n  </tbody>\n</table>\n</div>"
     },
     "metadata": {},
     "execution_count": 12
    }
   ],
   "source": [
    "base_columns = ['Player', 'Team', 'Pos']\n",
    "rushing_columns = ['FantasyPoints', 'Receptions', 'ReceivingYds', 'ReceivingTD', 'RushingAtt', 'RushingYds', 'RushingTD', 'FL']\n",
    "\n",
    "\"\"\"\n",
    "Here, we can mask (what we are doing in the row indexer) and filter (what we are doing in the column indexer)\n",
    "all in one line. Pass in (the boolean indexer, columns you'd like to keep) as a tuple.\n",
    "Also recall that lists can be concatenated together.\n",
    "\"\"\"\n",
    "rb_df = df.loc[(df['Pos'] == 'RB', base_columns + rushing_columns)]\n",
    "\n",
    "rb_df.head()"
   ]
  },
  {
   "cell_type": "code",
   "execution_count": 13,
   "metadata": {},
   "outputs": [
    {
     "output_type": "execute_result",
     "data": {
      "text/plain": [
       "                   Player Team Pos  FantasyPoints  Receptions  ReceivingYds  \\\n",
       "26          Derrick Henry  TEN  RB         261.78        21.5         183.7   \n",
       "25        Ezekiel Elliott  DAL  RB         299.75        59.3         468.6   \n",
       "37             Nick Chubb  CLE  RB         224.94        24.8         191.5   \n",
       "23         Saquon Barkley  NYG  RB         310.79        66.2         536.9   \n",
       "41            Josh Jacobs   LV  RB         222.94        28.5         222.1   \n",
       "36              Joe Mixon  CIN  RB         240.98        39.7         306.2   \n",
       "30            Dalvin Cook  MIN  RB         289.98        58.1         519.8   \n",
       "12    Christian McCaffrey  CAR  RB         375.06       102.8         855.8   \n",
       "45           Chris Carson  SEA  RB         215.87        31.5         245.1   \n",
       "38          Miles Sanders  PHI  RB         249.22        51.7         462.6   \n",
       "39            Aaron Jones   GB  RB         239.98        43.2         353.3   \n",
       "42           Kenyan Drake  ARI  RB         246.12        54.3         414.3   \n",
       "35  Clyde Edwards-Helaire   KC  RB         254.23        51.0         455.1   \n",
       "49           James Conner  PIT  RB         214.98        41.4         335.2   \n",
       "33           Alvin Kamara   NO  RB         295.95        83.0         600.6   \n",
       "\n",
       "    ReceivingTD  RushingAtt  RushingYds  RushingTD   FL  \n",
       "26          1.0       294.8      1481.1       12.1  2.4  \n",
       "25          2.6       288.0      1261.9        9.5  2.6  \n",
       "37          1.1       275.4      1251.9        8.9  2.1  \n",
       "23          2.7       271.2      1237.0        9.0  1.5  \n",
       "41          0.8       267.4      1186.3        8.8  2.0  \n",
       "36          1.7       269.5      1178.6        7.7  1.8  \n",
       "30          1.9       262.7      1151.0        9.8  2.7  \n",
       "12          4.5       252.7      1130.8        8.5  2.2  \n",
       "45          1.3       244.0      1100.6        7.8  2.4  \n",
       "38          2.4       234.7      1050.6        6.0  2.1  \n",
       "39          2.1       211.7       962.5        9.3  1.6  \n",
       "42          2.2       208.9       961.9        7.4  1.7  \n",
       "35          3.1       211.2       943.2        8.2  2.2  \n",
       "49          2.0       225.1       938.6        6.5  2.4  \n",
       "33          2.8       201.4       920.9        7.9  1.7  "
      ],
      "text/html": "<div>\n<style scoped>\n    .dataframe tbody tr th:only-of-type {\n        vertical-align: middle;\n    }\n\n    .dataframe tbody tr th {\n        vertical-align: top;\n    }\n\n    .dataframe thead th {\n        text-align: right;\n    }\n</style>\n<table border=\"1\" class=\"dataframe\">\n  <thead>\n    <tr style=\"text-align: right;\">\n      <th></th>\n      <th>Player</th>\n      <th>Team</th>\n      <th>Pos</th>\n      <th>FantasyPoints</th>\n      <th>Receptions</th>\n      <th>ReceivingYds</th>\n      <th>ReceivingTD</th>\n      <th>RushingAtt</th>\n      <th>RushingYds</th>\n      <th>RushingTD</th>\n      <th>FL</th>\n    </tr>\n  </thead>\n  <tbody>\n    <tr>\n      <th>26</th>\n      <td>Derrick Henry</td>\n      <td>TEN</td>\n      <td>RB</td>\n      <td>261.78</td>\n      <td>21.5</td>\n      <td>183.7</td>\n      <td>1.0</td>\n      <td>294.8</td>\n      <td>1481.1</td>\n      <td>12.1</td>\n      <td>2.4</td>\n    </tr>\n    <tr>\n      <th>25</th>\n      <td>Ezekiel Elliott</td>\n      <td>DAL</td>\n      <td>RB</td>\n      <td>299.75</td>\n      <td>59.3</td>\n      <td>468.6</td>\n      <td>2.6</td>\n      <td>288.0</td>\n      <td>1261.9</td>\n      <td>9.5</td>\n      <td>2.6</td>\n    </tr>\n    <tr>\n      <th>37</th>\n      <td>Nick Chubb</td>\n      <td>CLE</td>\n      <td>RB</td>\n      <td>224.94</td>\n      <td>24.8</td>\n      <td>191.5</td>\n      <td>1.1</td>\n      <td>275.4</td>\n      <td>1251.9</td>\n      <td>8.9</td>\n      <td>2.1</td>\n    </tr>\n    <tr>\n      <th>23</th>\n      <td>Saquon Barkley</td>\n      <td>NYG</td>\n      <td>RB</td>\n      <td>310.79</td>\n      <td>66.2</td>\n      <td>536.9</td>\n      <td>2.7</td>\n      <td>271.2</td>\n      <td>1237.0</td>\n      <td>9.0</td>\n      <td>1.5</td>\n    </tr>\n    <tr>\n      <th>41</th>\n      <td>Josh Jacobs</td>\n      <td>LV</td>\n      <td>RB</td>\n      <td>222.94</td>\n      <td>28.5</td>\n      <td>222.1</td>\n      <td>0.8</td>\n      <td>267.4</td>\n      <td>1186.3</td>\n      <td>8.8</td>\n      <td>2.0</td>\n    </tr>\n    <tr>\n      <th>36</th>\n      <td>Joe Mixon</td>\n      <td>CIN</td>\n      <td>RB</td>\n      <td>240.98</td>\n      <td>39.7</td>\n      <td>306.2</td>\n      <td>1.7</td>\n      <td>269.5</td>\n      <td>1178.6</td>\n      <td>7.7</td>\n      <td>1.8</td>\n    </tr>\n    <tr>\n      <th>30</th>\n      <td>Dalvin Cook</td>\n      <td>MIN</td>\n      <td>RB</td>\n      <td>289.98</td>\n      <td>58.1</td>\n      <td>519.8</td>\n      <td>1.9</td>\n      <td>262.7</td>\n      <td>1151.0</td>\n      <td>9.8</td>\n      <td>2.7</td>\n    </tr>\n    <tr>\n      <th>12</th>\n      <td>Christian McCaffrey</td>\n      <td>CAR</td>\n      <td>RB</td>\n      <td>375.06</td>\n      <td>102.8</td>\n      <td>855.8</td>\n      <td>4.5</td>\n      <td>252.7</td>\n      <td>1130.8</td>\n      <td>8.5</td>\n      <td>2.2</td>\n    </tr>\n    <tr>\n      <th>45</th>\n      <td>Chris Carson</td>\n      <td>SEA</td>\n      <td>RB</td>\n      <td>215.87</td>\n      <td>31.5</td>\n      <td>245.1</td>\n      <td>1.3</td>\n      <td>244.0</td>\n      <td>1100.6</td>\n      <td>7.8</td>\n      <td>2.4</td>\n    </tr>\n    <tr>\n      <th>38</th>\n      <td>Miles Sanders</td>\n      <td>PHI</td>\n      <td>RB</td>\n      <td>249.22</td>\n      <td>51.7</td>\n      <td>462.6</td>\n      <td>2.4</td>\n      <td>234.7</td>\n      <td>1050.6</td>\n      <td>6.0</td>\n      <td>2.1</td>\n    </tr>\n    <tr>\n      <th>39</th>\n      <td>Aaron Jones</td>\n      <td>GB</td>\n      <td>RB</td>\n      <td>239.98</td>\n      <td>43.2</td>\n      <td>353.3</td>\n      <td>2.1</td>\n      <td>211.7</td>\n      <td>962.5</td>\n      <td>9.3</td>\n      <td>1.6</td>\n    </tr>\n    <tr>\n      <th>42</th>\n      <td>Kenyan Drake</td>\n      <td>ARI</td>\n      <td>RB</td>\n      <td>246.12</td>\n      <td>54.3</td>\n      <td>414.3</td>\n      <td>2.2</td>\n      <td>208.9</td>\n      <td>961.9</td>\n      <td>7.4</td>\n      <td>1.7</td>\n    </tr>\n    <tr>\n      <th>35</th>\n      <td>Clyde Edwards-Helaire</td>\n      <td>KC</td>\n      <td>RB</td>\n      <td>254.23</td>\n      <td>51.0</td>\n      <td>455.1</td>\n      <td>3.1</td>\n      <td>211.2</td>\n      <td>943.2</td>\n      <td>8.2</td>\n      <td>2.2</td>\n    </tr>\n    <tr>\n      <th>49</th>\n      <td>James Conner</td>\n      <td>PIT</td>\n      <td>RB</td>\n      <td>214.98</td>\n      <td>41.4</td>\n      <td>335.2</td>\n      <td>2.0</td>\n      <td>225.1</td>\n      <td>938.6</td>\n      <td>6.5</td>\n      <td>2.4</td>\n    </tr>\n    <tr>\n      <th>33</th>\n      <td>Alvin Kamara</td>\n      <td>NO</td>\n      <td>RB</td>\n      <td>295.95</td>\n      <td>83.0</td>\n      <td>600.6</td>\n      <td>2.8</td>\n      <td>201.4</td>\n      <td>920.9</td>\n      <td>7.9</td>\n      <td>1.7</td>\n    </tr>\n  </tbody>\n</table>\n</div>"
     },
     "metadata": {},
     "execution_count": 13
    }
   ],
   "source": [
    "\"\"\"\n",
    "The sort_values method of a DataFrame allows us sort our table by a given column.\n",
    "\n",
    "The 'by' parameter of the function here is a required argument, and it should be the name of \n",
    "one of the columns in your table.\n",
    "\n",
    "The 'ascending' argument is optional. If you want to sort your table from largest to smallest, set\n",
    "ascending = False to sort in descending order. The object we get back from the sort_values function\n",
    "is also a pandas DataFrame, and so we can chain methods as we do below with sort_values and head.\n",
    "\n",
    "https://pandas.pydata.org/pandas-docs/stable/reference/api/pandas.DataFrame.sort_values.html\n",
    "\"\"\"\n",
    "\n",
    "# sort RBs by RushingYds in descending order and get us back the top 15 rows.\n",
    "rb_df.sort_values(by='RushingYds', ascending=False).head(15)"
   ]
  },
  {
   "cell_type": "code",
   "execution_count": 14,
   "metadata": {},
   "outputs": [
    {
     "output_type": "execute_result",
     "data": {
      "text/plain": [
       "               count        mean         std   min    25%     50%      75%  \\\n",
       "FantasyPoints  155.0   82.383871   83.097178  1.05  14.74   53.82  125.385   \n",
       "Receptions     155.0   17.506452   18.480993  0.40   4.05   10.60   24.000   \n",
       "ReceivingYds   155.0  140.300645  153.581122  3.10  30.30   85.70  198.100   \n",
       "ReceivingTD    155.0    0.708387    0.882143  0.00   0.10    0.30    1.000   \n",
       "RushingAtt     155.0   78.225161   82.304474  0.00   6.75   46.70  137.900   \n",
       "RushingYds     155.0  334.525161  359.322937  2.50  45.80  176.70  559.900   \n",
       "RushingTD      155.0    2.428387    2.723008  0.00   0.30    1.20    3.900   \n",
       "FL             155.0    0.712903    0.757106  0.00   0.00    0.50    1.300   \n",
       "\n",
       "                   max  \n",
       "FantasyPoints   375.06  \n",
       "Receptions      102.80  \n",
       "ReceivingYds    855.80  \n",
       "ReceivingTD       4.50  \n",
       "RushingAtt      294.80  \n",
       "RushingYds     1481.10  \n",
       "RushingTD        12.10  \n",
       "FL                2.70  "
      ],
      "text/html": "<div>\n<style scoped>\n    .dataframe tbody tr th:only-of-type {\n        vertical-align: middle;\n    }\n\n    .dataframe tbody tr th {\n        vertical-align: top;\n    }\n\n    .dataframe thead th {\n        text-align: right;\n    }\n</style>\n<table border=\"1\" class=\"dataframe\">\n  <thead>\n    <tr style=\"text-align: right;\">\n      <th></th>\n      <th>count</th>\n      <th>mean</th>\n      <th>std</th>\n      <th>min</th>\n      <th>25%</th>\n      <th>50%</th>\n      <th>75%</th>\n      <th>max</th>\n    </tr>\n  </thead>\n  <tbody>\n    <tr>\n      <th>FantasyPoints</th>\n      <td>155.0</td>\n      <td>82.383871</td>\n      <td>83.097178</td>\n      <td>1.05</td>\n      <td>14.74</td>\n      <td>53.82</td>\n      <td>125.385</td>\n      <td>375.06</td>\n    </tr>\n    <tr>\n      <th>Receptions</th>\n      <td>155.0</td>\n      <td>17.506452</td>\n      <td>18.480993</td>\n      <td>0.40</td>\n      <td>4.05</td>\n      <td>10.60</td>\n      <td>24.000</td>\n      <td>102.80</td>\n    </tr>\n    <tr>\n      <th>ReceivingYds</th>\n      <td>155.0</td>\n      <td>140.300645</td>\n      <td>153.581122</td>\n      <td>3.10</td>\n      <td>30.30</td>\n      <td>85.70</td>\n      <td>198.100</td>\n      <td>855.80</td>\n    </tr>\n    <tr>\n      <th>ReceivingTD</th>\n      <td>155.0</td>\n      <td>0.708387</td>\n      <td>0.882143</td>\n      <td>0.00</td>\n      <td>0.10</td>\n      <td>0.30</td>\n      <td>1.000</td>\n      <td>4.50</td>\n    </tr>\n    <tr>\n      <th>RushingAtt</th>\n      <td>155.0</td>\n      <td>78.225161</td>\n      <td>82.304474</td>\n      <td>0.00</td>\n      <td>6.75</td>\n      <td>46.70</td>\n      <td>137.900</td>\n      <td>294.80</td>\n    </tr>\n    <tr>\n      <th>RushingYds</th>\n      <td>155.0</td>\n      <td>334.525161</td>\n      <td>359.322937</td>\n      <td>2.50</td>\n      <td>45.80</td>\n      <td>176.70</td>\n      <td>559.900</td>\n      <td>1481.10</td>\n    </tr>\n    <tr>\n      <th>RushingTD</th>\n      <td>155.0</td>\n      <td>2.428387</td>\n      <td>2.723008</td>\n      <td>0.00</td>\n      <td>0.30</td>\n      <td>1.20</td>\n      <td>3.900</td>\n      <td>12.10</td>\n    </tr>\n    <tr>\n      <th>FL</th>\n      <td>155.0</td>\n      <td>0.712903</td>\n      <td>0.757106</td>\n      <td>0.00</td>\n      <td>0.00</td>\n      <td>0.50</td>\n      <td>1.300</td>\n      <td>2.70</td>\n    </tr>\n  </tbody>\n</table>\n</div>"
     },
     "metadata": {},
     "execution_count": 14
    }
   ],
   "source": [
    "\"\"\"\n",
    "We can use the describe method to get summary/descriptive statistics about our DataFrame extremely quickly\n",
    "We can also use transpose to switch the columns and index.\n",
    "# describe docs\n",
    "https://pandas.pydata.org/pandas-docs/stable/reference/api/pandas.DataFrame.describe.html\n",
    "# transpose documentation\n",
    "https://pandas.pydata.org/pandas-docs/stable/reference/api/pandas.DataFrame.transpose.html\n",
    "\"\"\"\n",
    "\n",
    "# get us back descriptive stats about our rb_df and transpose the DataFrame.\n",
    "rb_df.describe().transpose()"
   ]
  },
  {
   "cell_type": "code",
   "execution_count": 15,
   "metadata": {},
   "outputs": [
    {
     "output_type": "execute_result",
     "data": {
      "text/plain": [
       "12    252.7\n",
       "23    271.2\n",
       "25    288.0\n",
       "26    294.8\n",
       "30    262.7\n",
       "33    201.4\n",
       "35    211.2\n",
       "36    269.5\n",
       "37    275.4\n",
       "38    234.7\n",
       "Name: RushingAtt, dtype: float64"
      ]
     },
     "metadata": {},
     "execution_count": 15
    }
   ],
   "source": [
    "\"\"\"\n",
    "This is how you get back a Series object, or column, from your DataFrame.\n",
    "Here, we just want the first 10 rows of our Series object.\n",
    "Documentation on pandas Series objects. Below, we cover some aggregate functions we can run\n",
    "on these Series objects.\n",
    "https://pandas.pydata.org/pandas-docs/stable/reference/api/pandas.Series.html\n",
    "\"\"\"\n",
    "\n",
    "rb_df['RushingAtt'][:10]"
   ]
  },
  {
   "cell_type": "code",
   "execution_count": 19,
   "metadata": {},
   "outputs": [
    {
     "output_type": "stream",
     "name": "stderr",
     "text": [
      "c:\\Users\\alexc\\Documents\\Programming\\Python\\Fantasy_Football\\venv\\lib\\site-packages\\seaborn\\distributions.py:2557: FutureWarning: `distplot` is a deprecated function and will be removed in a future version. Please adapt your code to use either `displot` (a figure-level function with similar flexibility) or `histplot` (an axes-level function for histograms).\n  warnings.warn(msg, FutureWarning)\n"
     ]
    },
    {
     "output_type": "display_data",
     "data": {
      "text/plain": "<Figure size 432x288 with 1 Axes>",
      "image/svg+xml": "<?xml version=\"1.0\" encoding=\"utf-8\" standalone=\"no\"?>\r\n<!DOCTYPE svg PUBLIC \"-//W3C//DTD SVG 1.1//EN\"\r\n  \"http://www.w3.org/Graphics/SVG/1.1/DTD/svg11.dtd\">\r\n<svg height=\"261.247813pt\" version=\"1.1\" viewBox=\"0 0 397.317999 261.247813\" width=\"397.317999pt\" xmlns=\"http://www.w3.org/2000/svg\" xmlns:xlink=\"http://www.w3.org/1999/xlink\">\r\n <metadata>\r\n  <rdf:RDF xmlns:cc=\"http://creativecommons.org/ns#\" xmlns:dc=\"http://purl.org/dc/elements/1.1/\" xmlns:rdf=\"http://www.w3.org/1999/02/22-rdf-syntax-ns#\">\r\n   <cc:Work>\r\n    <dc:type rdf:resource=\"http://purl.org/dc/dcmitype/StillImage\"/>\r\n    <dc:date>2021-04-17T23:04:08.335586</dc:date>\r\n    <dc:format>image/svg+xml</dc:format>\r\n    <dc:creator>\r\n     <cc:Agent>\r\n      <dc:title>Matplotlib v3.4.1, https://matplotlib.org/</dc:title>\r\n     </cc:Agent>\r\n    </dc:creator>\r\n   </cc:Work>\r\n  </rdf:RDF>\r\n </metadata>\r\n <defs>\r\n  <style type=\"text/css\">*{stroke-linecap:butt;stroke-linejoin:round;}</style>\r\n </defs>\r\n <g id=\"figure_1\">\r\n  <g id=\"patch_1\">\r\n   <path d=\"M 0 261.247813 \r\nL 397.317999 261.247813 \r\nL 397.317999 0 \r\nL 0 0 \r\nz\r\n\" style=\"fill:#ffffff;\"/>\r\n  </g>\r\n  <g id=\"axes_1\">\r\n   <g id=\"patch_2\">\r\n    <path d=\"M 52.484375 224.64 \r\nL 387.284375 224.64 \r\nL 387.284375 7.2 \r\nL 52.484375 7.2 \r\nz\r\n\" style=\"fill:#ffffff;\"/>\r\n   </g>\r\n   <g id=\"matplotlib.axis_1\">\r\n    <g id=\"xtick_1\">\r\n     <g id=\"line2d_1\">\r\n      <path clip-path=\"url(#p9b747166d8)\" d=\"M 61.324855 224.64 \r\nL 61.324855 7.2 \r\n\" style=\"fill:none;stroke:#cccccc;stroke-linecap:round;stroke-width:0.8;\"/>\r\n     </g>\r\n     <g id=\"text_1\">\r\n      <!-- −100 -->\r\n      <g style=\"fill:#262626;\" transform=\"translate(50.063136 238.797812)scale(0.1 -0.1)\">\r\n       <defs>\r\n        <path d=\"M 3381 1997 \r\nL 356 1997 \r\nL 356 2522 \r\nL 3381 2522 \r\nL 3381 1997 \r\nz\r\n\" id=\"ArialMT-2212\" transform=\"scale(0.015625)\"/>\r\n        <path d=\"M 2384 0 \r\nL 1822 0 \r\nL 1822 3584 \r\nQ 1619 3391 1289 3197 \r\nQ 959 3003 697 2906 \r\nL 697 3450 \r\nQ 1169 3672 1522 3987 \r\nQ 1875 4303 2022 4600 \r\nL 2384 4600 \r\nL 2384 0 \r\nz\r\n\" id=\"ArialMT-31\" transform=\"scale(0.015625)\"/>\r\n        <path d=\"M 266 2259 \r\nQ 266 3072 433 3567 \r\nQ 600 4063 929 4331 \r\nQ 1259 4600 1759 4600 \r\nQ 2128 4600 2406 4451 \r\nQ 2684 4303 2865 4023 \r\nQ 3047 3744 3150 3342 \r\nQ 3253 2941 3253 2259 \r\nQ 3253 1453 3087 958 \r\nQ 2922 463 2592 192 \r\nQ 2263 -78 1759 -78 \r\nQ 1097 -78 719 397 \r\nQ 266 969 266 2259 \r\nz\r\nM 844 2259 \r\nQ 844 1131 1108 757 \r\nQ 1372 384 1759 384 \r\nQ 2147 384 2411 759 \r\nQ 2675 1134 2675 2259 \r\nQ 2675 3391 2411 3762 \r\nQ 2147 4134 1753 4134 \r\nQ 1366 4134 1134 3806 \r\nQ 844 3388 844 2259 \r\nz\r\n\" id=\"ArialMT-30\" transform=\"scale(0.015625)\"/>\r\n       </defs>\r\n       <use xlink:href=\"#ArialMT-2212\"/>\r\n       <use x=\"58.398438\" xlink:href=\"#ArialMT-31\"/>\r\n       <use x=\"114.013672\" xlink:href=\"#ArialMT-30\"/>\r\n       <use x=\"169.628906\" xlink:href=\"#ArialMT-30\"/>\r\n      </g>\r\n     </g>\r\n    </g>\r\n    <g id=\"xtick_2\">\r\n     <g id=\"line2d_2\">\r\n      <path clip-path=\"url(#p9b747166d8)\" d=\"M 125.415203 224.64 \r\nL 125.415203 7.2 \r\n\" style=\"fill:none;stroke:#cccccc;stroke-linecap:round;stroke-width:0.8;\"/>\r\n     </g>\r\n     <g id=\"text_2\">\r\n      <!-- 0 -->\r\n      <g style=\"fill:#262626;\" transform=\"translate(122.634734 238.797812)scale(0.1 -0.1)\">\r\n       <use xlink:href=\"#ArialMT-30\"/>\r\n      </g>\r\n     </g>\r\n    </g>\r\n    <g id=\"xtick_3\">\r\n     <g id=\"line2d_3\">\r\n      <path clip-path=\"url(#p9b747166d8)\" d=\"M 189.50555 224.64 \r\nL 189.50555 7.2 \r\n\" style=\"fill:none;stroke:#cccccc;stroke-linecap:round;stroke-width:0.8;\"/>\r\n     </g>\r\n     <g id=\"text_3\">\r\n      <!-- 100 -->\r\n      <g style=\"fill:#262626;\" transform=\"translate(181.164144 238.797812)scale(0.1 -0.1)\">\r\n       <use xlink:href=\"#ArialMT-31\"/>\r\n       <use x=\"55.615234\" xlink:href=\"#ArialMT-30\"/>\r\n       <use x=\"111.230469\" xlink:href=\"#ArialMT-30\"/>\r\n      </g>\r\n     </g>\r\n    </g>\r\n    <g id=\"xtick_4\">\r\n     <g id=\"line2d_4\">\r\n      <path clip-path=\"url(#p9b747166d8)\" d=\"M 253.595898 224.64 \r\nL 253.595898 7.2 \r\n\" style=\"fill:none;stroke:#cccccc;stroke-linecap:round;stroke-width:0.8;\"/>\r\n     </g>\r\n     <g id=\"text_4\">\r\n      <!-- 200 -->\r\n      <g style=\"fill:#262626;\" transform=\"translate(245.254492 238.797812)scale(0.1 -0.1)\">\r\n       <defs>\r\n        <path d=\"M 3222 541 \r\nL 3222 0 \r\nL 194 0 \r\nQ 188 203 259 391 \r\nQ 375 700 629 1000 \r\nQ 884 1300 1366 1694 \r\nQ 2113 2306 2375 2664 \r\nQ 2638 3022 2638 3341 \r\nQ 2638 3675 2398 3904 \r\nQ 2159 4134 1775 4134 \r\nQ 1369 4134 1125 3890 \r\nQ 881 3647 878 3216 \r\nL 300 3275 \r\nQ 359 3922 746 4261 \r\nQ 1134 4600 1788 4600 \r\nQ 2447 4600 2831 4234 \r\nQ 3216 3869 3216 3328 \r\nQ 3216 3053 3103 2787 \r\nQ 2991 2522 2730 2228 \r\nQ 2469 1934 1863 1422 \r\nQ 1356 997 1212 845 \r\nQ 1069 694 975 541 \r\nL 3222 541 \r\nz\r\n\" id=\"ArialMT-32\" transform=\"scale(0.015625)\"/>\r\n       </defs>\r\n       <use xlink:href=\"#ArialMT-32\"/>\r\n       <use x=\"55.615234\" xlink:href=\"#ArialMT-30\"/>\r\n       <use x=\"111.230469\" xlink:href=\"#ArialMT-30\"/>\r\n      </g>\r\n     </g>\r\n    </g>\r\n    <g id=\"xtick_5\">\r\n     <g id=\"line2d_5\">\r\n      <path clip-path=\"url(#p9b747166d8)\" d=\"M 317.686245 224.64 \r\nL 317.686245 7.2 \r\n\" style=\"fill:none;stroke:#cccccc;stroke-linecap:round;stroke-width:0.8;\"/>\r\n     </g>\r\n     <g id=\"text_5\">\r\n      <!-- 300 -->\r\n      <g style=\"fill:#262626;\" transform=\"translate(309.344839 238.797812)scale(0.1 -0.1)\">\r\n       <defs>\r\n        <path d=\"M 269 1209 \r\nL 831 1284 \r\nQ 928 806 1161 595 \r\nQ 1394 384 1728 384 \r\nQ 2125 384 2398 659 \r\nQ 2672 934 2672 1341 \r\nQ 2672 1728 2419 1979 \r\nQ 2166 2231 1775 2231 \r\nQ 1616 2231 1378 2169 \r\nL 1441 2663 \r\nQ 1497 2656 1531 2656 \r\nQ 1891 2656 2178 2843 \r\nQ 2466 3031 2466 3422 \r\nQ 2466 3731 2256 3934 \r\nQ 2047 4138 1716 4138 \r\nQ 1388 4138 1169 3931 \r\nQ 950 3725 888 3313 \r\nL 325 3413 \r\nQ 428 3978 793 4289 \r\nQ 1159 4600 1703 4600 \r\nQ 2078 4600 2393 4439 \r\nQ 2709 4278 2876 4000 \r\nQ 3044 3722 3044 3409 \r\nQ 3044 3113 2884 2869 \r\nQ 2725 2625 2413 2481 \r\nQ 2819 2388 3044 2092 \r\nQ 3269 1797 3269 1353 \r\nQ 3269 753 2831 336 \r\nQ 2394 -81 1725 -81 \r\nQ 1122 -81 723 278 \r\nQ 325 638 269 1209 \r\nz\r\n\" id=\"ArialMT-33\" transform=\"scale(0.015625)\"/>\r\n       </defs>\r\n       <use xlink:href=\"#ArialMT-33\"/>\r\n       <use x=\"55.615234\" xlink:href=\"#ArialMT-30\"/>\r\n       <use x=\"111.230469\" xlink:href=\"#ArialMT-30\"/>\r\n      </g>\r\n     </g>\r\n    </g>\r\n    <g id=\"xtick_6\">\r\n     <g id=\"line2d_6\">\r\n      <path clip-path=\"url(#p9b747166d8)\" d=\"M 381.776593 224.64 \r\nL 381.776593 7.2 \r\n\" style=\"fill:none;stroke:#cccccc;stroke-linecap:round;stroke-width:0.8;\"/>\r\n     </g>\r\n     <g id=\"text_6\">\r\n      <!-- 400 -->\r\n      <g style=\"fill:#262626;\" transform=\"translate(373.435187 238.797812)scale(0.1 -0.1)\">\r\n       <defs>\r\n        <path d=\"M 2069 0 \r\nL 2069 1097 \r\nL 81 1097 \r\nL 81 1613 \r\nL 2172 4581 \r\nL 2631 4581 \r\nL 2631 1613 \r\nL 3250 1613 \r\nL 3250 1097 \r\nL 2631 1097 \r\nL 2631 0 \r\nL 2069 0 \r\nz\r\nM 2069 1613 \r\nL 2069 3678 \r\nL 634 1613 \r\nL 2069 1613 \r\nz\r\n\" id=\"ArialMT-34\" transform=\"scale(0.015625)\"/>\r\n       </defs>\r\n       <use xlink:href=\"#ArialMT-34\"/>\r\n       <use x=\"55.615234\" xlink:href=\"#ArialMT-30\"/>\r\n       <use x=\"111.230469\" xlink:href=\"#ArialMT-30\"/>\r\n      </g>\r\n     </g>\r\n    </g>\r\n    <g id=\"text_7\">\r\n     <!-- RushingAtt -->\r\n     <g style=\"fill:#262626;\" transform=\"translate(195.427344 251.943125)scale(0.1 -0.1)\">\r\n      <defs>\r\n       <path d=\"M 503 0 \r\nL 503 4581 \r\nL 2534 4581 \r\nQ 3147 4581 3465 4457 \r\nQ 3784 4334 3975 4021 \r\nQ 4166 3709 4166 3331 \r\nQ 4166 2844 3850 2509 \r\nQ 3534 2175 2875 2084 \r\nQ 3116 1969 3241 1856 \r\nQ 3506 1613 3744 1247 \r\nL 4541 0 \r\nL 3778 0 \r\nL 3172 953 \r\nQ 2906 1366 2734 1584 \r\nQ 2563 1803 2427 1890 \r\nQ 2291 1978 2150 2013 \r\nQ 2047 2034 1813 2034 \r\nL 1109 2034 \r\nL 1109 0 \r\nL 503 0 \r\nz\r\nM 1109 2559 \r\nL 2413 2559 \r\nQ 2828 2559 3062 2645 \r\nQ 3297 2731 3419 2920 \r\nQ 3541 3109 3541 3331 \r\nQ 3541 3656 3305 3865 \r\nQ 3069 4075 2559 4075 \r\nL 1109 4075 \r\nL 1109 2559 \r\nz\r\n\" id=\"ArialMT-52\" transform=\"scale(0.015625)\"/>\r\n       <path d=\"M 2597 0 \r\nL 2597 488 \r\nQ 2209 -75 1544 -75 \r\nQ 1250 -75 995 37 \r\nQ 741 150 617 320 \r\nQ 494 491 444 738 \r\nQ 409 903 409 1263 \r\nL 409 3319 \r\nL 972 3319 \r\nL 972 1478 \r\nQ 972 1038 1006 884 \r\nQ 1059 663 1231 536 \r\nQ 1403 409 1656 409 \r\nQ 1909 409 2131 539 \r\nQ 2353 669 2445 892 \r\nQ 2538 1116 2538 1541 \r\nL 2538 3319 \r\nL 3100 3319 \r\nL 3100 0 \r\nL 2597 0 \r\nz\r\n\" id=\"ArialMT-75\" transform=\"scale(0.015625)\"/>\r\n       <path d=\"M 197 991 \r\nL 753 1078 \r\nQ 800 744 1014 566 \r\nQ 1228 388 1613 388 \r\nQ 2000 388 2187 545 \r\nQ 2375 703 2375 916 \r\nQ 2375 1106 2209 1216 \r\nQ 2094 1291 1634 1406 \r\nQ 1016 1563 777 1677 \r\nQ 538 1791 414 1992 \r\nQ 291 2194 291 2438 \r\nQ 291 2659 392 2848 \r\nQ 494 3038 669 3163 \r\nQ 800 3259 1026 3326 \r\nQ 1253 3394 1513 3394 \r\nQ 1903 3394 2198 3281 \r\nQ 2494 3169 2634 2976 \r\nQ 2775 2784 2828 2463 \r\nL 2278 2388 \r\nQ 2241 2644 2061 2787 \r\nQ 1881 2931 1553 2931 \r\nQ 1166 2931 1000 2803 \r\nQ 834 2675 834 2503 \r\nQ 834 2394 903 2306 \r\nQ 972 2216 1119 2156 \r\nQ 1203 2125 1616 2013 \r\nQ 2213 1853 2448 1751 \r\nQ 2684 1650 2818 1456 \r\nQ 2953 1263 2953 975 \r\nQ 2953 694 2789 445 \r\nQ 2625 197 2315 61 \r\nQ 2006 -75 1616 -75 \r\nQ 969 -75 630 194 \r\nQ 291 463 197 991 \r\nz\r\n\" id=\"ArialMT-73\" transform=\"scale(0.015625)\"/>\r\n       <path d=\"M 422 0 \r\nL 422 4581 \r\nL 984 4581 \r\nL 984 2938 \r\nQ 1378 3394 1978 3394 \r\nQ 2347 3394 2619 3248 \r\nQ 2891 3103 3008 2847 \r\nQ 3125 2591 3125 2103 \r\nL 3125 0 \r\nL 2563 0 \r\nL 2563 2103 \r\nQ 2563 2525 2380 2717 \r\nQ 2197 2909 1863 2909 \r\nQ 1613 2909 1392 2779 \r\nQ 1172 2650 1078 2428 \r\nQ 984 2206 984 1816 \r\nL 984 0 \r\nL 422 0 \r\nz\r\n\" id=\"ArialMT-68\" transform=\"scale(0.015625)\"/>\r\n       <path d=\"M 425 3934 \r\nL 425 4581 \r\nL 988 4581 \r\nL 988 3934 \r\nL 425 3934 \r\nz\r\nM 425 0 \r\nL 425 3319 \r\nL 988 3319 \r\nL 988 0 \r\nL 425 0 \r\nz\r\n\" id=\"ArialMT-69\" transform=\"scale(0.015625)\"/>\r\n       <path d=\"M 422 0 \r\nL 422 3319 \r\nL 928 3319 \r\nL 928 2847 \r\nQ 1294 3394 1984 3394 \r\nQ 2284 3394 2536 3286 \r\nQ 2788 3178 2913 3003 \r\nQ 3038 2828 3088 2588 \r\nQ 3119 2431 3119 2041 \r\nL 3119 0 \r\nL 2556 0 \r\nL 2556 2019 \r\nQ 2556 2363 2490 2533 \r\nQ 2425 2703 2258 2804 \r\nQ 2091 2906 1866 2906 \r\nQ 1506 2906 1245 2678 \r\nQ 984 2450 984 1813 \r\nL 984 0 \r\nL 422 0 \r\nz\r\n\" id=\"ArialMT-6e\" transform=\"scale(0.015625)\"/>\r\n       <path d=\"M 319 -275 \r\nL 866 -356 \r\nQ 900 -609 1056 -725 \r\nQ 1266 -881 1628 -881 \r\nQ 2019 -881 2231 -725 \r\nQ 2444 -569 2519 -288 \r\nQ 2563 -116 2559 434 \r\nQ 2191 0 1641 0 \r\nQ 956 0 581 494 \r\nQ 206 988 206 1678 \r\nQ 206 2153 378 2554 \r\nQ 550 2956 876 3175 \r\nQ 1203 3394 1644 3394 \r\nQ 2231 3394 2613 2919 \r\nL 2613 3319 \r\nL 3131 3319 \r\nL 3131 450 \r\nQ 3131 -325 2973 -648 \r\nQ 2816 -972 2473 -1159 \r\nQ 2131 -1347 1631 -1347 \r\nQ 1038 -1347 672 -1080 \r\nQ 306 -813 319 -275 \r\nz\r\nM 784 1719 \r\nQ 784 1066 1043 766 \r\nQ 1303 466 1694 466 \r\nQ 2081 466 2343 764 \r\nQ 2606 1063 2606 1700 \r\nQ 2606 2309 2336 2618 \r\nQ 2066 2928 1684 2928 \r\nQ 1309 2928 1046 2623 \r\nQ 784 2319 784 1719 \r\nz\r\n\" id=\"ArialMT-67\" transform=\"scale(0.015625)\"/>\r\n       <path d=\"M -9 0 \r\nL 1750 4581 \r\nL 2403 4581 \r\nL 4278 0 \r\nL 3588 0 \r\nL 3053 1388 \r\nL 1138 1388 \r\nL 634 0 \r\nL -9 0 \r\nz\r\nM 1313 1881 \r\nL 2866 1881 \r\nL 2388 3150 \r\nQ 2169 3728 2063 4100 \r\nQ 1975 3659 1816 3225 \r\nL 1313 1881 \r\nz\r\n\" id=\"ArialMT-41\" transform=\"scale(0.015625)\"/>\r\n       <path d=\"M 1650 503 \r\nL 1731 6 \r\nQ 1494 -44 1306 -44 \r\nQ 1000 -44 831 53 \r\nQ 663 150 594 308 \r\nQ 525 466 525 972 \r\nL 525 2881 \r\nL 113 2881 \r\nL 113 3319 \r\nL 525 3319 \r\nL 525 4141 \r\nL 1084 4478 \r\nL 1084 3319 \r\nL 1650 3319 \r\nL 1650 2881 \r\nL 1084 2881 \r\nL 1084 941 \r\nQ 1084 700 1114 631 \r\nQ 1144 563 1211 522 \r\nQ 1278 481 1403 481 \r\nQ 1497 481 1650 503 \r\nz\r\n\" id=\"ArialMT-74\" transform=\"scale(0.015625)\"/>\r\n      </defs>\r\n      <use xlink:href=\"#ArialMT-52\"/>\r\n      <use x=\"72.216797\" xlink:href=\"#ArialMT-75\"/>\r\n      <use x=\"127.832031\" xlink:href=\"#ArialMT-73\"/>\r\n      <use x=\"177.832031\" xlink:href=\"#ArialMT-68\"/>\r\n      <use x=\"233.447266\" xlink:href=\"#ArialMT-69\"/>\r\n      <use x=\"255.664062\" xlink:href=\"#ArialMT-6e\"/>\r\n      <use x=\"311.279297\" xlink:href=\"#ArialMT-67\"/>\r\n      <use x=\"366.894531\" xlink:href=\"#ArialMT-41\"/>\r\n      <use x=\"433.59375\" xlink:href=\"#ArialMT-74\"/>\r\n      <use x=\"461.376953\" xlink:href=\"#ArialMT-74\"/>\r\n     </g>\r\n    </g>\r\n   </g>\r\n   <g id=\"matplotlib.axis_2\">\r\n    <g id=\"ytick_1\">\r\n     <g id=\"line2d_7\">\r\n      <path clip-path=\"url(#p9b747166d8)\" d=\"M 52.484375 224.64 \r\nL 387.284375 224.64 \r\n\" style=\"fill:none;stroke:#cccccc;stroke-linecap:round;stroke-width:0.8;\"/>\r\n     </g>\r\n     <g id=\"text_8\">\r\n      <!-- 0.000 -->\r\n      <g style=\"fill:#262626;\" transform=\"translate(20.4625 228.218906)scale(0.1 -0.1)\">\r\n       <defs>\r\n        <path d=\"M 581 0 \r\nL 581 641 \r\nL 1222 641 \r\nL 1222 0 \r\nL 581 0 \r\nz\r\n\" id=\"ArialMT-2e\" transform=\"scale(0.015625)\"/>\r\n       </defs>\r\n       <use xlink:href=\"#ArialMT-30\"/>\r\n       <use x=\"55.615234\" xlink:href=\"#ArialMT-2e\"/>\r\n       <use x=\"83.398438\" xlink:href=\"#ArialMT-30\"/>\r\n       <use x=\"139.013672\" xlink:href=\"#ArialMT-30\"/>\r\n       <use x=\"194.628906\" xlink:href=\"#ArialMT-30\"/>\r\n      </g>\r\n     </g>\r\n    </g>\r\n    <g id=\"ytick_2\">\r\n     <g id=\"line2d_8\">\r\n      <path clip-path=\"url(#p9b747166d8)\" d=\"M 52.484375 189.066411 \r\nL 387.284375 189.066411 \r\n\" style=\"fill:none;stroke:#cccccc;stroke-linecap:round;stroke-width:0.8;\"/>\r\n     </g>\r\n     <g id=\"text_9\">\r\n      <!-- 0.002 -->\r\n      <g style=\"fill:#262626;\" transform=\"translate(20.4625 192.645317)scale(0.1 -0.1)\">\r\n       <use xlink:href=\"#ArialMT-30\"/>\r\n       <use x=\"55.615234\" xlink:href=\"#ArialMT-2e\"/>\r\n       <use x=\"83.398438\" xlink:href=\"#ArialMT-30\"/>\r\n       <use x=\"139.013672\" xlink:href=\"#ArialMT-30\"/>\r\n       <use x=\"194.628906\" xlink:href=\"#ArialMT-32\"/>\r\n      </g>\r\n     </g>\r\n    </g>\r\n    <g id=\"ytick_3\">\r\n     <g id=\"line2d_9\">\r\n      <path clip-path=\"url(#p9b747166d8)\" d=\"M 52.484375 153.492822 \r\nL 387.284375 153.492822 \r\n\" style=\"fill:none;stroke:#cccccc;stroke-linecap:round;stroke-width:0.8;\"/>\r\n     </g>\r\n     <g id=\"text_10\">\r\n      <!-- 0.004 -->\r\n      <g style=\"fill:#262626;\" transform=\"translate(20.4625 157.071729)scale(0.1 -0.1)\">\r\n       <use xlink:href=\"#ArialMT-30\"/>\r\n       <use x=\"55.615234\" xlink:href=\"#ArialMT-2e\"/>\r\n       <use x=\"83.398438\" xlink:href=\"#ArialMT-30\"/>\r\n       <use x=\"139.013672\" xlink:href=\"#ArialMT-30\"/>\r\n       <use x=\"194.628906\" xlink:href=\"#ArialMT-34\"/>\r\n      </g>\r\n     </g>\r\n    </g>\r\n    <g id=\"ytick_4\">\r\n     <g id=\"line2d_10\">\r\n      <path clip-path=\"url(#p9b747166d8)\" d=\"M 52.484375 117.919234 \r\nL 387.284375 117.919234 \r\n\" style=\"fill:none;stroke:#cccccc;stroke-linecap:round;stroke-width:0.8;\"/>\r\n     </g>\r\n     <g id=\"text_11\">\r\n      <!-- 0.006 -->\r\n      <g style=\"fill:#262626;\" transform=\"translate(20.4625 121.49814)scale(0.1 -0.1)\">\r\n       <defs>\r\n        <path d=\"M 3184 3459 \r\nL 2625 3416 \r\nQ 2550 3747 2413 3897 \r\nQ 2184 4138 1850 4138 \r\nQ 1581 4138 1378 3988 \r\nQ 1113 3794 959 3422 \r\nQ 806 3050 800 2363 \r\nQ 1003 2672 1297 2822 \r\nQ 1591 2972 1913 2972 \r\nQ 2475 2972 2870 2558 \r\nQ 3266 2144 3266 1488 \r\nQ 3266 1056 3080 686 \r\nQ 2894 316 2569 119 \r\nQ 2244 -78 1831 -78 \r\nQ 1128 -78 684 439 \r\nQ 241 956 241 2144 \r\nQ 241 3472 731 4075 \r\nQ 1159 4600 1884 4600 \r\nQ 2425 4600 2770 4297 \r\nQ 3116 3994 3184 3459 \r\nz\r\nM 888 1484 \r\nQ 888 1194 1011 928 \r\nQ 1134 663 1356 523 \r\nQ 1578 384 1822 384 \r\nQ 2178 384 2434 671 \r\nQ 2691 959 2691 1453 \r\nQ 2691 1928 2437 2201 \r\nQ 2184 2475 1800 2475 \r\nQ 1419 2475 1153 2201 \r\nQ 888 1928 888 1484 \r\nz\r\n\" id=\"ArialMT-36\" transform=\"scale(0.015625)\"/>\r\n       </defs>\r\n       <use xlink:href=\"#ArialMT-30\"/>\r\n       <use x=\"55.615234\" xlink:href=\"#ArialMT-2e\"/>\r\n       <use x=\"83.398438\" xlink:href=\"#ArialMT-30\"/>\r\n       <use x=\"139.013672\" xlink:href=\"#ArialMT-30\"/>\r\n       <use x=\"194.628906\" xlink:href=\"#ArialMT-36\"/>\r\n      </g>\r\n     </g>\r\n    </g>\r\n    <g id=\"ytick_5\">\r\n     <g id=\"line2d_11\">\r\n      <path clip-path=\"url(#p9b747166d8)\" d=\"M 52.484375 82.345645 \r\nL 387.284375 82.345645 \r\n\" style=\"fill:none;stroke:#cccccc;stroke-linecap:round;stroke-width:0.8;\"/>\r\n     </g>\r\n     <g id=\"text_12\">\r\n      <!-- 0.008 -->\r\n      <g style=\"fill:#262626;\" transform=\"translate(20.4625 85.924551)scale(0.1 -0.1)\">\r\n       <defs>\r\n        <path d=\"M 1131 2484 \r\nQ 781 2613 612 2850 \r\nQ 444 3088 444 3419 \r\nQ 444 3919 803 4259 \r\nQ 1163 4600 1759 4600 \r\nQ 2359 4600 2725 4251 \r\nQ 3091 3903 3091 3403 \r\nQ 3091 3084 2923 2848 \r\nQ 2756 2613 2416 2484 \r\nQ 2838 2347 3058 2040 \r\nQ 3278 1734 3278 1309 \r\nQ 3278 722 2862 322 \r\nQ 2447 -78 1769 -78 \r\nQ 1091 -78 675 323 \r\nQ 259 725 259 1325 \r\nQ 259 1772 486 2073 \r\nQ 713 2375 1131 2484 \r\nz\r\nM 1019 3438 \r\nQ 1019 3113 1228 2906 \r\nQ 1438 2700 1772 2700 \r\nQ 2097 2700 2305 2904 \r\nQ 2513 3109 2513 3406 \r\nQ 2513 3716 2298 3927 \r\nQ 2084 4138 1766 4138 \r\nQ 1444 4138 1231 3931 \r\nQ 1019 3725 1019 3438 \r\nz\r\nM 838 1322 \r\nQ 838 1081 952 856 \r\nQ 1066 631 1291 507 \r\nQ 1516 384 1775 384 \r\nQ 2178 384 2440 643 \r\nQ 2703 903 2703 1303 \r\nQ 2703 1709 2433 1975 \r\nQ 2163 2241 1756 2241 \r\nQ 1359 2241 1098 1978 \r\nQ 838 1716 838 1322 \r\nz\r\n\" id=\"ArialMT-38\" transform=\"scale(0.015625)\"/>\r\n       </defs>\r\n       <use xlink:href=\"#ArialMT-30\"/>\r\n       <use x=\"55.615234\" xlink:href=\"#ArialMT-2e\"/>\r\n       <use x=\"83.398438\" xlink:href=\"#ArialMT-30\"/>\r\n       <use x=\"139.013672\" xlink:href=\"#ArialMT-30\"/>\r\n       <use x=\"194.628906\" xlink:href=\"#ArialMT-38\"/>\r\n      </g>\r\n     </g>\r\n    </g>\r\n    <g id=\"ytick_6\">\r\n     <g id=\"line2d_12\">\r\n      <path clip-path=\"url(#p9b747166d8)\" d=\"M 52.484375 46.772056 \r\nL 387.284375 46.772056 \r\n\" style=\"fill:none;stroke:#cccccc;stroke-linecap:round;stroke-width:0.8;\"/>\r\n     </g>\r\n     <g id=\"text_13\">\r\n      <!-- 0.010 -->\r\n      <g style=\"fill:#262626;\" transform=\"translate(20.4625 50.350962)scale(0.1 -0.1)\">\r\n       <use xlink:href=\"#ArialMT-30\"/>\r\n       <use x=\"55.615234\" xlink:href=\"#ArialMT-2e\"/>\r\n       <use x=\"83.398438\" xlink:href=\"#ArialMT-30\"/>\r\n       <use x=\"139.013672\" xlink:href=\"#ArialMT-31\"/>\r\n       <use x=\"194.628906\" xlink:href=\"#ArialMT-30\"/>\r\n      </g>\r\n     </g>\r\n    </g>\r\n    <g id=\"ytick_7\">\r\n     <g id=\"line2d_13\">\r\n      <path clip-path=\"url(#p9b747166d8)\" d=\"M 52.484375 11.198467 \r\nL 387.284375 11.198467 \r\n\" style=\"fill:none;stroke:#cccccc;stroke-linecap:round;stroke-width:0.8;\"/>\r\n     </g>\r\n     <g id=\"text_14\">\r\n      <!-- 0.012 -->\r\n      <g style=\"fill:#262626;\" transform=\"translate(20.4625 14.777373)scale(0.1 -0.1)\">\r\n       <use xlink:href=\"#ArialMT-30\"/>\r\n       <use x=\"55.615234\" xlink:href=\"#ArialMT-2e\"/>\r\n       <use x=\"83.398438\" xlink:href=\"#ArialMT-30\"/>\r\n       <use x=\"139.013672\" xlink:href=\"#ArialMT-31\"/>\r\n       <use x=\"194.628906\" xlink:href=\"#ArialMT-32\"/>\r\n      </g>\r\n     </g>\r\n    </g>\r\n    <g id=\"text_15\">\r\n     <!-- Density -->\r\n     <g style=\"fill:#262626;\" transform=\"translate(14.357813 132.591875)rotate(-90)scale(0.1 -0.1)\">\r\n      <defs>\r\n       <path d=\"M 494 0 \r\nL 494 4581 \r\nL 2072 4581 \r\nQ 2606 4581 2888 4516 \r\nQ 3281 4425 3559 4188 \r\nQ 3922 3881 4101 3404 \r\nQ 4281 2928 4281 2316 \r\nQ 4281 1794 4159 1391 \r\nQ 4038 988 3847 723 \r\nQ 3656 459 3429 307 \r\nQ 3203 156 2883 78 \r\nQ 2563 0 2147 0 \r\nL 494 0 \r\nz\r\nM 1100 541 \r\nL 2078 541 \r\nQ 2531 541 2789 625 \r\nQ 3047 709 3200 863 \r\nQ 3416 1078 3536 1442 \r\nQ 3656 1806 3656 2325 \r\nQ 3656 3044 3420 3430 \r\nQ 3184 3816 2847 3947 \r\nQ 2603 4041 2063 4041 \r\nL 1100 4041 \r\nL 1100 541 \r\nz\r\n\" id=\"ArialMT-44\" transform=\"scale(0.015625)\"/>\r\n       <path d=\"M 2694 1069 \r\nL 3275 997 \r\nQ 3138 488 2766 206 \r\nQ 2394 -75 1816 -75 \r\nQ 1088 -75 661 373 \r\nQ 234 822 234 1631 \r\nQ 234 2469 665 2931 \r\nQ 1097 3394 1784 3394 \r\nQ 2450 3394 2872 2941 \r\nQ 3294 2488 3294 1666 \r\nQ 3294 1616 3291 1516 \r\nL 816 1516 \r\nQ 847 969 1125 678 \r\nQ 1403 388 1819 388 \r\nQ 2128 388 2347 550 \r\nQ 2566 713 2694 1069 \r\nz\r\nM 847 1978 \r\nL 2700 1978 \r\nQ 2663 2397 2488 2606 \r\nQ 2219 2931 1791 2931 \r\nQ 1403 2931 1139 2672 \r\nQ 875 2413 847 1978 \r\nz\r\n\" id=\"ArialMT-65\" transform=\"scale(0.015625)\"/>\r\n       <path d=\"M 397 -1278 \r\nL 334 -750 \r\nQ 519 -800 656 -800 \r\nQ 844 -800 956 -737 \r\nQ 1069 -675 1141 -563 \r\nQ 1194 -478 1313 -144 \r\nQ 1328 -97 1363 -6 \r\nL 103 3319 \r\nL 709 3319 \r\nL 1400 1397 \r\nQ 1534 1031 1641 628 \r\nQ 1738 1016 1872 1384 \r\nL 2581 3319 \r\nL 3144 3319 \r\nL 1881 -56 \r\nQ 1678 -603 1566 -809 \r\nQ 1416 -1088 1222 -1217 \r\nQ 1028 -1347 759 -1347 \r\nQ 597 -1347 397 -1278 \r\nz\r\n\" id=\"ArialMT-79\" transform=\"scale(0.015625)\"/>\r\n      </defs>\r\n      <use xlink:href=\"#ArialMT-44\"/>\r\n      <use x=\"72.216797\" xlink:href=\"#ArialMT-65\"/>\r\n      <use x=\"127.832031\" xlink:href=\"#ArialMT-6e\"/>\r\n      <use x=\"183.447266\" xlink:href=\"#ArialMT-73\"/>\r\n      <use x=\"233.447266\" xlink:href=\"#ArialMT-69\"/>\r\n      <use x=\"255.664062\" xlink:href=\"#ArialMT-74\"/>\r\n      <use x=\"283.447266\" xlink:href=\"#ArialMT-79\"/>\r\n     </g>\r\n    </g>\r\n   </g>\r\n   <g id=\"patch_3\">\r\n    <path clip-path=\"url(#p9b747166d8)\" d=\"M 125.415203 224.64 \r\nL 152.406395 224.64 \r\nL 152.406395 17.554286 \r\nL 125.415203 17.554286 \r\nz\r\n\" style=\"fill:#1f77b4;opacity:0.4;stroke:#ffffff;stroke-linejoin:miter;\"/>\r\n   </g>\r\n   <g id=\"patch_4\">\r\n    <path clip-path=\"url(#p9b747166d8)\" d=\"M 152.406395 224.64 \r\nL 179.397587 224.64 \r\nL 179.397587 167.418947 \r\nL 152.406395 167.418947 \r\nz\r\n\" style=\"fill:#1f77b4;opacity:0.4;stroke:#ffffff;stroke-linejoin:miter;\"/>\r\n   </g>\r\n   <g id=\"patch_5\">\r\n    <path clip-path=\"url(#p9b747166d8)\" d=\"M 179.397587 224.64 \r\nL 206.388779 224.64 \r\nL 206.388779 178.318195 \r\nL 179.397587 178.318195 \r\nz\r\n\" style=\"fill:#1f77b4;opacity:0.4;stroke:#ffffff;stroke-linejoin:miter;\"/>\r\n   </g>\r\n   <g id=\"patch_6\">\r\n    <path clip-path=\"url(#p9b747166d8)\" d=\"M 206.388779 224.64 \r\nL 233.379971 224.64 \r\nL 233.379971 189.217444 \r\nL 206.388779 189.217444 \r\nz\r\n\" style=\"fill:#1f77b4;opacity:0.4;stroke:#ffffff;stroke-linejoin:miter;\"/>\r\n   </g>\r\n   <g id=\"patch_7\">\r\n    <path clip-path=\"url(#p9b747166d8)\" d=\"M 233.379971 224.64 \r\nL 260.371163 224.64 \r\nL 260.371163 191.942256 \r\nL 233.379971 191.942256 \r\nz\r\n\" style=\"fill:#1f77b4;opacity:0.4;stroke:#ffffff;stroke-linejoin:miter;\"/>\r\n   </g>\r\n   <g id=\"patch_8\">\r\n    <path clip-path=\"url(#p9b747166d8)\" d=\"M 260.371163 224.64 \r\nL 287.362355 224.64 \r\nL 287.362355 202.841504 \r\nL 260.371163 202.841504 \r\nz\r\n\" style=\"fill:#1f77b4;opacity:0.4;stroke:#ffffff;stroke-linejoin:miter;\"/>\r\n   </g>\r\n   <g id=\"patch_9\">\r\n    <path clip-path=\"url(#p9b747166d8)\" d=\"M 287.362355 224.64 \r\nL 314.353547 224.64 \r\nL 314.353547 202.841504 \r\nL 287.362355 202.841504 \r\nz\r\n\" style=\"fill:#1f77b4;opacity:0.4;stroke:#ffffff;stroke-linejoin:miter;\"/>\r\n   </g>\r\n   <g id=\"line2d_14\">\r\n    <path clip-path=\"url(#p9b747166d8)\" d=\"M 67.702557 224.035245 \r\nL 70.761488 223.657223 \r\nL 73.820419 223.081529 \r\nL 76.87935 222.228201 \r\nL 79.938281 220.997369 \r\nL 81.467746 220.203906 \r\nL 82.997212 219.270191 \r\nL 84.526677 218.179071 \r\nL 86.056143 216.912927 \r\nL 87.585608 215.454023 \r\nL 89.115074 213.784929 \r\nL 90.644539 211.889004 \r\nL 92.174005 209.750936 \r\nL 93.70347 207.357333 \r\nL 95.232936 204.697342 \r\nL 96.762401 201.763283 \r\nL 98.291867 198.551273 \r\nL 101.350798 191.300326 \r\nL 104.409729 183.010045 \r\nL 107.46866 173.835788 \r\nL 112.057057 158.983795 \r\nL 118.174919 139.060698 \r\nL 121.23385 130.002935 \r\nL 122.763315 125.88622 \r\nL 124.292781 122.108051 \r\nL 125.822246 118.710183 \r\nL 127.351712 115.728275 \r\nL 128.881177 113.191055 \r\nL 130.410643 111.11968 \r\nL 131.940108 109.527321 \r\nL 133.469574 108.418984 \r\nL 134.999039 107.791571 \r\nL 136.528505 107.63417 \r\nL 138.05797 107.928559 \r\nL 139.587436 108.649908 \r\nL 141.116901 109.767633 \r\nL 142.646367 111.246379 \r\nL 144.175832 113.04709 \r\nL 145.705298 115.128114 \r\nL 148.764229 119.958205 \r\nL 151.82316 125.392926 \r\nL 160.999953 142.374572 \r\nL 164.058884 147.560709 \r\nL 167.117815 152.320026 \r\nL 170.176746 156.624939 \r\nL 173.235677 160.488932 \r\nL 176.294608 163.95194 \r\nL 179.353539 167.066272 \r\nL 182.41247 169.884725 \r\nL 185.471401 172.451939 \r\nL 188.530332 174.799523 \r\nL 191.589263 176.944885 \r\nL 194.648194 178.893261 \r\nL 197.707125 180.64203 \r\nL 200.766056 182.186177 \r\nL 203.824987 183.523701 \r\nL 206.883918 184.659907 \r\nL 209.942849 185.609783 \r\nL 214.531246 186.7417 \r\nL 219.119642 187.624818 \r\nL 242.061625 191.6445 \r\nL 249.708952 193.332711 \r\nL 255.826814 194.894601 \r\nL 261.944677 196.706874 \r\nL 268.062539 198.754107 \r\nL 284.886659 204.55805 \r\nL 303.240245 210.484261 \r\nL 309.358107 212.779842 \r\nL 324.652762 218.723186 \r\nL 329.241159 220.22703 \r\nL 333.829555 221.48729 \r\nL 338.417952 222.485756 \r\nL 343.006349 223.233876 \r\nL 347.594745 223.764201 \r\nL 353.712607 224.207603 \r\nL 361.359935 224.481697 \r\nL 372.066193 224.60935 \r\nL 372.066193 224.60935 \r\n\" style=\"fill:none;stroke:#1f77b4;stroke-linecap:round;stroke-width:1.5;\"/>\r\n   </g>\r\n   <g id=\"patch_10\">\r\n    <path d=\"M 52.484375 224.64 \r\nL 52.484375 7.2 \r\n\" style=\"fill:none;stroke:#cccccc;stroke-linecap:square;stroke-linejoin:miter;stroke-width:0.8;\"/>\r\n   </g>\r\n   <g id=\"patch_11\">\r\n    <path d=\"M 387.284375 224.64 \r\nL 387.284375 7.2 \r\n\" style=\"fill:none;stroke:#cccccc;stroke-linecap:square;stroke-linejoin:miter;stroke-width:0.8;\"/>\r\n   </g>\r\n   <g id=\"patch_12\">\r\n    <path d=\"M 52.484375 224.64 \r\nL 387.284375 224.64 \r\n\" style=\"fill:none;stroke:#cccccc;stroke-linecap:square;stroke-linejoin:miter;stroke-width:0.8;\"/>\r\n   </g>\r\n   <g id=\"patch_13\">\r\n    <path d=\"M 52.484375 7.2 \r\nL 387.284375 7.2 \r\n\" style=\"fill:none;stroke:#cccccc;stroke-linecap:square;stroke-linejoin:miter;stroke-width:0.8;\"/>\r\n   </g>\r\n  </g>\r\n </g>\r\n <defs>\r\n  <clipPath id=\"p9b747166d8\">\r\n   <rect height=\"217.44\" width=\"334.8\" x=\"52.484375\" y=\"7.2\"/>\r\n  </clipPath>\r\n </defs>\r\n</svg>\r\n",
      "image/png": "[encoded data removed]"
     },
     "metadata": {}
    }
   ],
   "source": [
    "import seaborn as sns\n",
    "sns.set_style('whitegrid')\n",
    "sns.distplot(rb_df['RushingAtt']);"
   ]
  },
  {
   "cell_type": "code",
   "execution_count": 17,
   "metadata": {},
   "outputs": [
    {
     "output_type": "execute_result",
     "data": {
      "text/plain": [
       "                PLAYER POS  AVG\n",
       "0  Christian McCaffrey  RB  1.0\n",
       "1       Saquon Barkley  RB  2.0\n",
       "2      Ezekiel Elliott  RB  3.5\n",
       "3       Michael Thomas  WR  4.0\n",
       "4          Dalvin Cook  RB  5.0"
      ],
      "text/html": "<div>\n<style scoped>\n    .dataframe tbody tr th:only-of-type {\n        vertical-align: middle;\n    }\n\n    .dataframe tbody tr th {\n        vertical-align: top;\n    }\n\n    .dataframe thead th {\n        text-align: right;\n    }\n</style>\n<table border=\"1\" class=\"dataframe\">\n  <thead>\n    <tr style=\"text-align: right;\">\n      <th></th>\n      <th>PLAYER</th>\n      <th>POS</th>\n      <th>AVG</th>\n    </tr>\n  </thead>\n  <tbody>\n    <tr>\n      <th>0</th>\n      <td>Christian McCaffrey</td>\n      <td>RB</td>\n      <td>1.0</td>\n    </tr>\n    <tr>\n      <th>1</th>\n      <td>Saquon Barkley</td>\n      <td>RB</td>\n      <td>2.0</td>\n    </tr>\n    <tr>\n      <th>2</th>\n      <td>Ezekiel Elliott</td>\n      <td>RB</td>\n      <td>3.5</td>\n    </tr>\n    <tr>\n      <th>3</th>\n      <td>Michael Thomas</td>\n      <td>WR</td>\n      <td>4.0</td>\n    </tr>\n    <tr>\n      <th>4</th>\n      <td>Dalvin Cook</td>\n      <td>RB</td>\n      <td>5.0</td>\n    </tr>\n  </tbody>\n</table>\n</div>"
     },
     "metadata": {},
     "execution_count": 17
    }
   ],
   "source": [
    "adp_df = pd.read_csv('https://raw.githubusercontent.com/fantasydatapros/data/master/fantasypros/adp/PPR_ADP.csv', index_col=0) # set index col = 0 to set the range index as our dataframes index\n",
    "\n",
    "adp_df.head()"
   ]
  },
  {
   "cell_type": "code",
   "execution_count": 18,
   "metadata": {},
   "outputs": [
    {
     "output_type": "execute_result",
     "data": {
      "text/plain": [
       "                PLAYER POS  AVG  ADP RANK\n",
       "0  Christian McCaffrey  RB  1.0       1.0\n",
       "1       Saquon Barkley  RB  2.0       2.0\n",
       "2      Ezekiel Elliott  RB  3.5       3.0\n",
       "3       Michael Thomas  WR  4.0       4.0\n",
       "4          Dalvin Cook  RB  5.0       5.0"
      ],
      "text/html": "<div>\n<style scoped>\n    .dataframe tbody tr th:only-of-type {\n        vertical-align: middle;\n    }\n\n    .dataframe tbody tr th {\n        vertical-align: top;\n    }\n\n    .dataframe thead th {\n        text-align: right;\n    }\n</style>\n<table border=\"1\" class=\"dataframe\">\n  <thead>\n    <tr style=\"text-align: right;\">\n      <th></th>\n      <th>PLAYER</th>\n      <th>POS</th>\n      <th>AVG</th>\n      <th>ADP RANK</th>\n    </tr>\n  </thead>\n  <tbody>\n    <tr>\n      <th>0</th>\n      <td>Christian McCaffrey</td>\n      <td>RB</td>\n      <td>1.0</td>\n      <td>1.0</td>\n    </tr>\n    <tr>\n      <th>1</th>\n      <td>Saquon Barkley</td>\n      <td>RB</td>\n      <td>2.0</td>\n      <td>2.0</td>\n    </tr>\n    <tr>\n      <th>2</th>\n      <td>Ezekiel Elliott</td>\n      <td>RB</td>\n      <td>3.5</td>\n      <td>3.0</td>\n    </tr>\n    <tr>\n      <th>3</th>\n      <td>Michael Thomas</td>\n      <td>WR</td>\n      <td>4.0</td>\n      <td>4.0</td>\n    </tr>\n    <tr>\n      <th>4</th>\n      <td>Dalvin Cook</td>\n      <td>RB</td>\n      <td>5.0</td>\n      <td>5.0</td>\n    </tr>\n  </tbody>\n</table>\n</div>"
     },
     "metadata": {},
     "execution_count": 18
    }
   ],
   "source": [
    "# Let's add a column for ADP rank, as the AVG column only tells us their average ADP doesn't tell us much\n",
    "# we're more interested in the order of the AVG column than the average itself.\n",
    "adp_df['ADP RANK'] = adp_df['AVG'].rank()\n",
    "\n",
    "adp_df.head()"
   ]
  },
  {
   "cell_type": "code",
   "execution_count": 20,
   "metadata": {},
   "outputs": [
    {
     "output_type": "execute_result",
     "data": {
      "text/plain": [
       "(100, 4)"
      ]
     },
     "metadata": {},
     "execution_count": 20
    }
   ],
   "source": [
    "adp_df_cutoff = adp_df[:100]\n",
    "\n",
    "# shape get's us back a tuple with the number of rows, and number of columns\n",
    "# you can also use the Python built-in function len() to find the number of rows.\n",
    "\n",
    "# print(len(adp_dp_cutoff))\n",
    "\n",
    "adp_df_cutoff.shape"
   ]
  },
  {
   "cell_type": "code",
   "execution_count": 22,
   "metadata": {},
   "outputs": [],
   "source": [
    "# initialize an empty dictionary.\n",
    "# this is where we are going to save our replacement players\n",
    "\n",
    "replacement_players = {\n",
    "    'RB': '',\n",
    "    'QB': '',\n",
    "    'WR': '',\n",
    "    'TE': ''\n",
    "}\n",
    "\n",
    "\"\"\"\n",
    "We can iterate over our DataFrame using the iterrows method.\n",
    "It's similar to the items method for dictionary looping.\n",
    "Instead of key, values in dict.items(), we get back the index, row in df.items()\n",
    "Here, we're using _ as the placeholder value for the index. Whenever you do not use a variable when looping,\n",
    "you should use _ as a placeholder to tell yourself later and other people reading your code that this is a \n",
    "dummy variable. This is good style.\n",
    "Using iterrows, we can iterate over our DataFrame, and get access to each row's column values.\n",
    "We can access these column value much like we would values in a dictionary, using the [] notation.\n",
    "Here, we are constantly re-setting the keys in the dict we instantiated above with the most recent player from \n",
    "our loop, if their position is in replacement_players keys (in other words, if they are a WR, RB, TE, or qb)\n",
    "https://pandas.pydata.org/pandas-docs/stable/reference/api/pandas.DataFrame.iterrows.html\n",
    "\"\"\"\n",
    "\n",
    "for _, row in adp_df_cutoff.iterrows():\n",
    "    \n",
    "    position = row['POS'] # extract out the position and player value from each row as we loop through it\n",
    "    player = row['PLAYER']\n",
    "    \n",
    "    if position in replacement_players: # if the position is in the dict's keys\n",
    "        replacement_players[position] = player # set that player as the replacement player"
   ]
  },
  {
   "cell_type": "code",
   "execution_count": 23,
   "metadata": {},
   "outputs": [
    {
     "output_type": "execute_result",
     "data": {
      "text/plain": [
       "{'RB': 'Latavius Murray',\n",
       " 'QB': 'Aaron Rodgers',\n",
       " 'WR': 'Jamison Crowder',\n",
       " 'TE': 'Rob Gronkowski'}"
      ]
     },
     "metadata": {},
     "execution_count": 23
    }
   ],
   "source": [
    "replacement_players"
   ]
  },
  {
   "cell_type": "code",
   "execution_count": 24,
   "metadata": {},
   "outputs": [
    {
     "output_type": "execute_result",
     "data": {
      "text/plain": [
       "            Player Pos Team  FantasyPoints\n",
       "0    Lamar Jackson  QB  BAL        361.124\n",
       "1  Patrick Mahomes  QB   KC        345.384\n",
       "2     Dak Prescott  QB  DAL        318.416\n",
       "3   Deshaun Watson  QB  HOU        312.888\n",
       "4   Russell Wilson  QB  SEA        308.462"
      ],
      "text/html": "<div>\n<style scoped>\n    .dataframe tbody tr th:only-of-type {\n        vertical-align: middle;\n    }\n\n    .dataframe tbody tr th {\n        vertical-align: top;\n    }\n\n    .dataframe thead th {\n        text-align: right;\n    }\n</style>\n<table border=\"1\" class=\"dataframe\">\n  <thead>\n    <tr style=\"text-align: right;\">\n      <th></th>\n      <th>Player</th>\n      <th>Pos</th>\n      <th>Team</th>\n      <th>FantasyPoints</th>\n    </tr>\n  </thead>\n  <tbody>\n    <tr>\n      <th>0</th>\n      <td>Lamar Jackson</td>\n      <td>QB</td>\n      <td>BAL</td>\n      <td>361.124</td>\n    </tr>\n    <tr>\n      <th>1</th>\n      <td>Patrick Mahomes</td>\n      <td>QB</td>\n      <td>KC</td>\n      <td>345.384</td>\n    </tr>\n    <tr>\n      <th>2</th>\n      <td>Dak Prescott</td>\n      <td>QB</td>\n      <td>DAL</td>\n      <td>318.416</td>\n    </tr>\n    <tr>\n      <th>3</th>\n      <td>Deshaun Watson</td>\n      <td>QB</td>\n      <td>HOU</td>\n      <td>312.888</td>\n    </tr>\n    <tr>\n      <th>4</th>\n      <td>Russell Wilson</td>\n      <td>QB</td>\n      <td>SEA</td>\n      <td>308.462</td>\n    </tr>\n  </tbody>\n</table>\n</div>"
     },
     "metadata": {},
     "execution_count": 24
    }
   ],
   "source": [
    "\"\"\"\n",
    "This is how we filter out columns in pandas without using loc.\n",
    "The syntax is as follows\n",
    "df = df[columns_wed_like_to_keep_in_list_form]\n",
    "\"\"\"\n",
    "df = df[['Player', 'Pos', 'Team', 'FantasyPoints']] # filtering out the columns we need.\n",
    "df.head()"
   ]
  },
  {
   "cell_type": "code",
   "execution_count": 25,
   "metadata": {},
   "outputs": [],
   "source": [
    "replacement_values = {} # initialize an empty dictionary\n",
    "\n",
    "for position, player_name in replacement_players.items():\n",
    "    \n",
    "    player = df.loc[df['Player'] == player_name]\n",
    "    \n",
    "    # because this is a series object we get back, we need to use the tolist method\n",
    "    # to get back the series as a list. The list object is of length 1, and the 1 item has the value we need.\n",
    "    # we tack on a [0] to get the value we need.\n",
    "    \n",
    "    replacement_values[position] = player['FantasyPoints'].tolist()[0]"
   ]
  },
  {
   "cell_type": "code",
   "execution_count": 26,
   "metadata": {},
   "outputs": [
    {
     "output_type": "execute_result",
     "data": {
      "text/plain": [
       "{'RB': 118.62, 'QB': 277.432, 'WR': 192.27999999999997, 'TE': 139.5}"
      ]
     },
     "metadata": {},
     "execution_count": 26
    }
   ],
   "source": [
    "replacement_values"
   ]
  },
  {
   "cell_type": "code",
   "execution_count": 27,
   "metadata": {},
   "outputs": [],
   "source": [
    "\"\"\"\n",
    "the isin method lets us check if a value is in a list\n",
    "and can be passed as a boolean indexer / row filter / mask\n",
    "here, we want to filter out all those rows who's position column is not in\n",
    "['QB', 'RB', 'WR', 'TE']\n",
    "https://pandas.pydata.org/pandas-docs/stable/reference/api/pandas.DataFrame.isin.html\n",
    "\"\"\" \n",
    "\n",
    "# this will be explained in the next chapter\n",
    "pd.set_option('chained_assignment', None)\n",
    "\n",
    "df = df.loc[df['Pos'].isin(['QB', 'RB', 'WR', 'TE'])]\n",
    "\n",
    "# https://pandas.pydata.org/pandas-docs/stable/reference/api/pandas.DataFrame.apply.html\n",
    "df['VOR'] = df.apply(\n",
    "    lambda row: row['FantasyPoints'] - replacement_values.get(row['Pos']), axis=1\n",
    ")"
   ]
  },
  {
   "cell_type": "code",
   "execution_count": 28,
   "metadata": {},
   "outputs": [
    {
     "output_type": "execute_result",
     "data": {
      "text/plain": [
       "            Player Pos Team  FantasyPoints     VOR\n",
       "0    Lamar Jackson  QB  BAL        361.124  83.692\n",
       "1  Patrick Mahomes  QB   KC        345.384  67.952\n",
       "2     Dak Prescott  QB  DAL        318.416  40.984\n",
       "3   Deshaun Watson  QB  HOU        312.888  35.456\n",
       "4   Russell Wilson  QB  SEA        308.462  31.030"
      ],
      "text/html": "<div>\n<style scoped>\n    .dataframe tbody tr th:only-of-type {\n        vertical-align: middle;\n    }\n\n    .dataframe tbody tr th {\n        vertical-align: top;\n    }\n\n    .dataframe thead th {\n        text-align: right;\n    }\n</style>\n<table border=\"1\" class=\"dataframe\">\n  <thead>\n    <tr style=\"text-align: right;\">\n      <th></th>\n      <th>Player</th>\n      <th>Pos</th>\n      <th>Team</th>\n      <th>FantasyPoints</th>\n      <th>VOR</th>\n    </tr>\n  </thead>\n  <tbody>\n    <tr>\n      <th>0</th>\n      <td>Lamar Jackson</td>\n      <td>QB</td>\n      <td>BAL</td>\n      <td>361.124</td>\n      <td>83.692</td>\n    </tr>\n    <tr>\n      <th>1</th>\n      <td>Patrick Mahomes</td>\n      <td>QB</td>\n      <td>KC</td>\n      <td>345.384</td>\n      <td>67.952</td>\n    </tr>\n    <tr>\n      <th>2</th>\n      <td>Dak Prescott</td>\n      <td>QB</td>\n      <td>DAL</td>\n      <td>318.416</td>\n      <td>40.984</td>\n    </tr>\n    <tr>\n      <th>3</th>\n      <td>Deshaun Watson</td>\n      <td>QB</td>\n      <td>HOU</td>\n      <td>312.888</td>\n      <td>35.456</td>\n    </tr>\n    <tr>\n      <th>4</th>\n      <td>Russell Wilson</td>\n      <td>QB</td>\n      <td>SEA</td>\n      <td>308.462</td>\n      <td>31.030</td>\n    </tr>\n  </tbody>\n</table>\n</div>"
     },
     "metadata": {},
     "execution_count": 28
    }
   ],
   "source": [
    "df.head()"
   ]
  },
  {
   "cell_type": "code",
   "execution_count": 29,
   "metadata": {},
   "outputs": [
    {
     "output_type": "execute_result",
     "data": {
      "text/plain": [
       "                    Player Pos Team  FantasyPoints      VOR  VOR Rank\n",
       "12     Christian McCaffrey  RB  CAR        375.060  256.440       1.0\n",
       "23          Saquon Barkley  RB  NYG        310.790  192.170       2.0\n",
       "25         Ezekiel Elliott  RB  DAL        299.750  181.130       3.0\n",
       "33            Alvin Kamara  RB   NO        295.950  177.330       4.0\n",
       "30             Dalvin Cook  RB  MIN        289.980  171.360       5.0\n",
       "26           Derrick Henry  RB  TEN        261.780  143.160       6.0\n",
       "34          Michael Thomas  WR   NO        333.180  140.900       7.0\n",
       "35   Clyde Edwards-Helaire  RB   KC        254.230  135.610       8.0\n",
       "43           Austin Ekeler  RB  LAC        252.900  134.280       9.0\n",
       "38           Miles Sanders  RB  PHI        249.220  130.600      10.0\n",
       "42            Kenyan Drake  RB  ARI        246.120  127.500      11.0\n",
       "36               Joe Mixon  RB  CIN        240.980  122.360      12.0\n",
       "39             Aaron Jones  RB   GB        239.980  121.360      13.0\n",
       "56            Travis Kelce  TE   KC        255.440  115.940      14.0\n",
       "40           Davante Adams  WR   GB        300.450  108.170      15.0\n",
       "37              Nick Chubb  RB  CLE        224.940  106.320      16.0\n",
       "41             Josh Jacobs  RB   LV        222.940  104.320      17.0\n",
       "57            Le'Veon Bell  RB  NYJ        217.900   99.280      18.0\n",
       "48             Todd Gurley  RB  ATL        216.590   97.970      19.0\n",
       "45            Chris Carson  RB  SEA        215.870   97.250      20.0\n",
       "49            James Conner  RB  PIT        214.980   96.360      21.0\n",
       "70           George Kittle  TE   SF        235.490   95.990      22.0\n",
       "44             Julio Jones  WR  ATL        286.360   94.080      23.0\n",
       "50           David Johnson  RB  HOU        211.410   92.790      24.0\n",
       "54           Melvin Gordon  RB  DEN        206.720   88.100      25.0\n",
       "0            Lamar Jackson  QB  BAL        361.124   83.692      26.0\n",
       "95               Zach Ertz  TE  PHI        210.870   71.370      27.0\n",
       "53         DeAndre Hopkins  WR  ARI        261.160   68.880      28.0\n",
       "1          Patrick Mahomes  QB   KC        345.384   67.952      29.0\n",
       "46             Tyreek Hill  WR   KC        259.170   66.890      30.0\n",
       "66         Ronald Jones II  RB   TB        179.790   61.170      31.0\n",
       "73        Devin Singletary  RB  BUF        179.300   60.680      32.0\n",
       "52            Chris Godwin  WR   TB        250.020   57.740      33.0\n",
       "94             Kareem Hunt  RB  CLE        174.140   55.520      34.0\n",
       "69          Mark Ingram II  RB  BAL        171.730   53.110      35.0\n",
       "162            Tarik Cohen  RB  CHI        171.240   52.620      36.0\n",
       "67         Jonathan Taylor  RB  IND        170.800   52.180      37.0\n",
       "117          Darren Waller  TE   LV        189.570   50.070      38.0\n",
       "59              D.J. Moore  WR  CAR        241.630   49.350      39.0\n",
       "60            Robert Woods  WR  LAR        241.440   49.160      40.0\n",
       "156            James White  RB   NE        166.680   48.060      41.0\n",
       "96            Mark Andrews  TE  BAL        187.530   48.030      42.0\n",
       "62             Cooper Kupp  WR  LAR        238.820   46.540      43.0\n",
       "55          Kenny Golladay  WR  DET        236.860   44.580      44.0\n",
       "58              Mike Evans  WR   TB        235.180   42.900      45.0\n",
       "68          Allen Robinson  WR  CHI        235.120   42.840      46.0\n",
       "77          Raheem Mostert  RB   SF        160.040   41.420      47.0\n",
       "2             Dak Prescott  QB  DAL        318.416   40.984      48.0\n",
       "92               Cam Akers  RB  LAR        159.210   40.590      49.0\n",
       "82        David Montgomery  RB  CHI        158.910   40.290      50.0\n",
       "61            Amari Cooper  WR  DAL        230.990   38.710      51.0\n",
       "103          D'Andre Swift  RB  DET        157.210   38.590      52.0\n",
       "65           Calvin Ridley  WR  ATL        230.840   38.560      53.0\n",
       "72            Keenan Allen  WR  LAC        230.750   38.470      54.0\n",
       "64            Adam Thielen  WR  MIN        229.920   37.640      55.0\n",
       "3           Deshaun Watson  QB  HOU        312.888   35.456      56.0\n",
       "78     JuJu Smith-Schuster  WR  PIT        224.390   32.110      57.0\n",
       "4           Russell Wilson  QB  SEA        308.462   31.030      58.0\n",
       "106        Kerryon Johnson  RB  DET        149.420   30.800      59.0\n",
       "71       Odell Beckham Jr.  WR  CLE        221.870   29.590      60.0\n",
       "165            Evan Engram  TE  NYG        169.050   29.550      61.0\n",
       "120        Phillip Lindsay  RB  DEN        144.720   26.100      62.0\n",
       "63              A.J. Brown  WR  TEN        217.370   25.090      63.0\n",
       "74          DeVante Parker  WR  MIA        215.560   23.280      64.0\n",
       "173           Hunter Henry  TE  LAC        161.640   22.140      65.0\n",
       "114       Ryquell Armstead  RB  JAC        140.350   21.730      66.0\n",
       "187           Tyler Higbee  TE  LAR        160.660   21.160      67.0\n",
       "152            Matt Breida  RB  MIA        138.780   20.160      68.0\n",
       "5               Josh Allen  QB  BUF        297.482   20.050      69.0\n",
       "75           Tyler Lockett  WR  SEA        211.900   19.620      70.0\n",
       "79        Courtland Sutton  WR  DEN        211.350   19.070      71.0\n",
       "102            Marlon Mack  RB  IND        137.630   19.010      72.0\n",
       "6             Kyler Murray  QB  ARI        295.652   18.220      73.0\n",
       "80          Terry McLaurin  WR  WAS        208.950   16.670      74.0\n",
       "199           Duke Johnson  RB  HOU        134.830   16.210      75.0\n",
       "84             T.Y. Hilton  WR  IND        208.180   15.900      76.0\n",
       "81            Stefon Diggs  WR  BUF        205.150   12.870      77.0\n",
       "7                Matt Ryan  QB  ATL        289.390   11.958      78.0\n",
       "87           Jarvis Landry  WR  CLE        204.050   11.770      79.0\n",
       "86              A.J. Green  WR  CIN        203.510   11.230      80.0\n",
       "209         Antonio Gibson  RB  WAS        129.260   10.640      81.0\n",
       "88              D.J. Chark  WR  JAC        202.360   10.080      82.0\n",
       "99          Julian Edelman  WR   NE        201.860    9.580      83.0\n",
       "123          Jordan Howard  RB  MIA        128.040    9.420      84.0\n",
       "83            D.K. Metcalf  WR  SEA        201.610    9.330      85.0\n",
       "208           Hayden Hurst  TE  ATL        148.280    8.780      86.0\n",
       "97              Tyler Boyd  WR  CIN        200.190    7.910      87.0\n",
       "185             Jared Cook  TE   NO        146.400    6.900      88.0\n",
       "85          Michael Gallup  WR  DAL        198.330    6.050      89.0\n",
       "221           Mike Gesicki  TE  MIA        145.070    5.570      90.0\n",
       "216          Austin Hooper  TE  CLE        144.420    4.920      91.0\n",
       "240         Chris Thompson  RB  JAC        122.730    4.110      92.0\n",
       "207              Noah Fant  TE  DEN        142.510    3.010      93.0\n",
       "161          Tevin Coleman  RB   SF        120.990    2.370      94.0\n",
       "8               Drew Brees  QB   NO        279.616    2.184      95.0\n",
       "91          Marquise Brown  WR  BAL        193.220    0.940      96.0\n",
       "168           J.K. Dobbins  RB  BAL        119.250    0.630      97.0\n",
       "188        Latavius Murray  RB   NO        118.620    0.000      99.5\n",
       "109        Jamison Crowder  WR  NYJ        192.280    0.000      99.5\n",
       "206         Rob Gronkowski  TE   TB        139.500    0.000      99.5"
      ],
      "text/html": "<div>\n<style scoped>\n    .dataframe tbody tr th:only-of-type {\n        vertical-align: middle;\n    }\n\n    .dataframe tbody tr th {\n        vertical-align: top;\n    }\n\n    .dataframe thead th {\n        text-align: right;\n    }\n</style>\n<table border=\"1\" class=\"dataframe\">\n  <thead>\n    <tr style=\"text-align: right;\">\n      <th></th>\n      <th>Player</th>\n      <th>Pos</th>\n      <th>Team</th>\n      <th>FantasyPoints</th>\n      <th>VOR</th>\n      <th>VOR Rank</th>\n    </tr>\n  </thead>\n  <tbody>\n    <tr>\n      <th>12</th>\n      <td>Christian McCaffrey</td>\n      <td>RB</td>\n      <td>CAR</td>\n      <td>375.060</td>\n      <td>256.440</td>\n      <td>1.0</td>\n    </tr>\n    <tr>\n      <th>23</th>\n      <td>Saquon Barkley</td>\n      <td>RB</td>\n      <td>NYG</td>\n      <td>310.790</td>\n      <td>192.170</td>\n      <td>2.0</td>\n    </tr>\n    <tr>\n      <th>25</th>\n      <td>Ezekiel Elliott</td>\n      <td>RB</td>\n      <td>DAL</td>\n      <td>299.750</td>\n      <td>181.130</td>\n      <td>3.0</td>\n    </tr>\n    <tr>\n      <th>33</th>\n      <td>Alvin Kamara</td>\n      <td>RB</td>\n      <td>NO</td>\n      <td>295.950</td>\n      <td>177.330</td>\n      <td>4.0</td>\n    </tr>\n    <tr>\n      <th>30</th>\n      <td>Dalvin Cook</td>\n      <td>RB</td>\n      <td>MIN</td>\n      <td>289.980</td>\n      <td>171.360</td>\n      <td>5.0</td>\n    </tr>\n    <tr>\n      <th>26</th>\n      <td>Derrick Henry</td>\n      <td>RB</td>\n      <td>TEN</td>\n      <td>261.780</td>\n      <td>143.160</td>\n      <td>6.0</td>\n    </tr>\n    <tr>\n      <th>34</th>\n      <td>Michael Thomas</td>\n      <td>WR</td>\n      <td>NO</td>\n      <td>333.180</td>\n      <td>140.900</td>\n      <td>7.0</td>\n    </tr>\n    <tr>\n      <th>35</th>\n      <td>Clyde Edwards-Helaire</td>\n      <td>RB</td>\n      <td>KC</td>\n      <td>254.230</td>\n      <td>135.610</td>\n      <td>8.0</td>\n    </tr>\n    <tr>\n      <th>43</th>\n      <td>Austin Ekeler</td>\n      <td>RB</td>\n      <td>LAC</td>\n      <td>252.900</td>\n      <td>134.280</td>\n      <td>9.0</td>\n    </tr>\n    <tr>\n      <th>38</th>\n      <td>Miles Sanders</td>\n      <td>RB</td>\n      <td>PHI</td>\n      <td>249.220</td>\n      <td>130.600</td>\n      <td>10.0</td>\n    </tr>\n    <tr>\n      <th>42</th>\n      <td>Kenyan Drake</td>\n      <td>RB</td>\n      <td>ARI</td>\n      <td>246.120</td>\n      <td>127.500</td>\n      <td>11.0</td>\n    </tr>\n    <tr>\n      <th>36</th>\n      <td>Joe Mixon</td>\n      <td>RB</td>\n      <td>CIN</td>\n      <td>240.980</td>\n      <td>122.360</td>\n      <td>12.0</td>\n    </tr>\n    <tr>\n      <th>39</th>\n      <td>Aaron Jones</td>\n      <td>RB</td>\n      <td>GB</td>\n      <td>239.980</td>\n      <td>121.360</td>\n      <td>13.0</td>\n    </tr>\n    <tr>\n      <th>56</th>\n      <td>Travis Kelce</td>\n      <td>TE</td>\n      <td>KC</td>\n      <td>255.440</td>\n      <td>115.940</td>\n      <td>14.0</td>\n    </tr>\n    <tr>\n      <th>40</th>\n      <td>Davante Adams</td>\n      <td>WR</td>\n      <td>GB</td>\n      <td>300.450</td>\n      <td>108.170</td>\n      <td>15.0</td>\n    </tr>\n    <tr>\n      <th>37</th>\n      <td>Nick Chubb</td>\n      <td>RB</td>\n      <td>CLE</td>\n      <td>224.940</td>\n      <td>106.320</td>\n      <td>16.0</td>\n    </tr>\n    <tr>\n      <th>41</th>\n      <td>Josh Jacobs</td>\n      <td>RB</td>\n      <td>LV</td>\n      <td>222.940</td>\n      <td>104.320</td>\n      <td>17.0</td>\n    </tr>\n    <tr>\n      <th>57</th>\n      <td>Le'Veon Bell</td>\n      <td>RB</td>\n      <td>NYJ</td>\n      <td>217.900</td>\n      <td>99.280</td>\n      <td>18.0</td>\n    </tr>\n    <tr>\n      <th>48</th>\n      <td>Todd Gurley</td>\n      <td>RB</td>\n      <td>ATL</td>\n      <td>216.590</td>\n      <td>97.970</td>\n      <td>19.0</td>\n    </tr>\n    <tr>\n      <th>45</th>\n      <td>Chris Carson</td>\n      <td>RB</td>\n      <td>SEA</td>\n      <td>215.870</td>\n      <td>97.250</td>\n      <td>20.0</td>\n    </tr>\n    <tr>\n      <th>49</th>\n      <td>James Conner</td>\n      <td>RB</td>\n      <td>PIT</td>\n      <td>214.980</td>\n      <td>96.360</td>\n      <td>21.0</td>\n    </tr>\n    <tr>\n      <th>70</th>\n      <td>George Kittle</td>\n      <td>TE</td>\n      <td>SF</td>\n      <td>235.490</td>\n      <td>95.990</td>\n      <td>22.0</td>\n    </tr>\n    <tr>\n      <th>44</th>\n      <td>Julio Jones</td>\n      <td>WR</td>\n      <td>ATL</td>\n      <td>286.360</td>\n      <td>94.080</td>\n      <td>23.0</td>\n    </tr>\n    <tr>\n      <th>50</th>\n      <td>David Johnson</td>\n      <td>RB</td>\n      <td>HOU</td>\n      <td>211.410</td>\n      <td>92.790</td>\n      <td>24.0</td>\n    </tr>\n    <tr>\n      <th>54</th>\n      <td>Melvin Gordon</td>\n      <td>RB</td>\n      <td>DEN</td>\n      <td>206.720</td>\n      <td>88.100</td>\n      <td>25.0</td>\n    </tr>\n    <tr>\n      <th>0</th>\n      <td>Lamar Jackson</td>\n      <td>QB</td>\n      <td>BAL</td>\n      <td>361.124</td>\n      <td>83.692</td>\n      <td>26.0</td>\n    </tr>\n    <tr>\n      <th>95</th>\n      <td>Zach Ertz</td>\n      <td>TE</td>\n      <td>PHI</td>\n      <td>210.870</td>\n      <td>71.370</td>\n      <td>27.0</td>\n    </tr>\n    <tr>\n      <th>53</th>\n      <td>DeAndre Hopkins</td>\n      <td>WR</td>\n      <td>ARI</td>\n      <td>261.160</td>\n      <td>68.880</td>\n      <td>28.0</td>\n    </tr>\n    <tr>\n      <th>1</th>\n      <td>Patrick Mahomes</td>\n      <td>QB</td>\n      <td>KC</td>\n      <td>345.384</td>\n      <td>67.952</td>\n      <td>29.0</td>\n    </tr>\n    <tr>\n      <th>46</th>\n      <td>Tyreek Hill</td>\n      <td>WR</td>\n      <td>KC</td>\n      <td>259.170</td>\n      <td>66.890</td>\n      <td>30.0</td>\n    </tr>\n    <tr>\n      <th>66</th>\n      <td>Ronald Jones II</td>\n      <td>RB</td>\n      <td>TB</td>\n      <td>179.790</td>\n      <td>61.170</td>\n      <td>31.0</td>\n    </tr>\n    <tr>\n      <th>73</th>\n      <td>Devin Singletary</td>\n      <td>RB</td>\n      <td>BUF</td>\n      <td>179.300</td>\n      <td>60.680</td>\n      <td>32.0</td>\n    </tr>\n    <tr>\n      <th>52</th>\n      <td>Chris Godwin</td>\n      <td>WR</td>\n      <td>TB</td>\n      <td>250.020</td>\n      <td>57.740</td>\n      <td>33.0</td>\n    </tr>\n    <tr>\n      <th>94</th>\n      <td>Kareem Hunt</td>\n      <td>RB</td>\n      <td>CLE</td>\n      <td>174.140</td>\n      <td>55.520</td>\n      <td>34.0</td>\n    </tr>\n    <tr>\n      <th>69</th>\n      <td>Mark Ingram II</td>\n      <td>RB</td>\n      <td>BAL</td>\n      <td>171.730</td>\n      <td>53.110</td>\n      <td>35.0</td>\n    </tr>\n    <tr>\n      <th>162</th>\n      <td>Tarik Cohen</td>\n      <td>RB</td>\n      <td>CHI</td>\n      <td>171.240</td>\n      <td>52.620</td>\n      <td>36.0</td>\n    </tr>\n    <tr>\n      <th>67</th>\n      <td>Jonathan Taylor</td>\n      <td>RB</td>\n      <td>IND</td>\n      <td>170.800</td>\n      <td>52.180</td>\n      <td>37.0</td>\n    </tr>\n    <tr>\n      <th>117</th>\n      <td>Darren Waller</td>\n      <td>TE</td>\n      <td>LV</td>\n      <td>189.570</td>\n      <td>50.070</td>\n      <td>38.0</td>\n    </tr>\n    <tr>\n      <th>59</th>\n      <td>D.J. Moore</td>\n      <td>WR</td>\n      <td>CAR</td>\n      <td>241.630</td>\n      <td>49.350</td>\n      <td>39.0</td>\n    </tr>\n    <tr>\n      <th>60</th>\n      <td>Robert Woods</td>\n      <td>WR</td>\n      <td>LAR</td>\n      <td>241.440</td>\n      <td>49.160</td>\n      <td>40.0</td>\n    </tr>\n    <tr>\n      <th>156</th>\n      <td>James White</td>\n      <td>RB</td>\n      <td>NE</td>\n      <td>166.680</td>\n      <td>48.060</td>\n      <td>41.0</td>\n    </tr>\n    <tr>\n      <th>96</th>\n      <td>Mark Andrews</td>\n      <td>TE</td>\n      <td>BAL</td>\n      <td>187.530</td>\n      <td>48.030</td>\n      <td>42.0</td>\n    </tr>\n    <tr>\n      <th>62</th>\n      <td>Cooper Kupp</td>\n      <td>WR</td>\n      <td>LAR</td>\n      <td>238.820</td>\n      <td>46.540</td>\n      <td>43.0</td>\n    </tr>\n    <tr>\n      <th>55</th>\n      <td>Kenny Golladay</td>\n      <td>WR</td>\n      <td>DET</td>\n      <td>236.860</td>\n      <td>44.580</td>\n      <td>44.0</td>\n    </tr>\n    <tr>\n      <th>58</th>\n      <td>Mike Evans</td>\n      <td>WR</td>\n      <td>TB</td>\n      <td>235.180</td>\n      <td>42.900</td>\n      <td>45.0</td>\n    </tr>\n    <tr>\n      <th>68</th>\n      <td>Allen Robinson</td>\n      <td>WR</td>\n      <td>CHI</td>\n      <td>235.120</td>\n      <td>42.840</td>\n      <td>46.0</td>\n    </tr>\n    <tr>\n      <th>77</th>\n      <td>Raheem Mostert</td>\n      <td>RB</td>\n      <td>SF</td>\n      <td>160.040</td>\n      <td>41.420</td>\n      <td>47.0</td>\n    </tr>\n    <tr>\n      <th>2</th>\n      <td>Dak Prescott</td>\n      <td>QB</td>\n      <td>DAL</td>\n      <td>318.416</td>\n      <td>40.984</td>\n      <td>48.0</td>\n    </tr>\n    <tr>\n      <th>92</th>\n      <td>Cam Akers</td>\n      <td>RB</td>\n      <td>LAR</td>\n      <td>159.210</td>\n      <td>40.590</td>\n      <td>49.0</td>\n    </tr>\n    <tr>\n      <th>82</th>\n      <td>David Montgomery</td>\n      <td>RB</td>\n      <td>CHI</td>\n      <td>158.910</td>\n      <td>40.290</td>\n      <td>50.0</td>\n    </tr>\n    <tr>\n      <th>61</th>\n      <td>Amari Cooper</td>\n      <td>WR</td>\n      <td>DAL</td>\n      <td>230.990</td>\n      <td>38.710</td>\n      <td>51.0</td>\n    </tr>\n    <tr>\n      <th>103</th>\n      <td>D'Andre Swift</td>\n      <td>RB</td>\n      <td>DET</td>\n      <td>157.210</td>\n      <td>38.590</td>\n      <td>52.0</td>\n    </tr>\n    <tr>\n      <th>65</th>\n      <td>Calvin Ridley</td>\n      <td>WR</td>\n      <td>ATL</td>\n      <td>230.840</td>\n      <td>38.560</td>\n      <td>53.0</td>\n    </tr>\n    <tr>\n      <th>72</th>\n      <td>Keenan Allen</td>\n      <td>WR</td>\n      <td>LAC</td>\n      <td>230.750</td>\n      <td>38.470</td>\n      <td>54.0</td>\n    </tr>\n    <tr>\n      <th>64</th>\n      <td>Adam Thielen</td>\n      <td>WR</td>\n      <td>MIN</td>\n      <td>229.920</td>\n      <td>37.640</td>\n      <td>55.0</td>\n    </tr>\n    <tr>\n      <th>3</th>\n      <td>Deshaun Watson</td>\n      <td>QB</td>\n      <td>HOU</td>\n      <td>312.888</td>\n      <td>35.456</td>\n      <td>56.0</td>\n    </tr>\n    <tr>\n      <th>78</th>\n      <td>JuJu Smith-Schuster</td>\n      <td>WR</td>\n      <td>PIT</td>\n      <td>224.390</td>\n      <td>32.110</td>\n      <td>57.0</td>\n    </tr>\n    <tr>\n      <th>4</th>\n      <td>Russell Wilson</td>\n      <td>QB</td>\n      <td>SEA</td>\n      <td>308.462</td>\n      <td>31.030</td>\n      <td>58.0</td>\n    </tr>\n    <tr>\n      <th>106</th>\n      <td>Kerryon Johnson</td>\n      <td>RB</td>\n      <td>DET</td>\n      <td>149.420</td>\n      <td>30.800</td>\n      <td>59.0</td>\n    </tr>\n    <tr>\n      <th>71</th>\n      <td>Odell Beckham Jr.</td>\n      <td>WR</td>\n      <td>CLE</td>\n      <td>221.870</td>\n      <td>29.590</td>\n      <td>60.0</td>\n    </tr>\n    <tr>\n      <th>165</th>\n      <td>Evan Engram</td>\n      <td>TE</td>\n      <td>NYG</td>\n      <td>169.050</td>\n      <td>29.550</td>\n      <td>61.0</td>\n    </tr>\n    <tr>\n      <th>120</th>\n      <td>Phillip Lindsay</td>\n      <td>RB</td>\n      <td>DEN</td>\n      <td>144.720</td>\n      <td>26.100</td>\n      <td>62.0</td>\n    </tr>\n    <tr>\n      <th>63</th>\n      <td>A.J. Brown</td>\n      <td>WR</td>\n      <td>TEN</td>\n      <td>217.370</td>\n      <td>25.090</td>\n      <td>63.0</td>\n    </tr>\n    <tr>\n      <th>74</th>\n      <td>DeVante Parker</td>\n      <td>WR</td>\n      <td>MIA</td>\n      <td>215.560</td>\n      <td>23.280</td>\n      <td>64.0</td>\n    </tr>\n    <tr>\n      <th>173</th>\n      <td>Hunter Henry</td>\n      <td>TE</td>\n      <td>LAC</td>\n      <td>161.640</td>\n      <td>22.140</td>\n      <td>65.0</td>\n    </tr>\n    <tr>\n      <th>114</th>\n      <td>Ryquell Armstead</td>\n      <td>RB</td>\n      <td>JAC</td>\n      <td>140.350</td>\n      <td>21.730</td>\n      <td>66.0</td>\n    </tr>\n    <tr>\n      <th>187</th>\n      <td>Tyler Higbee</td>\n      <td>TE</td>\n      <td>LAR</td>\n      <td>160.660</td>\n      <td>21.160</td>\n      <td>67.0</td>\n    </tr>\n    <tr>\n      <th>152</th>\n      <td>Matt Breida</td>\n      <td>RB</td>\n      <td>MIA</td>\n      <td>138.780</td>\n      <td>20.160</td>\n      <td>68.0</td>\n    </tr>\n    <tr>\n      <th>5</th>\n      <td>Josh Allen</td>\n      <td>QB</td>\n      <td>BUF</td>\n      <td>297.482</td>\n      <td>20.050</td>\n      <td>69.0</td>\n    </tr>\n    <tr>\n      <th>75</th>\n      <td>Tyler Lockett</td>\n      <td>WR</td>\n      <td>SEA</td>\n      <td>211.900</td>\n      <td>19.620</td>\n      <td>70.0</td>\n    </tr>\n    <tr>\n      <th>79</th>\n      <td>Courtland Sutton</td>\n      <td>WR</td>\n      <td>DEN</td>\n      <td>211.350</td>\n      <td>19.070</td>\n      <td>71.0</td>\n    </tr>\n    <tr>\n      <th>102</th>\n      <td>Marlon Mack</td>\n      <td>RB</td>\n      <td>IND</td>\n      <td>137.630</td>\n      <td>19.010</td>\n      <td>72.0</td>\n    </tr>\n    <tr>\n      <th>6</th>\n      <td>Kyler Murray</td>\n      <td>QB</td>\n      <td>ARI</td>\n      <td>295.652</td>\n      <td>18.220</td>\n      <td>73.0</td>\n    </tr>\n    <tr>\n      <th>80</th>\n      <td>Terry McLaurin</td>\n      <td>WR</td>\n      <td>WAS</td>\n      <td>208.950</td>\n      <td>16.670</td>\n      <td>74.0</td>\n    </tr>\n    <tr>\n      <th>199</th>\n      <td>Duke Johnson</td>\n      <td>RB</td>\n      <td>HOU</td>\n      <td>134.830</td>\n      <td>16.210</td>\n      <td>75.0</td>\n    </tr>\n    <tr>\n      <th>84</th>\n      <td>T.Y. Hilton</td>\n      <td>WR</td>\n      <td>IND</td>\n      <td>208.180</td>\n      <td>15.900</td>\n      <td>76.0</td>\n    </tr>\n    <tr>\n      <th>81</th>\n      <td>Stefon Diggs</td>\n      <td>WR</td>\n      <td>BUF</td>\n      <td>205.150</td>\n      <td>12.870</td>\n      <td>77.0</td>\n    </tr>\n    <tr>\n      <th>7</th>\n      <td>Matt Ryan</td>\n      <td>QB</td>\n      <td>ATL</td>\n      <td>289.390</td>\n      <td>11.958</td>\n      <td>78.0</td>\n    </tr>\n    <tr>\n      <th>87</th>\n      <td>Jarvis Landry</td>\n      <td>WR</td>\n      <td>CLE</td>\n      <td>204.050</td>\n      <td>11.770</td>\n      <td>79.0</td>\n    </tr>\n    <tr>\n      <th>86</th>\n      <td>A.J. Green</td>\n      <td>WR</td>\n      <td>CIN</td>\n      <td>203.510</td>\n      <td>11.230</td>\n      <td>80.0</td>\n    </tr>\n    <tr>\n      <th>209</th>\n      <td>Antonio Gibson</td>\n      <td>RB</td>\n      <td>WAS</td>\n      <td>129.260</td>\n      <td>10.640</td>\n      <td>81.0</td>\n    </tr>\n    <tr>\n      <th>88</th>\n      <td>D.J. Chark</td>\n      <td>WR</td>\n      <td>JAC</td>\n      <td>202.360</td>\n      <td>10.080</td>\n      <td>82.0</td>\n    </tr>\n    <tr>\n      <th>99</th>\n      <td>Julian Edelman</td>\n      <td>WR</td>\n      <td>NE</td>\n      <td>201.860</td>\n      <td>9.580</td>\n      <td>83.0</td>\n    </tr>\n    <tr>\n      <th>123</th>\n      <td>Jordan Howard</td>\n      <td>RB</td>\n      <td>MIA</td>\n      <td>128.040</td>\n      <td>9.420</td>\n      <td>84.0</td>\n    </tr>\n    <tr>\n      <th>83</th>\n      <td>D.K. Metcalf</td>\n      <td>WR</td>\n      <td>SEA</td>\n      <td>201.610</td>\n      <td>9.330</td>\n      <td>85.0</td>\n    </tr>\n    <tr>\n      <th>208</th>\n      <td>Hayden Hurst</td>\n      <td>TE</td>\n      <td>ATL</td>\n      <td>148.280</td>\n      <td>8.780</td>\n      <td>86.0</td>\n    </tr>\n    <tr>\n      <th>97</th>\n      <td>Tyler Boyd</td>\n      <td>WR</td>\n      <td>CIN</td>\n      <td>200.190</td>\n      <td>7.910</td>\n      <td>87.0</td>\n    </tr>\n    <tr>\n      <th>185</th>\n      <td>Jared Cook</td>\n      <td>TE</td>\n      <td>NO</td>\n      <td>146.400</td>\n      <td>6.900</td>\n      <td>88.0</td>\n    </tr>\n    <tr>\n      <th>85</th>\n      <td>Michael Gallup</td>\n      <td>WR</td>\n      <td>DAL</td>\n      <td>198.330</td>\n      <td>6.050</td>\n      <td>89.0</td>\n    </tr>\n    <tr>\n      <th>221</th>\n      <td>Mike Gesicki</td>\n      <td>TE</td>\n      <td>MIA</td>\n      <td>145.070</td>\n      <td>5.570</td>\n      <td>90.0</td>\n    </tr>\n    <tr>\n      <th>216</th>\n      <td>Austin Hooper</td>\n      <td>TE</td>\n      <td>CLE</td>\n      <td>144.420</td>\n      <td>4.920</td>\n      <td>91.0</td>\n    </tr>\n    <tr>\n      <th>240</th>\n      <td>Chris Thompson</td>\n      <td>RB</td>\n      <td>JAC</td>\n      <td>122.730</td>\n      <td>4.110</td>\n      <td>92.0</td>\n    </tr>\n    <tr>\n      <th>207</th>\n      <td>Noah Fant</td>\n      <td>TE</td>\n      <td>DEN</td>\n      <td>142.510</td>\n      <td>3.010</td>\n      <td>93.0</td>\n    </tr>\n    <tr>\n      <th>161</th>\n      <td>Tevin Coleman</td>\n      <td>RB</td>\n      <td>SF</td>\n      <td>120.990</td>\n      <td>2.370</td>\n      <td>94.0</td>\n    </tr>\n    <tr>\n      <th>8</th>\n      <td>Drew Brees</td>\n      <td>QB</td>\n      <td>NO</td>\n      <td>279.616</td>\n      <td>2.184</td>\n      <td>95.0</td>\n    </tr>\n    <tr>\n      <th>91</th>\n      <td>Marquise Brown</td>\n      <td>WR</td>\n      <td>BAL</td>\n      <td>193.220</td>\n      <td>0.940</td>\n      <td>96.0</td>\n    </tr>\n    <tr>\n      <th>168</th>\n      <td>J.K. Dobbins</td>\n      <td>RB</td>\n      <td>BAL</td>\n      <td>119.250</td>\n      <td>0.630</td>\n      <td>97.0</td>\n    </tr>\n    <tr>\n      <th>188</th>\n      <td>Latavius Murray</td>\n      <td>RB</td>\n      <td>NO</td>\n      <td>118.620</td>\n      <td>0.000</td>\n      <td>99.5</td>\n    </tr>\n    <tr>\n      <th>109</th>\n      <td>Jamison Crowder</td>\n      <td>WR</td>\n      <td>NYJ</td>\n      <td>192.280</td>\n      <td>0.000</td>\n      <td>99.5</td>\n    </tr>\n    <tr>\n      <th>206</th>\n      <td>Rob Gronkowski</td>\n      <td>TE</td>\n      <td>TB</td>\n      <td>139.500</td>\n      <td>0.000</td>\n      <td>99.5</td>\n    </tr>\n  </tbody>\n</table>\n</div>"
     },
     "metadata": {},
     "execution_count": 29
    }
   ],
   "source": [
    "# https://pandas.pydata.org/pandas-docs/stable/reference/api/pandas.set_option.html\n",
    "pd.set_option('display.max_rows', None) # turn off truncation of rows setting inherent to pandas\n",
    "\n",
    "df['VOR Rank'] = df['VOR'].rank(ascending=False)\n",
    "df.sort_values(by='VOR', ascending=False).head(100)"
   ]
  },
  {
   "cell_type": "code",
   "execution_count": 30,
   "metadata": {},
   "outputs": [
    {
     "output_type": "execute_result",
     "data": {
      "text/plain": [
       "     count        mean         std      min       25%     50%     75%      max\n",
       "Pos                                                                           \n",
       "QB    89.0 -176.720337  122.762942 -277.432 -272.7440 -265.39 -33.736   83.692\n",
       "RB   155.0  -36.236129   83.097178 -117.570 -103.8800  -64.80   6.765  256.440\n",
       "TE   128.0  -81.878203   54.454555 -139.500 -122.0725 -104.45 -50.840  115.940\n",
       "WR   245.0 -114.184694   79.501235 -192.280 -181.1000 -151.34 -52.910  140.900"
      ],
      "text/html": "<div>\n<style scoped>\n    .dataframe tbody tr th:only-of-type {\n        vertical-align: middle;\n    }\n\n    .dataframe tbody tr th {\n        vertical-align: top;\n    }\n\n    .dataframe thead th {\n        text-align: right;\n    }\n</style>\n<table border=\"1\" class=\"dataframe\">\n  <thead>\n    <tr style=\"text-align: right;\">\n      <th></th>\n      <th>count</th>\n      <th>mean</th>\n      <th>std</th>\n      <th>min</th>\n      <th>25%</th>\n      <th>50%</th>\n      <th>75%</th>\n      <th>max</th>\n    </tr>\n    <tr>\n      <th>Pos</th>\n      <th></th>\n      <th></th>\n      <th></th>\n      <th></th>\n      <th></th>\n      <th></th>\n      <th></th>\n      <th></th>\n    </tr>\n  </thead>\n  <tbody>\n    <tr>\n      <th>QB</th>\n      <td>89.0</td>\n      <td>-176.720337</td>\n      <td>122.762942</td>\n      <td>-277.432</td>\n      <td>-272.7440</td>\n      <td>-265.39</td>\n      <td>-33.736</td>\n      <td>83.692</td>\n    </tr>\n    <tr>\n      <th>RB</th>\n      <td>155.0</td>\n      <td>-36.236129</td>\n      <td>83.097178</td>\n      <td>-117.570</td>\n      <td>-103.8800</td>\n      <td>-64.80</td>\n      <td>6.765</td>\n      <td>256.440</td>\n    </tr>\n    <tr>\n      <th>TE</th>\n      <td>128.0</td>\n      <td>-81.878203</td>\n      <td>54.454555</td>\n      <td>-139.500</td>\n      <td>-122.0725</td>\n      <td>-104.45</td>\n      <td>-50.840</td>\n      <td>115.940</td>\n    </tr>\n    <tr>\n      <th>WR</th>\n      <td>245.0</td>\n      <td>-114.184694</td>\n      <td>79.501235</td>\n      <td>-192.280</td>\n      <td>-181.1000</td>\n      <td>-151.34</td>\n      <td>-52.910</td>\n      <td>140.900</td>\n    </tr>\n  </tbody>\n</table>\n</div>"
     },
     "metadata": {},
     "execution_count": 30
    }
   ],
   "source": [
    "\"\"\"\n",
    "the pandas groupby method allows us to groupby a specific column, called \"splitting\",\n",
    "then apply a summary function over to each group. We can split this up by column as well, by tacking\n",
    "on ['ColumName'] after grouping and before applying the summary function.\n",
    "https://pandas.pydata.org/pandas-docs/stable/reference/api/pandas.DataFrame.groupby.html\n",
    "\"\"\"\n",
    "\n",
    "df.groupby('Pos')['VOR'].describe()"
   ]
  },
  {
   "cell_type": "code",
   "execution_count": 31,
   "metadata": {},
   "outputs": [],
   "source": [
    "# standard score example. Notice axis is not set to 1 as we are applying a function across a column here.\n",
    "# df['VOR'] = df['VOR'].apply(lambda x: (x - df['VOR'].mean()) / df['VOR'].std())\n",
    "\n",
    "df['VOR'] = df['VOR'].apply(lambda x: (x - df['VOR'].min()) / (df['VOR'].max() - df['VOR'].min()))"
   ]
  },
  {
   "cell_type": "code",
   "execution_count": 32,
   "metadata": {},
   "outputs": [
    {
     "output_type": "execute_result",
     "data": {
      "text/plain": [
       "                    Player Pos Team  FantasyPoints       VOR  VOR Rank\n",
       "12     Christian McCaffrey  RB  CAR        375.060  1.000000       1.0\n",
       "23          Saquon Barkley  RB  NYG        310.790  0.879615       2.0\n",
       "25         Ezekiel Elliott  RB  DAL        299.750  0.858936       3.0\n",
       "33            Alvin Kamara  RB   NO        295.950  0.851818       4.0\n",
       "30             Dalvin Cook  RB  MIN        289.980  0.840636       5.0\n",
       "26           Derrick Henry  RB  TEN        261.780  0.787814       6.0\n",
       "34          Michael Thomas  WR   NO        333.180  0.783581       7.0\n",
       "35   Clyde Edwards-Helaire  RB   KC        254.230  0.773672       8.0\n",
       "43           Austin Ekeler  RB  LAC        252.900  0.771181       9.0\n",
       "38           Miles Sanders  RB  PHI        249.220  0.764288      10.0\n",
       "42            Kenyan Drake  RB  ARI        246.120  0.758481      11.0\n",
       "36               Joe Mixon  RB  CIN        240.980  0.748854      12.0\n",
       "39             Aaron Jones  RB   GB        239.980  0.746981      13.0\n",
       "56            Travis Kelce  TE   KC        255.440  0.736828      14.0\n",
       "40           Davante Adams  WR   GB        300.450  0.722274      15.0\n",
       "37              Nick Chubb  RB  CLE        224.940  0.718809      16.0\n",
       "41             Josh Jacobs  RB   LV        222.940  0.715063      17.0\n",
       "57            Le'Veon Bell  RB  NYJ        217.900  0.705622      18.0\n",
       "48             Todd Gurley  RB  ATL        216.590  0.703169      19.0\n",
       "45            Chris Carson  RB  SEA        215.870  0.701820      20.0\n",
       "49            James Conner  RB  PIT        214.980  0.700153      21.0\n",
       "70           George Kittle  TE   SF        235.490  0.699460      22.0\n",
       "44             Julio Jones  WR  ATL        286.360  0.695882      23.0\n",
       "50           David Johnson  RB  HOU        211.410  0.693466      24.0\n",
       "54           Melvin Gordon  RB  DEN        206.720  0.684681      25.0\n",
       "0            Lamar Jackson  QB  BAL        361.124  0.676424      26.0\n",
       "95               Zach Ertz  TE  PHI        210.870  0.653344      27.0\n",
       "53         DeAndre Hopkins  WR  ARI        261.160  0.648680      28.0\n",
       "1          Patrick Mahomes  QB   KC        345.384  0.646942      29.0\n",
       "46             Tyreek Hill  WR   KC        259.170  0.644952      30.0\n",
       "66         Ronald Jones II  RB   TB        179.790  0.634238      31.0\n",
       "73        Devin Singletary  RB  BUF        179.300  0.633320      32.0\n",
       "52            Chris Godwin  WR   TB        250.020  0.627813      33.0\n",
       "94             Kareem Hunt  RB  CLE        174.140  0.623655      34.0\n",
       "69          Mark Ingram II  RB  BAL        171.730  0.619141      35.0\n",
       "162            Tarik Cohen  RB  CHI        171.240  0.618223      36.0\n",
       "67         Jonathan Taylor  RB  IND        170.800  0.617399      37.0\n",
       "117          Darren Waller  TE   LV        189.570  0.613447      38.0\n",
       "59              D.J. Moore  WR  CAR        241.630  0.612098      39.0\n",
       "60            Robert Woods  WR  LAR        241.440  0.611742      40.0\n",
       "156            James White  RB   NE        166.680  0.609682      41.0\n",
       "96            Mark Andrews  TE  BAL        187.530  0.609626      42.0\n",
       "62             Cooper Kupp  WR  LAR        238.820  0.606835      43.0\n",
       "55          Kenny Golladay  WR  DET        236.860  0.603163      44.0\n",
       "58              Mike Evans  WR   TB        235.180  0.600016      45.0\n",
       "68          Allen Robinson  WR  CHI        235.120  0.599904      46.0\n",
       "77          Raheem Mostert  RB   SF        160.040  0.597244      47.0\n",
       "2             Dak Prescott  QB  DAL        318.416  0.596428      48.0\n",
       "92               Cam Akers  RB  LAR        159.210  0.595690      49.0\n",
       "82        David Montgomery  RB  CHI        158.910  0.595128      50.0\n",
       "61            Amari Cooper  WR  DAL        230.990  0.592168      51.0\n",
       "103          D'Andre Swift  RB  DET        157.210  0.591943      52.0\n",
       "65           Calvin Ridley  WR  ATL        230.840  0.591887      53.0\n",
       "72            Keenan Allen  WR  LAC        230.750  0.591719      54.0\n",
       "64            Adam Thielen  WR  MIN        229.920  0.590164      55.0\n",
       "3           Deshaun Watson  QB  HOU        312.888  0.586073      56.0\n",
       "78     JuJu Smith-Schuster  WR  PIT        224.390  0.579806      57.0\n",
       "4           Russell Wilson  QB  SEA        308.462  0.577783      58.0\n",
       "106        Kerryon Johnson  RB  DET        149.420  0.577352      59.0\n",
       "71       Odell Beckham Jr.  WR  CLE        221.870  0.575085      60.0\n",
       "165            Evan Engram  TE  NYG        169.050  0.575010      61.0\n",
       "120        Phillip Lindsay  RB  DEN        144.720  0.568548      62.0\n",
       "63              A.J. Brown  WR  TEN        217.370  0.566656      63.0\n",
       "74          DeVante Parker  WR  MIA        215.560  0.563266      64.0\n",
       "173           Hunter Henry  TE  LAC        161.640  0.561131      65.0\n",
       "114       Ryquell Armstead  RB  JAC        140.350  0.560363      66.0\n",
       "187           Tyler Higbee  TE  LAR        160.660  0.559295      67.0\n",
       "152            Matt Breida  RB  MIA        138.780  0.557422      68.0\n",
       "5               Josh Allen  QB  BUF        297.482  0.557216      69.0\n",
       "75           Tyler Lockett  WR  SEA        211.900  0.556411      70.0\n",
       "79        Courtland Sutton  WR  DEN        211.350  0.555380      71.0\n",
       "102            Marlon Mack  RB  IND        137.630  0.555268      72.0\n",
       "6             Kyler Murray  QB  ARI        295.652  0.553788      73.0\n",
       "80          Terry McLaurin  WR  WAS        208.950  0.550885      74.0\n",
       "199           Duke Johnson  RB  HOU        134.830  0.550023      75.0\n",
       "84             T.Y. Hilton  WR  IND        208.180  0.549443      76.0\n",
       "81            Stefon Diggs  WR  BUF        205.150  0.543767      77.0\n",
       "7                Matt Ryan  QB  ATL        289.390  0.542059      78.0\n",
       "87           Jarvis Landry  WR  CLE        204.050  0.541707      79.0\n",
       "86              A.J. Green  WR  CIN        203.510  0.540695      80.0\n",
       "209         Antonio Gibson  RB  WAS        129.260  0.539590      81.0\n",
       "88              D.J. Chark  WR  JAC        202.360  0.538541      82.0\n",
       "99          Julian Edelman  WR   NE        201.860  0.537605      83.0\n",
       "123          Jordan Howard  RB  MIA        128.040  0.537305      84.0\n",
       "83            D.K. Metcalf  WR  SEA        201.610  0.537136      85.0\n",
       "208           Hayden Hurst  TE  ATL        148.280  0.536106      86.0\n",
       "97              Tyler Boyd  WR  CIN        200.190  0.534476      87.0\n",
       "185             Jared Cook  TE   NO        146.400  0.532585      88.0\n",
       "85          Michael Gallup  WR  DAL        198.330  0.530992      89.0\n",
       "221           Mike Gesicki  TE  MIA        145.070  0.530093      90.0\n",
       "216          Austin Hooper  TE  CLE        144.420  0.528876      91.0\n",
       "240         Chris Thompson  RB  JAC        122.730  0.527359      92.0\n",
       "207              Noah Fant  TE  DEN        142.510  0.525298      93.0\n",
       "161          Tevin Coleman  RB   SF        120.990  0.524099      94.0\n",
       "8               Drew Brees  QB   NO        279.616  0.523751      95.0\n",
       "91          Marquise Brown  WR  BAL        193.220  0.521421      96.0\n",
       "168           J.K. Dobbins  RB  BAL        119.250  0.520840      97.0\n",
       "9            Aaron Rodgers  QB   GB        277.432  0.519660      99.5\n",
       "206         Rob Gronkowski  TE   TB        139.500  0.519660      99.5\n",
       "109        Jamison Crowder  WR  NYJ        192.280  0.519660      99.5"
      ],
      "text/html": "<div>\n<style scoped>\n    .dataframe tbody tr th:only-of-type {\n        vertical-align: middle;\n    }\n\n    .dataframe tbody tr th {\n        vertical-align: top;\n    }\n\n    .dataframe thead th {\n        text-align: right;\n    }\n</style>\n<table border=\"1\" class=\"dataframe\">\n  <thead>\n    <tr style=\"text-align: right;\">\n      <th></th>\n      <th>Player</th>\n      <th>Pos</th>\n      <th>Team</th>\n      <th>FantasyPoints</th>\n      <th>VOR</th>\n      <th>VOR Rank</th>\n    </tr>\n  </thead>\n  <tbody>\n    <tr>\n      <th>12</th>\n      <td>Christian McCaffrey</td>\n      <td>RB</td>\n      <td>CAR</td>\n      <td>375.060</td>\n      <td>1.000000</td>\n      <td>1.0</td>\n    </tr>\n    <tr>\n      <th>23</th>\n      <td>Saquon Barkley</td>\n      <td>RB</td>\n      <td>NYG</td>\n      <td>310.790</td>\n      <td>0.879615</td>\n      <td>2.0</td>\n    </tr>\n    <tr>\n      <th>25</th>\n      <td>Ezekiel Elliott</td>\n      <td>RB</td>\n      <td>DAL</td>\n      <td>299.750</td>\n      <td>0.858936</td>\n      <td>3.0</td>\n    </tr>\n    <tr>\n      <th>33</th>\n      <td>Alvin Kamara</td>\n      <td>RB</td>\n      <td>NO</td>\n      <td>295.950</td>\n      <td>0.851818</td>\n      <td>4.0</td>\n    </tr>\n    <tr>\n      <th>30</th>\n      <td>Dalvin Cook</td>\n      <td>RB</td>\n      <td>MIN</td>\n      <td>289.980</td>\n      <td>0.840636</td>\n      <td>5.0</td>\n    </tr>\n    <tr>\n      <th>26</th>\n      <td>Derrick Henry</td>\n      <td>RB</td>\n      <td>TEN</td>\n      <td>261.780</td>\n      <td>0.787814</td>\n      <td>6.0</td>\n    </tr>\n    <tr>\n      <th>34</th>\n      <td>Michael Thomas</td>\n      <td>WR</td>\n      <td>NO</td>\n      <td>333.180</td>\n      <td>0.783581</td>\n      <td>7.0</td>\n    </tr>\n    <tr>\n      <th>35</th>\n      <td>Clyde Edwards-Helaire</td>\n      <td>RB</td>\n      <td>KC</td>\n      <td>254.230</td>\n      <td>0.773672</td>\n      <td>8.0</td>\n    </tr>\n    <tr>\n      <th>43</th>\n      <td>Austin Ekeler</td>\n      <td>RB</td>\n      <td>LAC</td>\n      <td>252.900</td>\n      <td>0.771181</td>\n      <td>9.0</td>\n    </tr>\n    <tr>\n      <th>38</th>\n      <td>Miles Sanders</td>\n      <td>RB</td>\n      <td>PHI</td>\n      <td>249.220</td>\n      <td>0.764288</td>\n      <td>10.0</td>\n    </tr>\n    <tr>\n      <th>42</th>\n      <td>Kenyan Drake</td>\n      <td>RB</td>\n      <td>ARI</td>\n      <td>246.120</td>\n      <td>0.758481</td>\n      <td>11.0</td>\n    </tr>\n    <tr>\n      <th>36</th>\n      <td>Joe Mixon</td>\n      <td>RB</td>\n      <td>CIN</td>\n      <td>240.980</td>\n      <td>0.748854</td>\n      <td>12.0</td>\n    </tr>\n    <tr>\n      <th>39</th>\n      <td>Aaron Jones</td>\n      <td>RB</td>\n      <td>GB</td>\n      <td>239.980</td>\n      <td>0.746981</td>\n      <td>13.0</td>\n    </tr>\n    <tr>\n      <th>56</th>\n      <td>Travis Kelce</td>\n      <td>TE</td>\n      <td>KC</td>\n      <td>255.440</td>\n      <td>0.736828</td>\n      <td>14.0</td>\n    </tr>\n    <tr>\n      <th>40</th>\n      <td>Davante Adams</td>\n      <td>WR</td>\n      <td>GB</td>\n      <td>300.450</td>\n      <td>0.722274</td>\n      <td>15.0</td>\n    </tr>\n    <tr>\n      <th>37</th>\n      <td>Nick Chubb</td>\n      <td>RB</td>\n      <td>CLE</td>\n      <td>224.940</td>\n      <td>0.718809</td>\n      <td>16.0</td>\n    </tr>\n    <tr>\n      <th>41</th>\n      <td>Josh Jacobs</td>\n      <td>RB</td>\n      <td>LV</td>\n      <td>222.940</td>\n      <td>0.715063</td>\n      <td>17.0</td>\n    </tr>\n    <tr>\n      <th>57</th>\n      <td>Le'Veon Bell</td>\n      <td>RB</td>\n      <td>NYJ</td>\n      <td>217.900</td>\n      <td>0.705622</td>\n      <td>18.0</td>\n    </tr>\n    <tr>\n      <th>48</th>\n      <td>Todd Gurley</td>\n      <td>RB</td>\n      <td>ATL</td>\n      <td>216.590</td>\n      <td>0.703169</td>\n      <td>19.0</td>\n    </tr>\n    <tr>\n      <th>45</th>\n      <td>Chris Carson</td>\n      <td>RB</td>\n      <td>SEA</td>\n      <td>215.870</td>\n      <td>0.701820</td>\n      <td>20.0</td>\n    </tr>\n    <tr>\n      <th>49</th>\n      <td>James Conner</td>\n      <td>RB</td>\n      <td>PIT</td>\n      <td>214.980</td>\n      <td>0.700153</td>\n      <td>21.0</td>\n    </tr>\n    <tr>\n      <th>70</th>\n      <td>George Kittle</td>\n      <td>TE</td>\n      <td>SF</td>\n      <td>235.490</td>\n      <td>0.699460</td>\n      <td>22.0</td>\n    </tr>\n    <tr>\n      <th>44</th>\n      <td>Julio Jones</td>\n      <td>WR</td>\n      <td>ATL</td>\n      <td>286.360</td>\n      <td>0.695882</td>\n      <td>23.0</td>\n    </tr>\n    <tr>\n      <th>50</th>\n      <td>David Johnson</td>\n      <td>RB</td>\n      <td>HOU</td>\n      <td>211.410</td>\n      <td>0.693466</td>\n      <td>24.0</td>\n    </tr>\n    <tr>\n      <th>54</th>\n      <td>Melvin Gordon</td>\n      <td>RB</td>\n      <td>DEN</td>\n      <td>206.720</td>\n      <td>0.684681</td>\n      <td>25.0</td>\n    </tr>\n    <tr>\n      <th>0</th>\n      <td>Lamar Jackson</td>\n      <td>QB</td>\n      <td>BAL</td>\n      <td>361.124</td>\n      <td>0.676424</td>\n      <td>26.0</td>\n    </tr>\n    <tr>\n      <th>95</th>\n      <td>Zach Ertz</td>\n      <td>TE</td>\n      <td>PHI</td>\n      <td>210.870</td>\n      <td>0.653344</td>\n      <td>27.0</td>\n    </tr>\n    <tr>\n      <th>53</th>\n      <td>DeAndre Hopkins</td>\n      <td>WR</td>\n      <td>ARI</td>\n      <td>261.160</td>\n      <td>0.648680</td>\n      <td>28.0</td>\n    </tr>\n    <tr>\n      <th>1</th>\n      <td>Patrick Mahomes</td>\n      <td>QB</td>\n      <td>KC</td>\n      <td>345.384</td>\n      <td>0.646942</td>\n      <td>29.0</td>\n    </tr>\n    <tr>\n      <th>46</th>\n      <td>Tyreek Hill</td>\n      <td>WR</td>\n      <td>KC</td>\n      <td>259.170</td>\n      <td>0.644952</td>\n      <td>30.0</td>\n    </tr>\n    <tr>\n      <th>66</th>\n      <td>Ronald Jones II</td>\n      <td>RB</td>\n      <td>TB</td>\n      <td>179.790</td>\n      <td>0.634238</td>\n      <td>31.0</td>\n    </tr>\n    <tr>\n      <th>73</th>\n      <td>Devin Singletary</td>\n      <td>RB</td>\n      <td>BUF</td>\n      <td>179.300</td>\n      <td>0.633320</td>\n      <td>32.0</td>\n    </tr>\n    <tr>\n      <th>52</th>\n      <td>Chris Godwin</td>\n      <td>WR</td>\n      <td>TB</td>\n      <td>250.020</td>\n      <td>0.627813</td>\n      <td>33.0</td>\n    </tr>\n    <tr>\n      <th>94</th>\n      <td>Kareem Hunt</td>\n      <td>RB</td>\n      <td>CLE</td>\n      <td>174.140</td>\n      <td>0.623655</td>\n      <td>34.0</td>\n    </tr>\n    <tr>\n      <th>69</th>\n      <td>Mark Ingram II</td>\n      <td>RB</td>\n      <td>BAL</td>\n      <td>171.730</td>\n      <td>0.619141</td>\n      <td>35.0</td>\n    </tr>\n    <tr>\n      <th>162</th>\n      <td>Tarik Cohen</td>\n      <td>RB</td>\n      <td>CHI</td>\n      <td>171.240</td>\n      <td>0.618223</td>\n      <td>36.0</td>\n    </tr>\n    <tr>\n      <th>67</th>\n      <td>Jonathan Taylor</td>\n      <td>RB</td>\n      <td>IND</td>\n      <td>170.800</td>\n      <td>0.617399</td>\n      <td>37.0</td>\n    </tr>\n    <tr>\n      <th>117</th>\n      <td>Darren Waller</td>\n      <td>TE</td>\n      <td>LV</td>\n      <td>189.570</td>\n      <td>0.613447</td>\n      <td>38.0</td>\n    </tr>\n    <tr>\n      <th>59</th>\n      <td>D.J. Moore</td>\n      <td>WR</td>\n      <td>CAR</td>\n      <td>241.630</td>\n      <td>0.612098</td>\n      <td>39.0</td>\n    </tr>\n    <tr>\n      <th>60</th>\n      <td>Robert Woods</td>\n      <td>WR</td>\n      <td>LAR</td>\n      <td>241.440</td>\n      <td>0.611742</td>\n      <td>40.0</td>\n    </tr>\n    <tr>\n      <th>156</th>\n      <td>James White</td>\n      <td>RB</td>\n      <td>NE</td>\n      <td>166.680</td>\n      <td>0.609682</td>\n      <td>41.0</td>\n    </tr>\n    <tr>\n      <th>96</th>\n      <td>Mark Andrews</td>\n      <td>TE</td>\n      <td>BAL</td>\n      <td>187.530</td>\n      <td>0.609626</td>\n      <td>42.0</td>\n    </tr>\n    <tr>\n      <th>62</th>\n      <td>Cooper Kupp</td>\n      <td>WR</td>\n      <td>LAR</td>\n      <td>238.820</td>\n      <td>0.606835</td>\n      <td>43.0</td>\n    </tr>\n    <tr>\n      <th>55</th>\n      <td>Kenny Golladay</td>\n      <td>WR</td>\n      <td>DET</td>\n      <td>236.860</td>\n      <td>0.603163</td>\n      <td>44.0</td>\n    </tr>\n    <tr>\n      <th>58</th>\n      <td>Mike Evans</td>\n      <td>WR</td>\n      <td>TB</td>\n      <td>235.180</td>\n      <td>0.600016</td>\n      <td>45.0</td>\n    </tr>\n    <tr>\n      <th>68</th>\n      <td>Allen Robinson</td>\n      <td>WR</td>\n      <td>CHI</td>\n      <td>235.120</td>\n      <td>0.599904</td>\n      <td>46.0</td>\n    </tr>\n    <tr>\n      <th>77</th>\n      <td>Raheem Mostert</td>\n      <td>RB</td>\n      <td>SF</td>\n      <td>160.040</td>\n      <td>0.597244</td>\n      <td>47.0</td>\n    </tr>\n    <tr>\n      <th>2</th>\n      <td>Dak Prescott</td>\n      <td>QB</td>\n      <td>DAL</td>\n      <td>318.416</td>\n      <td>0.596428</td>\n      <td>48.0</td>\n    </tr>\n    <tr>\n      <th>92</th>\n      <td>Cam Akers</td>\n      <td>RB</td>\n      <td>LAR</td>\n      <td>159.210</td>\n      <td>0.595690</td>\n      <td>49.0</td>\n    </tr>\n    <tr>\n      <th>82</th>\n      <td>David Montgomery</td>\n      <td>RB</td>\n      <td>CHI</td>\n      <td>158.910</td>\n      <td>0.595128</td>\n      <td>50.0</td>\n    </tr>\n    <tr>\n      <th>61</th>\n      <td>Amari Cooper</td>\n      <td>WR</td>\n      <td>DAL</td>\n      <td>230.990</td>\n      <td>0.592168</td>\n      <td>51.0</td>\n    </tr>\n    <tr>\n      <th>103</th>\n      <td>D'Andre Swift</td>\n      <td>RB</td>\n      <td>DET</td>\n      <td>157.210</td>\n      <td>0.591943</td>\n      <td>52.0</td>\n    </tr>\n    <tr>\n      <th>65</th>\n      <td>Calvin Ridley</td>\n      <td>WR</td>\n      <td>ATL</td>\n      <td>230.840</td>\n      <td>0.591887</td>\n      <td>53.0</td>\n    </tr>\n    <tr>\n      <th>72</th>\n      <td>Keenan Allen</td>\n      <td>WR</td>\n      <td>LAC</td>\n      <td>230.750</td>\n      <td>0.591719</td>\n      <td>54.0</td>\n    </tr>\n    <tr>\n      <th>64</th>\n      <td>Adam Thielen</td>\n      <td>WR</td>\n      <td>MIN</td>\n      <td>229.920</td>\n      <td>0.590164</td>\n      <td>55.0</td>\n    </tr>\n    <tr>\n      <th>3</th>\n      <td>Deshaun Watson</td>\n      <td>QB</td>\n      <td>HOU</td>\n      <td>312.888</td>\n      <td>0.586073</td>\n      <td>56.0</td>\n    </tr>\n    <tr>\n      <th>78</th>\n      <td>JuJu Smith-Schuster</td>\n      <td>WR</td>\n      <td>PIT</td>\n      <td>224.390</td>\n      <td>0.579806</td>\n      <td>57.0</td>\n    </tr>\n    <tr>\n      <th>4</th>\n      <td>Russell Wilson</td>\n      <td>QB</td>\n      <td>SEA</td>\n      <td>308.462</td>\n      <td>0.577783</td>\n      <td>58.0</td>\n    </tr>\n    <tr>\n      <th>106</th>\n      <td>Kerryon Johnson</td>\n      <td>RB</td>\n      <td>DET</td>\n      <td>149.420</td>\n      <td>0.577352</td>\n      <td>59.0</td>\n    </tr>\n    <tr>\n      <th>71</th>\n      <td>Odell Beckham Jr.</td>\n      <td>WR</td>\n      <td>CLE</td>\n      <td>221.870</td>\n      <td>0.575085</td>\n      <td>60.0</td>\n    </tr>\n    <tr>\n      <th>165</th>\n      <td>Evan Engram</td>\n      <td>TE</td>\n      <td>NYG</td>\n      <td>169.050</td>\n      <td>0.575010</td>\n      <td>61.0</td>\n    </tr>\n    <tr>\n      <th>120</th>\n      <td>Phillip Lindsay</td>\n      <td>RB</td>\n      <td>DEN</td>\n      <td>144.720</td>\n      <td>0.568548</td>\n      <td>62.0</td>\n    </tr>\n    <tr>\n      <th>63</th>\n      <td>A.J. Brown</td>\n      <td>WR</td>\n      <td>TEN</td>\n      <td>217.370</td>\n      <td>0.566656</td>\n      <td>63.0</td>\n    </tr>\n    <tr>\n      <th>74</th>\n      <td>DeVante Parker</td>\n      <td>WR</td>\n      <td>MIA</td>\n      <td>215.560</td>\n      <td>0.563266</td>\n      <td>64.0</td>\n    </tr>\n    <tr>\n      <th>173</th>\n      <td>Hunter Henry</td>\n      <td>TE</td>\n      <td>LAC</td>\n      <td>161.640</td>\n      <td>0.561131</td>\n      <td>65.0</td>\n    </tr>\n    <tr>\n      <th>114</th>\n      <td>Ryquell Armstead</td>\n      <td>RB</td>\n      <td>JAC</td>\n      <td>140.350</td>\n      <td>0.560363</td>\n      <td>66.0</td>\n    </tr>\n    <tr>\n      <th>187</th>\n      <td>Tyler Higbee</td>\n      <td>TE</td>\n      <td>LAR</td>\n      <td>160.660</td>\n      <td>0.559295</td>\n      <td>67.0</td>\n    </tr>\n    <tr>\n      <th>152</th>\n      <td>Matt Breida</td>\n      <td>RB</td>\n      <td>MIA</td>\n      <td>138.780</td>\n      <td>0.557422</td>\n      <td>68.0</td>\n    </tr>\n    <tr>\n      <th>5</th>\n      <td>Josh Allen</td>\n      <td>QB</td>\n      <td>BUF</td>\n      <td>297.482</td>\n      <td>0.557216</td>\n      <td>69.0</td>\n    </tr>\n    <tr>\n      <th>75</th>\n      <td>Tyler Lockett</td>\n      <td>WR</td>\n      <td>SEA</td>\n      <td>211.900</td>\n      <td>0.556411</td>\n      <td>70.0</td>\n    </tr>\n    <tr>\n      <th>79</th>\n      <td>Courtland Sutton</td>\n      <td>WR</td>\n      <td>DEN</td>\n      <td>211.350</td>\n      <td>0.555380</td>\n      <td>71.0</td>\n    </tr>\n    <tr>\n      <th>102</th>\n      <td>Marlon Mack</td>\n      <td>RB</td>\n      <td>IND</td>\n      <td>137.630</td>\n      <td>0.555268</td>\n      <td>72.0</td>\n    </tr>\n    <tr>\n      <th>6</th>\n      <td>Kyler Murray</td>\n      <td>QB</td>\n      <td>ARI</td>\n      <td>295.652</td>\n      <td>0.553788</td>\n      <td>73.0</td>\n    </tr>\n    <tr>\n      <th>80</th>\n      <td>Terry McLaurin</td>\n      <td>WR</td>\n      <td>WAS</td>\n      <td>208.950</td>\n      <td>0.550885</td>\n      <td>74.0</td>\n    </tr>\n    <tr>\n      <th>199</th>\n      <td>Duke Johnson</td>\n      <td>RB</td>\n      <td>HOU</td>\n      <td>134.830</td>\n      <td>0.550023</td>\n      <td>75.0</td>\n    </tr>\n    <tr>\n      <th>84</th>\n      <td>T.Y. Hilton</td>\n      <td>WR</td>\n      <td>IND</td>\n      <td>208.180</td>\n      <td>0.549443</td>\n      <td>76.0</td>\n    </tr>\n    <tr>\n      <th>81</th>\n      <td>Stefon Diggs</td>\n      <td>WR</td>\n      <td>BUF</td>\n      <td>205.150</td>\n      <td>0.543767</td>\n      <td>77.0</td>\n    </tr>\n    <tr>\n      <th>7</th>\n      <td>Matt Ryan</td>\n      <td>QB</td>\n      <td>ATL</td>\n      <td>289.390</td>\n      <td>0.542059</td>\n      <td>78.0</td>\n    </tr>\n    <tr>\n      <th>87</th>\n      <td>Jarvis Landry</td>\n      <td>WR</td>\n      <td>CLE</td>\n      <td>204.050</td>\n      <td>0.541707</td>\n      <td>79.0</td>\n    </tr>\n    <tr>\n      <th>86</th>\n      <td>A.J. Green</td>\n      <td>WR</td>\n      <td>CIN</td>\n      <td>203.510</td>\n      <td>0.540695</td>\n      <td>80.0</td>\n    </tr>\n    <tr>\n      <th>209</th>\n      <td>Antonio Gibson</td>\n      <td>RB</td>\n      <td>WAS</td>\n      <td>129.260</td>\n      <td>0.539590</td>\n      <td>81.0</td>\n    </tr>\n    <tr>\n      <th>88</th>\n      <td>D.J. Chark</td>\n      <td>WR</td>\n      <td>JAC</td>\n      <td>202.360</td>\n      <td>0.538541</td>\n      <td>82.0</td>\n    </tr>\n    <tr>\n      <th>99</th>\n      <td>Julian Edelman</td>\n      <td>WR</td>\n      <td>NE</td>\n      <td>201.860</td>\n      <td>0.537605</td>\n      <td>83.0</td>\n    </tr>\n    <tr>\n      <th>123</th>\n      <td>Jordan Howard</td>\n      <td>RB</td>\n      <td>MIA</td>\n      <td>128.040</td>\n      <td>0.537305</td>\n      <td>84.0</td>\n    </tr>\n    <tr>\n      <th>83</th>\n      <td>D.K. Metcalf</td>\n      <td>WR</td>\n      <td>SEA</td>\n      <td>201.610</td>\n      <td>0.537136</td>\n      <td>85.0</td>\n    </tr>\n    <tr>\n      <th>208</th>\n      <td>Hayden Hurst</td>\n      <td>TE</td>\n      <td>ATL</td>\n      <td>148.280</td>\n      <td>0.536106</td>\n      <td>86.0</td>\n    </tr>\n    <tr>\n      <th>97</th>\n      <td>Tyler Boyd</td>\n      <td>WR</td>\n      <td>CIN</td>\n      <td>200.190</td>\n      <td>0.534476</td>\n      <td>87.0</td>\n    </tr>\n    <tr>\n      <th>185</th>\n      <td>Jared Cook</td>\n      <td>TE</td>\n      <td>NO</td>\n      <td>146.400</td>\n      <td>0.532585</td>\n      <td>88.0</td>\n    </tr>\n    <tr>\n      <th>85</th>\n      <td>Michael Gallup</td>\n      <td>WR</td>\n      <td>DAL</td>\n      <td>198.330</td>\n      <td>0.530992</td>\n      <td>89.0</td>\n    </tr>\n    <tr>\n      <th>221</th>\n      <td>Mike Gesicki</td>\n      <td>TE</td>\n      <td>MIA</td>\n      <td>145.070</td>\n      <td>0.530093</td>\n      <td>90.0</td>\n    </tr>\n    <tr>\n      <th>216</th>\n      <td>Austin Hooper</td>\n      <td>TE</td>\n      <td>CLE</td>\n      <td>144.420</td>\n      <td>0.528876</td>\n      <td>91.0</td>\n    </tr>\n    <tr>\n      <th>240</th>\n      <td>Chris Thompson</td>\n      <td>RB</td>\n      <td>JAC</td>\n      <td>122.730</td>\n      <td>0.527359</td>\n      <td>92.0</td>\n    </tr>\n    <tr>\n      <th>207</th>\n      <td>Noah Fant</td>\n      <td>TE</td>\n      <td>DEN</td>\n      <td>142.510</td>\n      <td>0.525298</td>\n      <td>93.0</td>\n    </tr>\n    <tr>\n      <th>161</th>\n      <td>Tevin Coleman</td>\n      <td>RB</td>\n      <td>SF</td>\n      <td>120.990</td>\n      <td>0.524099</td>\n      <td>94.0</td>\n    </tr>\n    <tr>\n      <th>8</th>\n      <td>Drew Brees</td>\n      <td>QB</td>\n      <td>NO</td>\n      <td>279.616</td>\n      <td>0.523751</td>\n      <td>95.0</td>\n    </tr>\n    <tr>\n      <th>91</th>\n      <td>Marquise Brown</td>\n      <td>WR</td>\n      <td>BAL</td>\n      <td>193.220</td>\n      <td>0.521421</td>\n      <td>96.0</td>\n    </tr>\n    <tr>\n      <th>168</th>\n      <td>J.K. Dobbins</td>\n      <td>RB</td>\n      <td>BAL</td>\n      <td>119.250</td>\n      <td>0.520840</td>\n      <td>97.0</td>\n    </tr>\n    <tr>\n      <th>9</th>\n      <td>Aaron Rodgers</td>\n      <td>QB</td>\n      <td>GB</td>\n      <td>277.432</td>\n      <td>0.519660</td>\n      <td>99.5</td>\n    </tr>\n    <tr>\n      <th>206</th>\n      <td>Rob Gronkowski</td>\n      <td>TE</td>\n      <td>TB</td>\n      <td>139.500</td>\n      <td>0.519660</td>\n      <td>99.5</td>\n    </tr>\n    <tr>\n      <th>109</th>\n      <td>Jamison Crowder</td>\n      <td>WR</td>\n      <td>NYJ</td>\n      <td>192.280</td>\n      <td>0.519660</td>\n      <td>99.5</td>\n    </tr>\n  </tbody>\n</table>\n</div>"
     },
     "metadata": {},
     "execution_count": 32
    }
   ],
   "source": [
    "df = df.sort_values(by='VOR Rank')\n",
    "df.head(100)"
   ]
  },
  {
   "cell_type": "code",
   "execution_count": 33,
   "metadata": {},
   "outputs": [
    {
     "output_type": "display_data",
     "data": {
      "text/plain": "<Figure size 432x288 with 1 Axes>",
      "image/svg+xml": "<?xml version=\"1.0\" encoding=\"utf-8\" standalone=\"no\"?>\r\n<!DOCTYPE svg PUBLIC \"-//W3C//DTD SVG 1.1//EN\"\r\n  \"http://www.w3.org/Graphics/SVG/1.1/DTD/svg11.dtd\">\r\n<svg height=\"261.130625pt\" version=\"1.1\" viewBox=\"0 0 383.245312 261.130625\" width=\"383.245312pt\" xmlns=\"http://www.w3.org/2000/svg\" xmlns:xlink=\"http://www.w3.org/1999/xlink\">\r\n <metadata>\r\n  <rdf:RDF xmlns:cc=\"http://creativecommons.org/ns#\" xmlns:dc=\"http://purl.org/dc/elements/1.1/\" xmlns:rdf=\"http://www.w3.org/1999/02/22-rdf-syntax-ns#\">\r\n   <cc:Work>\r\n    <dc:type rdf:resource=\"http://purl.org/dc/dcmitype/StillImage\"/>\r\n    <dc:date>2021-04-17T23:21:25.821613</dc:date>\r\n    <dc:format>image/svg+xml</dc:format>\r\n    <dc:creator>\r\n     <cc:Agent>\r\n      <dc:title>Matplotlib v3.4.1, https://matplotlib.org/</dc:title>\r\n     </cc:Agent>\r\n    </dc:creator>\r\n   </cc:Work>\r\n  </rdf:RDF>\r\n </metadata>\r\n <defs>\r\n  <style type=\"text/css\">*{stroke-linecap:butt;stroke-linejoin:round;}</style>\r\n </defs>\r\n <g id=\"figure_1\">\r\n  <g id=\"patch_1\">\r\n   <path d=\"M 0 261.130625 \r\nL 383.245312 261.130625 \r\nL 383.245312 0 \r\nL 0 0 \r\nz\r\n\" style=\"fill:#ffffff;\"/>\r\n  </g>\r\n  <g id=\"axes_1\">\r\n   <g id=\"patch_2\">\r\n    <path d=\"M 41.245313 224.64 \r\nL 376.045313 224.64 \r\nL 376.045313 7.2 \r\nL 41.245313 7.2 \r\nz\r\n\" style=\"fill:#ffffff;\"/>\r\n   </g>\r\n   <g id=\"matplotlib.axis_1\">\r\n    <g id=\"xtick_1\">\r\n     <g id=\"text_1\">\r\n      <!-- RB -->\r\n      <g style=\"fill:#262626;\" transform=\"translate(76.149219 238.797812)scale(0.1 -0.1)\">\r\n       <defs>\r\n        <path d=\"M 503 0 \r\nL 503 4581 \r\nL 2534 4581 \r\nQ 3147 4581 3465 4457 \r\nQ 3784 4334 3975 4021 \r\nQ 4166 3709 4166 3331 \r\nQ 4166 2844 3850 2509 \r\nQ 3534 2175 2875 2084 \r\nQ 3116 1969 3241 1856 \r\nQ 3506 1613 3744 1247 \r\nL 4541 0 \r\nL 3778 0 \r\nL 3172 953 \r\nQ 2906 1366 2734 1584 \r\nQ 2563 1803 2427 1890 \r\nQ 2291 1978 2150 2013 \r\nQ 2047 2034 1813 2034 \r\nL 1109 2034 \r\nL 1109 0 \r\nL 503 0 \r\nz\r\nM 1109 2559 \r\nL 2413 2559 \r\nQ 2828 2559 3062 2645 \r\nQ 3297 2731 3419 2920 \r\nQ 3541 3109 3541 3331 \r\nQ 3541 3656 3305 3865 \r\nQ 3069 4075 2559 4075 \r\nL 1109 4075 \r\nL 1109 2559 \r\nz\r\n\" id=\"ArialMT-52\" transform=\"scale(0.015625)\"/>\r\n        <path d=\"M 469 0 \r\nL 469 4581 \r\nL 2188 4581 \r\nQ 2713 4581 3030 4442 \r\nQ 3347 4303 3526 4014 \r\nQ 3706 3725 3706 3409 \r\nQ 3706 3116 3547 2856 \r\nQ 3388 2597 3066 2438 \r\nQ 3481 2316 3704 2022 \r\nQ 3928 1728 3928 1328 \r\nQ 3928 1006 3792 729 \r\nQ 3656 453 3456 303 \r\nQ 3256 153 2954 76 \r\nQ 2653 0 2216 0 \r\nL 469 0 \r\nz\r\nM 1075 2656 \r\nL 2066 2656 \r\nQ 2469 2656 2644 2709 \r\nQ 2875 2778 2992 2937 \r\nQ 3109 3097 3109 3338 \r\nQ 3109 3566 3000 3739 \r\nQ 2891 3913 2687 3977 \r\nQ 2484 4041 1991 4041 \r\nL 1075 4041 \r\nL 1075 2656 \r\nz\r\nM 1075 541 \r\nL 2216 541 \r\nQ 2509 541 2628 563 \r\nQ 2838 600 2978 687 \r\nQ 3119 775 3209 942 \r\nQ 3300 1109 3300 1328 \r\nQ 3300 1584 3169 1773 \r\nQ 3038 1963 2805 2039 \r\nQ 2572 2116 2134 2116 \r\nL 1075 2116 \r\nL 1075 541 \r\nz\r\n\" id=\"ArialMT-42\" transform=\"scale(0.015625)\"/>\r\n       </defs>\r\n       <use xlink:href=\"#ArialMT-52\"/>\r\n       <use x=\"72.216797\" xlink:href=\"#ArialMT-42\"/>\r\n      </g>\r\n     </g>\r\n    </g>\r\n    <g id=\"xtick_2\">\r\n     <g id=\"text_2\">\r\n      <!-- WR -->\r\n      <g style=\"fill:#262626;\" transform=\"translate(158.464844 238.797812)scale(0.1 -0.1)\">\r\n       <defs>\r\n        <path d=\"M 1294 0 \r\nL 78 4581 \r\nL 700 4581 \r\nL 1397 1578 \r\nQ 1509 1106 1591 641 \r\nQ 1766 1375 1797 1488 \r\nL 2669 4581 \r\nL 3400 4581 \r\nL 4056 2263 \r\nQ 4303 1400 4413 641 \r\nQ 4500 1075 4641 1638 \r\nL 5359 4581 \r\nL 5969 4581 \r\nL 4713 0 \r\nL 4128 0 \r\nL 3163 3491 \r\nQ 3041 3928 3019 4028 \r\nQ 2947 3713 2884 3491 \r\nL 1913 0 \r\nL 1294 0 \r\nz\r\n\" id=\"ArialMT-57\" transform=\"scale(0.015625)\"/>\r\n       </defs>\r\n       <use xlink:href=\"#ArialMT-57\"/>\r\n       <use x=\"94.384766\" xlink:href=\"#ArialMT-52\"/>\r\n      </g>\r\n     </g>\r\n    </g>\r\n    <g id=\"xtick_3\">\r\n     <g id=\"text_3\">\r\n      <!-- TE -->\r\n      <g style=\"fill:#262626;\" transform=\"translate(244.10625 238.797812)scale(0.1 -0.1)\">\r\n       <defs>\r\n        <path d=\"M 1659 0 \r\nL 1659 4041 \r\nL 150 4041 \r\nL 150 4581 \r\nL 3781 4581 \r\nL 3781 4041 \r\nL 2266 4041 \r\nL 2266 0 \r\nL 1659 0 \r\nz\r\n\" id=\"ArialMT-54\" transform=\"scale(0.015625)\"/>\r\n        <path d=\"M 506 0 \r\nL 506 4581 \r\nL 3819 4581 \r\nL 3819 4041 \r\nL 1113 4041 \r\nL 1113 2638 \r\nL 3647 2638 \r\nL 3647 2100 \r\nL 1113 2100 \r\nL 1113 541 \r\nL 3925 541 \r\nL 3925 0 \r\nL 506 0 \r\nz\r\n\" id=\"ArialMT-45\" transform=\"scale(0.015625)\"/>\r\n       </defs>\r\n       <use xlink:href=\"#ArialMT-54\"/>\r\n       <use x=\"61.083984\" xlink:href=\"#ArialMT-45\"/>\r\n      </g>\r\n     </g>\r\n    </g>\r\n    <g id=\"xtick_4\">\r\n     <g id=\"text_4\">\r\n      <!-- QB -->\r\n      <g style=\"fill:#262626;\" transform=\"translate(326.971094 238.797812)scale(0.1 -0.1)\">\r\n       <defs>\r\n        <path d=\"M 3966 491 \r\nQ 4388 200 4744 66 \r\nL 4566 -356 \r\nQ 4072 -178 3581 206 \r\nQ 3072 -78 2456 -78 \r\nQ 1834 -78 1328 222 \r\nQ 822 522 548 1065 \r\nQ 275 1609 275 2291 \r\nQ 275 2969 550 3525 \r\nQ 825 4081 1333 4372 \r\nQ 1841 4663 2469 4663 \r\nQ 3103 4663 3612 4361 \r\nQ 4122 4059 4389 3517 \r\nQ 4656 2975 4656 2294 \r\nQ 4656 1728 4484 1276 \r\nQ 4313 825 3966 491 \r\nz\r\nM 2631 1266 \r\nQ 3156 1119 3497 828 \r\nQ 4031 1316 4031 2294 \r\nQ 4031 2850 3842 3265 \r\nQ 3653 3681 3289 3911 \r\nQ 2925 4141 2472 4141 \r\nQ 1794 4141 1347 3677 \r\nQ 900 3213 900 2291 \r\nQ 900 1397 1342 919 \r\nQ 1784 441 2472 441 \r\nQ 2797 441 3084 563 \r\nQ 2800 747 2484 825 \r\nL 2631 1266 \r\nz\r\n\" id=\"ArialMT-51\" transform=\"scale(0.015625)\"/>\r\n       </defs>\r\n       <use xlink:href=\"#ArialMT-51\"/>\r\n       <use x=\"77.783203\" xlink:href=\"#ArialMT-42\"/>\r\n      </g>\r\n     </g>\r\n    </g>\r\n    <g id=\"text_5\">\r\n     <!-- Pos -->\r\n     <g style=\"fill:#262626;\" transform=\"translate(200.029688 251.943125)scale(0.1 -0.1)\">\r\n      <defs>\r\n       <path d=\"M 494 0 \r\nL 494 4581 \r\nL 2222 4581 \r\nQ 2678 4581 2919 4538 \r\nQ 3256 4481 3484 4323 \r\nQ 3713 4166 3852 3881 \r\nQ 3991 3597 3991 3256 \r\nQ 3991 2672 3619 2267 \r\nQ 3247 1863 2275 1863 \r\nL 1100 1863 \r\nL 1100 0 \r\nL 494 0 \r\nz\r\nM 1100 2403 \r\nL 2284 2403 \r\nQ 2872 2403 3119 2622 \r\nQ 3366 2841 3366 3238 \r\nQ 3366 3525 3220 3729 \r\nQ 3075 3934 2838 4000 \r\nQ 2684 4041 2272 4041 \r\nL 1100 4041 \r\nL 1100 2403 \r\nz\r\n\" id=\"ArialMT-50\" transform=\"scale(0.015625)\"/>\r\n       <path d=\"M 213 1659 \r\nQ 213 2581 725 3025 \r\nQ 1153 3394 1769 3394 \r\nQ 2453 3394 2887 2945 \r\nQ 3322 2497 3322 1706 \r\nQ 3322 1066 3130 698 \r\nQ 2938 331 2570 128 \r\nQ 2203 -75 1769 -75 \r\nQ 1072 -75 642 372 \r\nQ 213 819 213 1659 \r\nz\r\nM 791 1659 \r\nQ 791 1022 1069 705 \r\nQ 1347 388 1769 388 \r\nQ 2188 388 2466 706 \r\nQ 2744 1025 2744 1678 \r\nQ 2744 2294 2464 2611 \r\nQ 2184 2928 1769 2928 \r\nQ 1347 2928 1069 2612 \r\nQ 791 2297 791 1659 \r\nz\r\n\" id=\"ArialMT-6f\" transform=\"scale(0.015625)\"/>\r\n       <path d=\"M 197 991 \r\nL 753 1078 \r\nQ 800 744 1014 566 \r\nQ 1228 388 1613 388 \r\nQ 2000 388 2187 545 \r\nQ 2375 703 2375 916 \r\nQ 2375 1106 2209 1216 \r\nQ 2094 1291 1634 1406 \r\nQ 1016 1563 777 1677 \r\nQ 538 1791 414 1992 \r\nQ 291 2194 291 2438 \r\nQ 291 2659 392 2848 \r\nQ 494 3038 669 3163 \r\nQ 800 3259 1026 3326 \r\nQ 1253 3394 1513 3394 \r\nQ 1903 3394 2198 3281 \r\nQ 2494 3169 2634 2976 \r\nQ 2775 2784 2828 2463 \r\nL 2278 2388 \r\nQ 2241 2644 2061 2787 \r\nQ 1881 2931 1553 2931 \r\nQ 1166 2931 1000 2803 \r\nQ 834 2675 834 2503 \r\nQ 834 2394 903 2306 \r\nQ 972 2216 1119 2156 \r\nQ 1203 2125 1616 2013 \r\nQ 2213 1853 2448 1751 \r\nQ 2684 1650 2818 1456 \r\nQ 2953 1263 2953 975 \r\nQ 2953 694 2789 445 \r\nQ 2625 197 2315 61 \r\nQ 2006 -75 1616 -75 \r\nQ 969 -75 630 194 \r\nQ 291 463 197 991 \r\nz\r\n\" id=\"ArialMT-73\" transform=\"scale(0.015625)\"/>\r\n      </defs>\r\n      <use xlink:href=\"#ArialMT-50\"/>\r\n      <use x=\"66.699219\" xlink:href=\"#ArialMT-6f\"/>\r\n      <use x=\"122.314453\" xlink:href=\"#ArialMT-73\"/>\r\n     </g>\r\n    </g>\r\n   </g>\r\n   <g id=\"matplotlib.axis_2\">\r\n    <g id=\"ytick_1\">\r\n     <g id=\"line2d_1\">\r\n      <path clip-path=\"url(#pa7240a425b)\" d=\"M 41.245313 221.102068 \r\nL 376.045313 221.102068 \r\n\" style=\"fill:none;stroke:#cccccc;stroke-linecap:round;stroke-width:0.8;\"/>\r\n     </g>\r\n     <g id=\"text_6\">\r\n      <!-- 0.4 -->\r\n      <g style=\"fill:#262626;\" transform=\"translate(20.345313 224.680975)scale(0.1 -0.1)\">\r\n       <defs>\r\n        <path d=\"M 266 2259 \r\nQ 266 3072 433 3567 \r\nQ 600 4063 929 4331 \r\nQ 1259 4600 1759 4600 \r\nQ 2128 4600 2406 4451 \r\nQ 2684 4303 2865 4023 \r\nQ 3047 3744 3150 3342 \r\nQ 3253 2941 3253 2259 \r\nQ 3253 1453 3087 958 \r\nQ 2922 463 2592 192 \r\nQ 2263 -78 1759 -78 \r\nQ 1097 -78 719 397 \r\nQ 266 969 266 2259 \r\nz\r\nM 844 2259 \r\nQ 844 1131 1108 757 \r\nQ 1372 384 1759 384 \r\nQ 2147 384 2411 759 \r\nQ 2675 1134 2675 2259 \r\nQ 2675 3391 2411 3762 \r\nQ 2147 4134 1753 4134 \r\nQ 1366 4134 1134 3806 \r\nQ 844 3388 844 2259 \r\nz\r\n\" id=\"ArialMT-30\" transform=\"scale(0.015625)\"/>\r\n        <path d=\"M 581 0 \r\nL 581 641 \r\nL 1222 641 \r\nL 1222 0 \r\nL 581 0 \r\nz\r\n\" id=\"ArialMT-2e\" transform=\"scale(0.015625)\"/>\r\n        <path d=\"M 2069 0 \r\nL 2069 1097 \r\nL 81 1097 \r\nL 81 1613 \r\nL 2172 4581 \r\nL 2631 4581 \r\nL 2631 1613 \r\nL 3250 1613 \r\nL 3250 1097 \r\nL 2631 1097 \r\nL 2631 0 \r\nL 2069 0 \r\nz\r\nM 2069 1613 \r\nL 2069 3678 \r\nL 634 1613 \r\nL 2069 1613 \r\nz\r\n\" id=\"ArialMT-34\" transform=\"scale(0.015625)\"/>\r\n       </defs>\r\n       <use xlink:href=\"#ArialMT-30\"/>\r\n       <use x=\"55.615234\" xlink:href=\"#ArialMT-2e\"/>\r\n       <use x=\"83.398438\" xlink:href=\"#ArialMT-34\"/>\r\n      </g>\r\n     </g>\r\n    </g>\r\n    <g id=\"ytick_2\">\r\n     <g id=\"line2d_2\">\r\n      <path clip-path=\"url(#pa7240a425b)\" d=\"M 41.245313 187.098996 \r\nL 376.045313 187.098996 \r\n\" style=\"fill:none;stroke:#cccccc;stroke-linecap:round;stroke-width:0.8;\"/>\r\n     </g>\r\n     <g id=\"text_7\">\r\n      <!-- 0.5 -->\r\n      <g style=\"fill:#262626;\" transform=\"translate(20.345313 190.677903)scale(0.1 -0.1)\">\r\n       <defs>\r\n        <path d=\"M 266 1200 \r\nL 856 1250 \r\nQ 922 819 1161 601 \r\nQ 1400 384 1738 384 \r\nQ 2144 384 2425 690 \r\nQ 2706 997 2706 1503 \r\nQ 2706 1984 2436 2262 \r\nQ 2166 2541 1728 2541 \r\nQ 1456 2541 1237 2417 \r\nQ 1019 2294 894 2097 \r\nL 366 2166 \r\nL 809 4519 \r\nL 3088 4519 \r\nL 3088 3981 \r\nL 1259 3981 \r\nL 1013 2750 \r\nQ 1425 3038 1878 3038 \r\nQ 2478 3038 2890 2622 \r\nQ 3303 2206 3303 1553 \r\nQ 3303 931 2941 478 \r\nQ 2500 -78 1738 -78 \r\nQ 1113 -78 717 272 \r\nQ 322 622 266 1200 \r\nz\r\n\" id=\"ArialMT-35\" transform=\"scale(0.015625)\"/>\r\n       </defs>\r\n       <use xlink:href=\"#ArialMT-30\"/>\r\n       <use x=\"55.615234\" xlink:href=\"#ArialMT-2e\"/>\r\n       <use x=\"83.398438\" xlink:href=\"#ArialMT-35\"/>\r\n      </g>\r\n     </g>\r\n    </g>\r\n    <g id=\"ytick_3\">\r\n     <g id=\"line2d_3\">\r\n      <path clip-path=\"url(#pa7240a425b)\" d=\"M 41.245313 153.095924 \r\nL 376.045313 153.095924 \r\n\" style=\"fill:none;stroke:#cccccc;stroke-linecap:round;stroke-width:0.8;\"/>\r\n     </g>\r\n     <g id=\"text_8\">\r\n      <!-- 0.6 -->\r\n      <g style=\"fill:#262626;\" transform=\"translate(20.345313 156.674831)scale(0.1 -0.1)\">\r\n       <defs>\r\n        <path d=\"M 3184 3459 \r\nL 2625 3416 \r\nQ 2550 3747 2413 3897 \r\nQ 2184 4138 1850 4138 \r\nQ 1581 4138 1378 3988 \r\nQ 1113 3794 959 3422 \r\nQ 806 3050 800 2363 \r\nQ 1003 2672 1297 2822 \r\nQ 1591 2972 1913 2972 \r\nQ 2475 2972 2870 2558 \r\nQ 3266 2144 3266 1488 \r\nQ 3266 1056 3080 686 \r\nQ 2894 316 2569 119 \r\nQ 2244 -78 1831 -78 \r\nQ 1128 -78 684 439 \r\nQ 241 956 241 2144 \r\nQ 241 3472 731 4075 \r\nQ 1159 4600 1884 4600 \r\nQ 2425 4600 2770 4297 \r\nQ 3116 3994 3184 3459 \r\nz\r\nM 888 1484 \r\nQ 888 1194 1011 928 \r\nQ 1134 663 1356 523 \r\nQ 1578 384 1822 384 \r\nQ 2178 384 2434 671 \r\nQ 2691 959 2691 1453 \r\nQ 2691 1928 2437 2201 \r\nQ 2184 2475 1800 2475 \r\nQ 1419 2475 1153 2201 \r\nQ 888 1928 888 1484 \r\nz\r\n\" id=\"ArialMT-36\" transform=\"scale(0.015625)\"/>\r\n       </defs>\r\n       <use xlink:href=\"#ArialMT-30\"/>\r\n       <use x=\"55.615234\" xlink:href=\"#ArialMT-2e\"/>\r\n       <use x=\"83.398438\" xlink:href=\"#ArialMT-36\"/>\r\n      </g>\r\n     </g>\r\n    </g>\r\n    <g id=\"ytick_4\">\r\n     <g id=\"line2d_4\">\r\n      <path clip-path=\"url(#pa7240a425b)\" d=\"M 41.245313 119.092852 \r\nL 376.045313 119.092852 \r\n\" style=\"fill:none;stroke:#cccccc;stroke-linecap:round;stroke-width:0.8;\"/>\r\n     </g>\r\n     <g id=\"text_9\">\r\n      <!-- 0.7 -->\r\n      <g style=\"fill:#262626;\" transform=\"translate(20.345313 122.671759)scale(0.1 -0.1)\">\r\n       <defs>\r\n        <path d=\"M 303 3981 \r\nL 303 4522 \r\nL 3269 4522 \r\nL 3269 4084 \r\nQ 2831 3619 2401 2847 \r\nQ 1972 2075 1738 1259 \r\nQ 1569 684 1522 0 \r\nL 944 0 \r\nQ 953 541 1156 1306 \r\nQ 1359 2072 1739 2783 \r\nQ 2119 3494 2547 3981 \r\nL 303 3981 \r\nz\r\n\" id=\"ArialMT-37\" transform=\"scale(0.015625)\"/>\r\n       </defs>\r\n       <use xlink:href=\"#ArialMT-30\"/>\r\n       <use x=\"55.615234\" xlink:href=\"#ArialMT-2e\"/>\r\n       <use x=\"83.398438\" xlink:href=\"#ArialMT-37\"/>\r\n      </g>\r\n     </g>\r\n    </g>\r\n    <g id=\"ytick_5\">\r\n     <g id=\"line2d_5\">\r\n      <path clip-path=\"url(#pa7240a425b)\" d=\"M 41.245313 85.08978 \r\nL 376.045313 85.08978 \r\n\" style=\"fill:none;stroke:#cccccc;stroke-linecap:round;stroke-width:0.8;\"/>\r\n     </g>\r\n     <g id=\"text_10\">\r\n      <!-- 0.8 -->\r\n      <g style=\"fill:#262626;\" transform=\"translate(20.345313 88.668687)scale(0.1 -0.1)\">\r\n       <defs>\r\n        <path d=\"M 1131 2484 \r\nQ 781 2613 612 2850 \r\nQ 444 3088 444 3419 \r\nQ 444 3919 803 4259 \r\nQ 1163 4600 1759 4600 \r\nQ 2359 4600 2725 4251 \r\nQ 3091 3903 3091 3403 \r\nQ 3091 3084 2923 2848 \r\nQ 2756 2613 2416 2484 \r\nQ 2838 2347 3058 2040 \r\nQ 3278 1734 3278 1309 \r\nQ 3278 722 2862 322 \r\nQ 2447 -78 1769 -78 \r\nQ 1091 -78 675 323 \r\nQ 259 725 259 1325 \r\nQ 259 1772 486 2073 \r\nQ 713 2375 1131 2484 \r\nz\r\nM 1019 3438 \r\nQ 1019 3113 1228 2906 \r\nQ 1438 2700 1772 2700 \r\nQ 2097 2700 2305 2904 \r\nQ 2513 3109 2513 3406 \r\nQ 2513 3716 2298 3927 \r\nQ 2084 4138 1766 4138 \r\nQ 1444 4138 1231 3931 \r\nQ 1019 3725 1019 3438 \r\nz\r\nM 838 1322 \r\nQ 838 1081 952 856 \r\nQ 1066 631 1291 507 \r\nQ 1516 384 1775 384 \r\nQ 2178 384 2440 643 \r\nQ 2703 903 2703 1303 \r\nQ 2703 1709 2433 1975 \r\nQ 2163 2241 1756 2241 \r\nQ 1359 2241 1098 1978 \r\nQ 838 1716 838 1322 \r\nz\r\n\" id=\"ArialMT-38\" transform=\"scale(0.015625)\"/>\r\n       </defs>\r\n       <use xlink:href=\"#ArialMT-30\"/>\r\n       <use x=\"55.615234\" xlink:href=\"#ArialMT-2e\"/>\r\n       <use x=\"83.398438\" xlink:href=\"#ArialMT-38\"/>\r\n      </g>\r\n     </g>\r\n    </g>\r\n    <g id=\"ytick_6\">\r\n     <g id=\"line2d_6\">\r\n      <path clip-path=\"url(#pa7240a425b)\" d=\"M 41.245313 51.086708 \r\nL 376.045313 51.086708 \r\n\" style=\"fill:none;stroke:#cccccc;stroke-linecap:round;stroke-width:0.8;\"/>\r\n     </g>\r\n     <g id=\"text_11\">\r\n      <!-- 0.9 -->\r\n      <g style=\"fill:#262626;\" transform=\"translate(20.345313 54.665615)scale(0.1 -0.1)\">\r\n       <defs>\r\n        <path d=\"M 350 1059 \r\nL 891 1109 \r\nQ 959 728 1153 556 \r\nQ 1347 384 1650 384 \r\nQ 1909 384 2104 503 \r\nQ 2300 622 2425 820 \r\nQ 2550 1019 2634 1356 \r\nQ 2719 1694 2719 2044 \r\nQ 2719 2081 2716 2156 \r\nQ 2547 1888 2255 1720 \r\nQ 1963 1553 1622 1553 \r\nQ 1053 1553 659 1965 \r\nQ 266 2378 266 3053 \r\nQ 266 3750 677 4175 \r\nQ 1088 4600 1706 4600 \r\nQ 2153 4600 2523 4359 \r\nQ 2894 4119 3086 3673 \r\nQ 3278 3228 3278 2384 \r\nQ 3278 1506 3087 986 \r\nQ 2897 466 2520 194 \r\nQ 2144 -78 1638 -78 \r\nQ 1100 -78 759 220 \r\nQ 419 519 350 1059 \r\nz\r\nM 2653 3081 \r\nQ 2653 3566 2395 3850 \r\nQ 2138 4134 1775 4134 \r\nQ 1400 4134 1122 3828 \r\nQ 844 3522 844 3034 \r\nQ 844 2597 1108 2323 \r\nQ 1372 2050 1759 2050 \r\nQ 2150 2050 2401 2323 \r\nQ 2653 2597 2653 3081 \r\nz\r\n\" id=\"ArialMT-39\" transform=\"scale(0.015625)\"/>\r\n       </defs>\r\n       <use xlink:href=\"#ArialMT-30\"/>\r\n       <use x=\"55.615234\" xlink:href=\"#ArialMT-2e\"/>\r\n       <use x=\"83.398438\" xlink:href=\"#ArialMT-39\"/>\r\n      </g>\r\n     </g>\r\n    </g>\r\n    <g id=\"ytick_7\">\r\n     <g id=\"line2d_7\">\r\n      <path clip-path=\"url(#pa7240a425b)\" d=\"M 41.245313 17.083636 \r\nL 376.045313 17.083636 \r\n\" style=\"fill:none;stroke:#cccccc;stroke-linecap:round;stroke-width:0.8;\"/>\r\n     </g>\r\n     <g id=\"text_12\">\r\n      <!-- 1.0 -->\r\n      <g style=\"fill:#262626;\" transform=\"translate(20.345313 20.662543)scale(0.1 -0.1)\">\r\n       <defs>\r\n        <path d=\"M 2384 0 \r\nL 1822 0 \r\nL 1822 3584 \r\nQ 1619 3391 1289 3197 \r\nQ 959 3003 697 2906 \r\nL 697 3450 \r\nQ 1169 3672 1522 3987 \r\nQ 1875 4303 2022 4600 \r\nL 2384 4600 \r\nL 2384 0 \r\nz\r\n\" id=\"ArialMT-31\" transform=\"scale(0.015625)\"/>\r\n       </defs>\r\n       <use xlink:href=\"#ArialMT-31\"/>\r\n       <use x=\"55.615234\" xlink:href=\"#ArialMT-2e\"/>\r\n       <use x=\"83.398438\" xlink:href=\"#ArialMT-30\"/>\r\n      </g>\r\n     </g>\r\n    </g>\r\n    <g id=\"text_13\">\r\n     <!-- VOR -->\r\n     <g style=\"fill:#262626;\" transform=\"translate(14.357813 126.755156)rotate(-90)scale(0.1 -0.1)\">\r\n      <defs>\r\n       <path d=\"M 1803 0 \r\nL 28 4581 \r\nL 684 4581 \r\nL 1875 1253 \r\nQ 2019 853 2116 503 \r\nQ 2222 878 2363 1253 \r\nL 3600 4581 \r\nL 4219 4581 \r\nL 2425 0 \r\nL 1803 0 \r\nz\r\n\" id=\"ArialMT-56\" transform=\"scale(0.015625)\"/>\r\n       <path d=\"M 309 2231 \r\nQ 309 3372 921 4017 \r\nQ 1534 4663 2503 4663 \r\nQ 3138 4663 3647 4359 \r\nQ 4156 4056 4423 3514 \r\nQ 4691 2972 4691 2284 \r\nQ 4691 1588 4409 1038 \r\nQ 4128 488 3612 205 \r\nQ 3097 -78 2500 -78 \r\nQ 1853 -78 1343 234 \r\nQ 834 547 571 1087 \r\nQ 309 1628 309 2231 \r\nz\r\nM 934 2222 \r\nQ 934 1394 1379 917 \r\nQ 1825 441 2497 441 \r\nQ 3181 441 3623 922 \r\nQ 4066 1403 4066 2288 \r\nQ 4066 2847 3877 3264 \r\nQ 3688 3681 3323 3911 \r\nQ 2959 4141 2506 4141 \r\nQ 1863 4141 1398 3698 \r\nQ 934 3256 934 2222 \r\nz\r\n\" id=\"ArialMT-4f\" transform=\"scale(0.015625)\"/>\r\n      </defs>\r\n      <use xlink:href=\"#ArialMT-56\"/>\r\n      <use x=\"66.699219\" xlink:href=\"#ArialMT-4f\"/>\r\n      <use x=\"144.482422\" xlink:href=\"#ArialMT-52\"/>\r\n     </g>\r\n    </g>\r\n   </g>\r\n   <g id=\"patch_3\">\r\n    <path clip-path=\"url(#pa7240a425b)\" d=\"M 49.615313 193.693607 \r\nL 116.575313 193.693607 \r\nL 116.575313 119.04088 \r\nL 49.615313 119.04088 \r\nL 49.615313 193.693607 \r\nz\r\n\" style=\"fill:#3274a1;stroke:#3d3d3d;stroke-linejoin:miter;stroke-width:1.5;\"/>\r\n   </g>\r\n   <g id=\"patch_4\">\r\n    <path clip-path=\"url(#pa7240a425b)\" d=\"M 133.315313 201.180535 \r\nL 200.275312 201.180535 \r\nL 200.275312 157.321023 \r\nL 133.315313 157.321023 \r\nL 133.315313 201.180535 \r\nz\r\n\" style=\"fill:#e1812c;stroke:#3d3d3d;stroke-linejoin:miter;stroke-width:1.5;\"/>\r\n   </g>\r\n   <g id=\"patch_5\">\r\n    <path clip-path=\"url(#pa7240a425b)\" d=\"M 217.015313 206.884103 \r\nL 283.975312 206.884103 \r\nL 283.975312 174.821836 \r\nL 217.015313 174.821836 \r\nL 217.015313 206.884103 \r\nz\r\n\" style=\"fill:#3a923a;stroke:#3d3d3d;stroke-linejoin:miter;stroke-width:1.5;\"/>\r\n   </g>\r\n   <g id=\"patch_6\">\r\n    <path clip-path=\"url(#pa7240a425b)\" d=\"M 300.715312 200.782145 \r\nL 367.675313 200.782145 \r\nL 367.675313 171.800633 \r\nL 300.715312 171.800633 \r\nL 300.715312 200.782145 \r\nz\r\n\" style=\"fill:#c03d3e;stroke:#3d3d3d;stroke-linejoin:miter;stroke-width:1.5;\"/>\r\n   </g>\r\n   <g id=\"line2d_8\">\r\n    <path clip-path=\"url(#pa7240a425b)\" d=\"M 83.095313 193.693607 \r\nL 83.095313 214.756364 \r\n\" style=\"fill:none;stroke:#3d3d3d;stroke-linecap:round;stroke-width:1.5;\"/>\r\n   </g>\r\n   <g id=\"line2d_9\">\r\n    <path clip-path=\"url(#pa7240a425b)\" d=\"M 83.095313 119.04088 \r\nL 83.095313 17.083636 \r\n\" style=\"fill:none;stroke:#3d3d3d;stroke-linecap:round;stroke-width:1.5;\"/>\r\n   </g>\r\n   <g id=\"line2d_10\">\r\n    <path clip-path=\"url(#pa7240a425b)\" d=\"M 66.355312 214.756364 \r\nL 99.835313 214.756364 \r\n\" style=\"fill:none;stroke:#3d3d3d;stroke-linecap:round;stroke-width:1.5;\"/>\r\n   </g>\r\n   <g id=\"line2d_11\">\r\n    <path clip-path=\"url(#pa7240a425b)\" d=\"M 66.355312 17.083636 \r\nL 99.835313 17.083636 \r\n\" style=\"fill:none;stroke:#3d3d3d;stroke-linecap:round;stroke-width:1.5;\"/>\r\n   </g>\r\n   <g id=\"line2d_12\"/>\r\n   <g id=\"line2d_13\">\r\n    <path clip-path=\"url(#pa7240a425b)\" d=\"M 166.795313 201.180535 \r\nL 166.795313 214.11308 \r\n\" style=\"fill:none;stroke:#3d3d3d;stroke-linecap:round;stroke-width:1.5;\"/>\r\n   </g>\r\n   <g id=\"line2d_14\">\r\n    <path clip-path=\"url(#pa7240a425b)\" d=\"M 166.795313 157.321023 \r\nL 166.795313 111.518922 \r\n\" style=\"fill:none;stroke:#3d3d3d;stroke-linecap:round;stroke-width:1.5;\"/>\r\n   </g>\r\n   <g id=\"line2d_15\">\r\n    <path clip-path=\"url(#pa7240a425b)\" d=\"M 150.055313 214.11308 \r\nL 183.535313 214.11308 \r\n\" style=\"fill:none;stroke:#3d3d3d;stroke-linecap:round;stroke-width:1.5;\"/>\r\n   </g>\r\n   <g id=\"line2d_16\">\r\n    <path clip-path=\"url(#pa7240a425b)\" d=\"M 150.055313 111.518922 \r\nL 183.535313 111.518922 \r\n\" style=\"fill:none;stroke:#3d3d3d;stroke-linecap:round;stroke-width:1.5;\"/>\r\n   </g>\r\n   <g id=\"line2d_17\">\r\n    <defs>\r\n     <path d=\"M 0 3.535534 \r\nL 2.12132 0 \r\nL 0 -3.535534 \r\nL -2.12132 0 \r\nz\r\n\" id=\"m26a81b84ad\" style=\"stroke:#3d3d3d;stroke-linejoin:miter;\"/>\r\n    </defs>\r\n    <g clip-path=\"url(#pa7240a425b)\">\r\n     <use style=\"fill:#3d3d3d;stroke:#3d3d3d;stroke-linejoin:miter;\" x=\"166.795313\" xlink:href=\"#m26a81b84ad\" y=\"90.672716\"/>\r\n    </g>\r\n   </g>\r\n   <g id=\"line2d_18\">\r\n    <path clip-path=\"url(#pa7240a425b)\" d=\"M 250.495313 206.884103 \r\nL 250.495313 212.934789 \r\n\" style=\"fill:none;stroke:#3d3d3d;stroke-linecap:round;stroke-width:1.5;\"/>\r\n   </g>\r\n   <g id=\"line2d_19\">\r\n    <path clip-path=\"url(#pa7240a425b)\" d=\"M 250.495313 174.821836 \r\nL 250.495313 134.957369 \r\n\" style=\"fill:none;stroke:#3d3d3d;stroke-linecap:round;stroke-width:1.5;\"/>\r\n   </g>\r\n   <g id=\"line2d_20\">\r\n    <path clip-path=\"url(#pa7240a425b)\" d=\"M 233.755313 212.934789 \r\nL 267.235313 212.934789 \r\n\" style=\"fill:none;stroke:#3d3d3d;stroke-linecap:round;stroke-width:1.5;\"/>\r\n   </g>\r\n   <g id=\"line2d_21\">\r\n    <path clip-path=\"url(#pa7240a425b)\" d=\"M 233.755313 134.957369 \r\nL 267.235313 134.957369 \r\n\" style=\"fill:none;stroke:#3d3d3d;stroke-linecap:round;stroke-width:1.5;\"/>\r\n   </g>\r\n   <g id=\"line2d_22\">\r\n    <g clip-path=\"url(#pa7240a425b)\">\r\n     <use style=\"fill:#3d3d3d;stroke:#3d3d3d;stroke-linejoin:miter;\" x=\"250.495313\" xlink:href=\"#m26a81b84ad\" y=\"106.570098\"/>\r\n     <use style=\"fill:#3d3d3d;stroke:#3d3d3d;stroke-linejoin:miter;\" x=\"250.495313\" xlink:href=\"#m26a81b84ad\" y=\"119.276538\"/>\r\n    </g>\r\n   </g>\r\n   <g id=\"line2d_23\">\r\n    <path clip-path=\"url(#pa7240a425b)\" d=\"M 334.195312 200.782145 \r\nL 334.195312 212.620153 \r\n\" style=\"fill:none;stroke:#3d3d3d;stroke-linecap:round;stroke-width:1.5;\"/>\r\n   </g>\r\n   <g id=\"line2d_24\">\r\n    <path clip-path=\"url(#pa7240a425b)\" d=\"M 334.195312 171.800633 \r\nL 334.195312 137.134342 \r\n\" style=\"fill:none;stroke:#3d3d3d;stroke-linecap:round;stroke-width:1.5;\"/>\r\n   </g>\r\n   <g id=\"line2d_25\">\r\n    <path clip-path=\"url(#pa7240a425b)\" d=\"M 317.455312 212.620153 \r\nL 350.935313 212.620153 \r\n\" style=\"fill:none;stroke:#3d3d3d;stroke-linecap:round;stroke-width:1.5;\"/>\r\n   </g>\r\n   <g id=\"line2d_26\">\r\n    <path clip-path=\"url(#pa7240a425b)\" d=\"M 317.455312 137.134342 \r\nL 350.935313 137.134342 \r\n\" style=\"fill:none;stroke:#3d3d3d;stroke-linecap:round;stroke-width:1.5;\"/>\r\n   </g>\r\n   <g id=\"line2d_27\">\r\n    <g clip-path=\"url(#pa7240a425b)\">\r\n     <use style=\"fill:#3d3d3d;stroke:#3d3d3d;stroke-linejoin:miter;\" x=\"334.195312\" xlink:href=\"#m26a81b84ad\" y=\"127.109311\"/>\r\n    </g>\r\n   </g>\r\n   <g id=\"line2d_28\">\r\n    <path clip-path=\"url(#pa7240a425b)\" d=\"M 49.615313 167.573751 \r\nL 116.575313 167.573751 \r\n\" style=\"fill:none;stroke:#3d3d3d;stroke-linecap:round;stroke-width:1.5;\"/>\r\n   </g>\r\n   <g id=\"line2d_29\">\r\n    <path clip-path=\"url(#pa7240a425b)\" d=\"M 133.315313 175.968282 \r\nL 200.275312 175.968282 \r\n\" style=\"fill:none;stroke:#3d3d3d;stroke-linecap:round;stroke-width:1.5;\"/>\r\n   </g>\r\n   <g id=\"line2d_30\">\r\n    <path clip-path=\"url(#pa7240a425b)\" d=\"M 217.015313 185.203539 \r\nL 283.975312 185.203539 \r\n\" style=\"fill:none;stroke:#3d3d3d;stroke-linecap:round;stroke-width:1.5;\"/>\r\n   </g>\r\n   <g id=\"line2d_31\">\r\n    <path clip-path=\"url(#pa7240a425b)\" d=\"M 300.715312 191.537652 \r\nL 367.675313 191.537652 \r\n\" style=\"fill:none;stroke:#3d3d3d;stroke-linecap:round;stroke-width:1.5;\"/>\r\n   </g>\r\n   <g id=\"patch_7\">\r\n    <path d=\"M 41.245313 224.64 \r\nL 41.245313 7.2 \r\n\" style=\"fill:none;stroke:#cccccc;stroke-linecap:square;stroke-linejoin:miter;stroke-width:0.8;\"/>\r\n   </g>\r\n   <g id=\"patch_8\">\r\n    <path d=\"M 376.045313 224.64 \r\nL 376.045313 7.2 \r\n\" style=\"fill:none;stroke:#cccccc;stroke-linecap:square;stroke-linejoin:miter;stroke-width:0.8;\"/>\r\n   </g>\r\n   <g id=\"patch_9\">\r\n    <path d=\"M 41.245313 224.64 \r\nL 376.045313 224.64 \r\n\" style=\"fill:none;stroke:#cccccc;stroke-linecap:square;stroke-linejoin:miter;stroke-width:0.8;\"/>\r\n   </g>\r\n   <g id=\"patch_10\">\r\n    <path d=\"M 41.245313 7.2 \r\nL 376.045313 7.2 \r\n\" style=\"fill:none;stroke:#cccccc;stroke-linecap:square;stroke-linejoin:miter;stroke-width:0.8;\"/>\r\n   </g>\r\n  </g>\r\n </g>\r\n <defs>\r\n  <clipPath id=\"pa7240a425b\">\r\n   <rect height=\"217.44\" width=\"334.8\" x=\"41.245313\" y=\"7.2\"/>\r\n  </clipPath>\r\n </defs>\r\n</svg>\r\n",
      "image/png": "[encoded data removed]"
     },
     "metadata": {}
    }
   ],
   "source": [
    "import seaborn as sns # in case you did not import it above\n",
    "\n",
    "# calculating how many players are in our draft pool.\n",
    "num_teams = 12\n",
    "num_spots = 16 # 1 QB, 2RB, 2WR, 1TE, 1FLEX, 1K, 1DST, 7 BENCH\n",
    "draft_pool = num_teams * num_spots\n",
    "\n",
    "df_copy = df[:draft_pool]\n",
    "\n",
    "sns.boxplot(x=df_copy['Pos'], y=df_copy['VOR']);"
   ]
  },
  {
   "cell_type": "code",
   "execution_count": 34,
   "metadata": {},
   "outputs": [],
   "source": [
    "# let's rename our VOR column to just Value.\n",
    "# remember, to make a change to our DataFrame, you set it equal to itself + some modifcation\n",
    "# we can use the rename method here to help us do that\n",
    "# https://pandas.pydata.org/pandas-docs/stable/reference/api/pandas.DataFrame.rename.html\n",
    "\n",
    "df = df.rename({\n",
    "    'VOR': 'Value',\n",
    "    'VOR Rank': 'Value Rank'\n",
    "}, axis=1) # axis = 1 means make the change along the column axis."
   ]
  },
  {
   "cell_type": "code",
   "execution_count": 35,
   "metadata": {},
   "outputs": [],
   "source": [
    "adp_df = adp_df.rename({\n",
    "    'PLAYER': 'Player',\n",
    "    'POS': 'Pos',\n",
    "    'AVG': 'Average ADP',\n",
    "    'ADP RANK': 'ADP Rank'\n",
    "}, axis=1) # let's rename some columns first."
   ]
  },
  {
   "cell_type": "code",
   "execution_count": 36,
   "metadata": {},
   "outputs": [
    {
     "output_type": "execute_result",
     "data": {
      "text/plain": [
       "                Player Pos Team  FantasyPoints     Value  Value Rank  \\\n",
       "0  Christian McCaffrey  RB  CAR         375.06  1.000000         1.0   \n",
       "1       Saquon Barkley  RB  NYG         310.79  0.879615         2.0   \n",
       "2      Ezekiel Elliott  RB  DAL         299.75  0.858936         3.0   \n",
       "3         Alvin Kamara  RB   NO         295.95  0.851818         4.0   \n",
       "4          Dalvin Cook  RB  MIN         289.98  0.840636         5.0   \n",
       "\n",
       "   Average ADP  ADP Rank  \n",
       "0          1.0       1.0  \n",
       "1          2.0       2.0  \n",
       "2          3.5       3.0  \n",
       "3          5.5       6.0  \n",
       "4          5.0       5.0  "
      ],
      "text/html": "<div>\n<style scoped>\n    .dataframe tbody tr th:only-of-type {\n        vertical-align: middle;\n    }\n\n    .dataframe tbody tr th {\n        vertical-align: top;\n    }\n\n    .dataframe thead th {\n        text-align: right;\n    }\n</style>\n<table border=\"1\" class=\"dataframe\">\n  <thead>\n    <tr style=\"text-align: right;\">\n      <th></th>\n      <th>Player</th>\n      <th>Pos</th>\n      <th>Team</th>\n      <th>FantasyPoints</th>\n      <th>Value</th>\n      <th>Value Rank</th>\n      <th>Average ADP</th>\n      <th>ADP Rank</th>\n    </tr>\n  </thead>\n  <tbody>\n    <tr>\n      <th>0</th>\n      <td>Christian McCaffrey</td>\n      <td>RB</td>\n      <td>CAR</td>\n      <td>375.06</td>\n      <td>1.000000</td>\n      <td>1.0</td>\n      <td>1.0</td>\n      <td>1.0</td>\n    </tr>\n    <tr>\n      <th>1</th>\n      <td>Saquon Barkley</td>\n      <td>RB</td>\n      <td>NYG</td>\n      <td>310.79</td>\n      <td>0.879615</td>\n      <td>2.0</td>\n      <td>2.0</td>\n      <td>2.0</td>\n    </tr>\n    <tr>\n      <th>2</th>\n      <td>Ezekiel Elliott</td>\n      <td>RB</td>\n      <td>DAL</td>\n      <td>299.75</td>\n      <td>0.858936</td>\n      <td>3.0</td>\n      <td>3.5</td>\n      <td>3.0</td>\n    </tr>\n    <tr>\n      <th>3</th>\n      <td>Alvin Kamara</td>\n      <td>RB</td>\n      <td>NO</td>\n      <td>295.95</td>\n      <td>0.851818</td>\n      <td>4.0</td>\n      <td>5.5</td>\n      <td>6.0</td>\n    </tr>\n    <tr>\n      <th>4</th>\n      <td>Dalvin Cook</td>\n      <td>RB</td>\n      <td>MIN</td>\n      <td>289.98</td>\n      <td>0.840636</td>\n      <td>5.0</td>\n      <td>5.0</td>\n      <td>5.0</td>\n    </tr>\n  </tbody>\n</table>\n</div>"
     },
     "metadata": {},
     "execution_count": 36
    }
   ],
   "source": [
    "\"\"\"\n",
    "the merge function allows us to combine DataFrames together column wise on common columns.\n",
    "Here, we are left joining. Which means any entries that exist in the right table (adp_df) but\n",
    "do not exist in the left table (df) get dropped from the final table.\n",
    "We want to join the two DataFrames together where the Player and Pos columns match up.\n",
    "https://pandas.pydata.org/pandas-docs/stable/reference/api/pandas.DataFrame.merge.html\n",
    "Also, you may want to take a look at join, which is similar\n",
    "https://pandas.pydata.org/pandas-docs/stable/reference/api/pandas.DataFrame.join.html\n",
    "\"\"\"\n",
    "\n",
    "final_df = df.merge(adp_df, how='left', on=['Player', 'Pos'])\n",
    "\n",
    "final_df.head()"
   ]
  },
  {
   "cell_type": "code",
   "execution_count": 37,
   "metadata": {},
   "outputs": [
    {
     "output_type": "execute_result",
     "data": {
      "text/plain": [
       "                Player Pos Team  FantasyPoints     Value  Value Rank  \\\n",
       "0  Christian McCaffrey  RB  CAR         375.06  1.000000         1.0   \n",
       "1       Saquon Barkley  RB  NYG         310.79  0.879615         2.0   \n",
       "2      Ezekiel Elliott  RB  DAL         299.75  0.858936         3.0   \n",
       "3         Alvin Kamara  RB   NO         295.95  0.851818         4.0   \n",
       "4          Dalvin Cook  RB  MIN         289.98  0.840636         5.0   \n",
       "\n",
       "   Average ADP  ADP Rank  Diff in ADP and Value  \n",
       "0          1.0       1.0                    0.0  \n",
       "1          2.0       2.0                    0.0  \n",
       "2          3.5       3.0                    0.0  \n",
       "3          5.5       6.0                    2.0  \n",
       "4          5.0       5.0                    0.0  "
      ],
      "text/html": "<div>\n<style scoped>\n    .dataframe tbody tr th:only-of-type {\n        vertical-align: middle;\n    }\n\n    .dataframe tbody tr th {\n        vertical-align: top;\n    }\n\n    .dataframe thead th {\n        text-align: right;\n    }\n</style>\n<table border=\"1\" class=\"dataframe\">\n  <thead>\n    <tr style=\"text-align: right;\">\n      <th></th>\n      <th>Player</th>\n      <th>Pos</th>\n      <th>Team</th>\n      <th>FantasyPoints</th>\n      <th>Value</th>\n      <th>Value Rank</th>\n      <th>Average ADP</th>\n      <th>ADP Rank</th>\n      <th>Diff in ADP and Value</th>\n    </tr>\n  </thead>\n  <tbody>\n    <tr>\n      <th>0</th>\n      <td>Christian McCaffrey</td>\n      <td>RB</td>\n      <td>CAR</td>\n      <td>375.06</td>\n      <td>1.000000</td>\n      <td>1.0</td>\n      <td>1.0</td>\n      <td>1.0</td>\n      <td>0.0</td>\n    </tr>\n    <tr>\n      <th>1</th>\n      <td>Saquon Barkley</td>\n      <td>RB</td>\n      <td>NYG</td>\n      <td>310.79</td>\n      <td>0.879615</td>\n      <td>2.0</td>\n      <td>2.0</td>\n      <td>2.0</td>\n      <td>0.0</td>\n    </tr>\n    <tr>\n      <th>2</th>\n      <td>Ezekiel Elliott</td>\n      <td>RB</td>\n      <td>DAL</td>\n      <td>299.75</td>\n      <td>0.858936</td>\n      <td>3.0</td>\n      <td>3.5</td>\n      <td>3.0</td>\n      <td>0.0</td>\n    </tr>\n    <tr>\n      <th>3</th>\n      <td>Alvin Kamara</td>\n      <td>RB</td>\n      <td>NO</td>\n      <td>295.95</td>\n      <td>0.851818</td>\n      <td>4.0</td>\n      <td>5.5</td>\n      <td>6.0</td>\n      <td>2.0</td>\n    </tr>\n    <tr>\n      <th>4</th>\n      <td>Dalvin Cook</td>\n      <td>RB</td>\n      <td>MIN</td>\n      <td>289.98</td>\n      <td>0.840636</td>\n      <td>5.0</td>\n      <td>5.0</td>\n      <td>5.0</td>\n      <td>0.0</td>\n    </tr>\n  </tbody>\n</table>\n</div>"
     },
     "metadata": {},
     "execution_count": 37
    }
   ],
   "source": [
    "# let's calculate the difference between our value rank and adp rank\n",
    "final_df['Diff in ADP and Value'] = final_df['ADP Rank'] - final_df['Value Rank']\n",
    "final_df.head()"
   ]
  },
  {
   "cell_type": "code",
   "execution_count": 38,
   "metadata": {},
   "outputs": [],
   "source": [
    "draft_pool = final_df.sort_values(by='ADP Rank')[:196]\n",
    "\n",
    "rb_draft_pool = draft_pool.loc[draft_pool['Pos'] == 'RB']\n",
    "qb_draft_pool = draft_pool.loc[draft_pool['Pos'] == 'QB']\n",
    "wr_draft_pool = draft_pool.loc[draft_pool['Pos'] == 'WR']\n",
    "te_draft_pool = draft_pool.loc[draft_pool['Pos'] == 'TE']"
   ]
  },
  {
   "cell_type": "code",
   "execution_count": 39,
   "metadata": {},
   "outputs": [
    {
     "output_type": "execute_result",
     "data": {
      "text/plain": [
       "               Player Pos Team  FantasyPoints     Value  Value Rank  \\\n",
       "65   Ryquell Armstead  RB  JAC         140.35  0.560363        66.0   \n",
       "80     Antonio Gibson  RB  WAS         129.26  0.539590        81.0   \n",
       "138   Darrynton Evans  RB  TEN          90.65  0.467269       139.0   \n",
       "30    Ronald Jones II  RB   TB         179.79  0.634238        31.0   \n",
       "35        Tarik Cohen  RB  CHI         171.24  0.618223        36.0   \n",
       "74       Duke Johnson  RB  HOU         134.83  0.550023        75.0   \n",
       "104   Adrian Peterson  RB  WAS         114.31  0.511587       105.0   \n",
       "58    Kerryon Johnson  RB  DET         149.42  0.577352        59.0   \n",
       "40        James White  RB   NE         166.68  0.609682        41.0   \n",
       "33        Kareem Hunt  RB  CLE         174.14  0.623655        34.0   \n",
       "\n",
       "     Average ADP  ADP Rank  Diff in ADP and Value  \n",
       "65         138.5     136.0                   70.0  \n",
       "80         141.0     140.0                   59.0  \n",
       "138        193.5     191.0                   52.0  \n",
       "30          83.0      78.0                   47.0  \n",
       "35          87.5      83.0                   47.0  \n",
       "74         125.0     121.0                   46.0  \n",
       "104        147.0     147.0                   42.0  \n",
       "58         100.0      98.5                   39.5  \n",
       "40          75.5      74.0                   33.0  \n",
       "33          60.0      64.5                   30.5  "
      ],
      "text/html": "<div>\n<style scoped>\n    .dataframe tbody tr th:only-of-type {\n        vertical-align: middle;\n    }\n\n    .dataframe tbody tr th {\n        vertical-align: top;\n    }\n\n    .dataframe thead th {\n        text-align: right;\n    }\n</style>\n<table border=\"1\" class=\"dataframe\">\n  <thead>\n    <tr style=\"text-align: right;\">\n      <th></th>\n      <th>Player</th>\n      <th>Pos</th>\n      <th>Team</th>\n      <th>FantasyPoints</th>\n      <th>Value</th>\n      <th>Value Rank</th>\n      <th>Average ADP</th>\n      <th>ADP Rank</th>\n      <th>Diff in ADP and Value</th>\n    </tr>\n  </thead>\n  <tbody>\n    <tr>\n      <th>65</th>\n      <td>Ryquell Armstead</td>\n      <td>RB</td>\n      <td>JAC</td>\n      <td>140.35</td>\n      <td>0.560363</td>\n      <td>66.0</td>\n      <td>138.5</td>\n      <td>136.0</td>\n      <td>70.0</td>\n    </tr>\n    <tr>\n      <th>80</th>\n      <td>Antonio Gibson</td>\n      <td>RB</td>\n      <td>WAS</td>\n      <td>129.26</td>\n      <td>0.539590</td>\n      <td>81.0</td>\n      <td>141.0</td>\n      <td>140.0</td>\n      <td>59.0</td>\n    </tr>\n    <tr>\n      <th>138</th>\n      <td>Darrynton Evans</td>\n      <td>RB</td>\n      <td>TEN</td>\n      <td>90.65</td>\n      <td>0.467269</td>\n      <td>139.0</td>\n      <td>193.5</td>\n      <td>191.0</td>\n      <td>52.0</td>\n    </tr>\n    <tr>\n      <th>30</th>\n      <td>Ronald Jones II</td>\n      <td>RB</td>\n      <td>TB</td>\n      <td>179.79</td>\n      <td>0.634238</td>\n      <td>31.0</td>\n      <td>83.0</td>\n      <td>78.0</td>\n      <td>47.0</td>\n    </tr>\n    <tr>\n      <th>35</th>\n      <td>Tarik Cohen</td>\n      <td>RB</td>\n      <td>CHI</td>\n      <td>171.24</td>\n      <td>0.618223</td>\n      <td>36.0</td>\n      <td>87.5</td>\n      <td>83.0</td>\n      <td>47.0</td>\n    </tr>\n    <tr>\n      <th>74</th>\n      <td>Duke Johnson</td>\n      <td>RB</td>\n      <td>HOU</td>\n      <td>134.83</td>\n      <td>0.550023</td>\n      <td>75.0</td>\n      <td>125.0</td>\n      <td>121.0</td>\n      <td>46.0</td>\n    </tr>\n    <tr>\n      <th>104</th>\n      <td>Adrian Peterson</td>\n      <td>RB</td>\n      <td>WAS</td>\n      <td>114.31</td>\n      <td>0.511587</td>\n      <td>105.0</td>\n      <td>147.0</td>\n      <td>147.0</td>\n      <td>42.0</td>\n    </tr>\n    <tr>\n      <th>58</th>\n      <td>Kerryon Johnson</td>\n      <td>RB</td>\n      <td>DET</td>\n      <td>149.42</td>\n      <td>0.577352</td>\n      <td>59.0</td>\n      <td>100.0</td>\n      <td>98.5</td>\n      <td>39.5</td>\n    </tr>\n    <tr>\n      <th>40</th>\n      <td>James White</td>\n      <td>RB</td>\n      <td>NE</td>\n      <td>166.68</td>\n      <td>0.609682</td>\n      <td>41.0</td>\n      <td>75.5</td>\n      <td>74.0</td>\n      <td>33.0</td>\n    </tr>\n    <tr>\n      <th>33</th>\n      <td>Kareem Hunt</td>\n      <td>RB</td>\n      <td>CLE</td>\n      <td>174.14</td>\n      <td>0.623655</td>\n      <td>34.0</td>\n      <td>60.0</td>\n      <td>64.5</td>\n      <td>30.5</td>\n    </tr>\n  </tbody>\n</table>\n</div>"
     },
     "metadata": {},
     "execution_count": 39
    }
   ],
   "source": [
    "# top 10 RB sleepers for this year's draft\n",
    "rb_draft_pool.sort_values(by='Diff in ADP and Value', ascending=False)[:10]"
   ]
  },
  {
   "cell_type": "code",
   "execution_count": 40,
   "metadata": {},
   "outputs": [
    {
     "output_type": "execute_result",
     "data": {
      "text/plain": [
       "                 Player Pos Team  FantasyPoints     Value  Value Rank  \\\n",
       "230        Justice Hill  RB  BAL          37.94  0.368538       231.0   \n",
       "202       Rashaad Penny  RB  SEA          57.46  0.405101       203.0   \n",
       "128     Ke'Shawn Vaughn  RB   TB         100.07  0.484914       129.0   \n",
       "132  Alexander Mattison  RB  MIN          95.05  0.475511       133.0   \n",
       "108         Sony Michel  RB   NE         111.23  0.505818       109.0   \n",
       "96         J.K. Dobbins  RB  BAL         119.25  0.520840        97.0   \n",
       "223      Jaylen Samuels  RB  PIT          40.89  0.374063       224.0   \n",
       "172         A.J. Dillon  RB   GB          72.61  0.433478       173.0   \n",
       "188       Damien Harris  RB   NE          66.53  0.422090       189.0   \n",
       "11            Joe Mixon  RB  CIN         240.98  0.748854        12.0   \n",
       "\n",
       "     Average ADP  ADP Rank  Diff in ADP and Value  \n",
       "230        202.0     200.0                  -31.0  \n",
       "202        181.0     179.0                  -24.0  \n",
       "128        108.5     110.0                  -19.0  \n",
       "132        123.0     118.0                  -15.0  \n",
       "108         96.5      95.0                  -14.0  \n",
       "96          88.0      85.5                  -11.5  \n",
       "223        214.0     216.0                   -8.0  \n",
       "172        166.5     166.5                   -6.5  \n",
       "188        187.0     185.0                   -4.0  \n",
       "11          10.0       9.0                   -3.0  "
      ],
      "text/html": "<div>\n<style scoped>\n    .dataframe tbody tr th:only-of-type {\n        vertical-align: middle;\n    }\n\n    .dataframe tbody tr th {\n        vertical-align: top;\n    }\n\n    .dataframe thead th {\n        text-align: right;\n    }\n</style>\n<table border=\"1\" class=\"dataframe\">\n  <thead>\n    <tr style=\"text-align: right;\">\n      <th></th>\n      <th>Player</th>\n      <th>Pos</th>\n      <th>Team</th>\n      <th>FantasyPoints</th>\n      <th>Value</th>\n      <th>Value Rank</th>\n      <th>Average ADP</th>\n      <th>ADP Rank</th>\n      <th>Diff in ADP and Value</th>\n    </tr>\n  </thead>\n  <tbody>\n    <tr>\n      <th>230</th>\n      <td>Justice Hill</td>\n      <td>RB</td>\n      <td>BAL</td>\n      <td>37.94</td>\n      <td>0.368538</td>\n      <td>231.0</td>\n      <td>202.0</td>\n      <td>200.0</td>\n      <td>-31.0</td>\n    </tr>\n    <tr>\n      <th>202</th>\n      <td>Rashaad Penny</td>\n      <td>RB</td>\n      <td>SEA</td>\n      <td>57.46</td>\n      <td>0.405101</td>\n      <td>203.0</td>\n      <td>181.0</td>\n      <td>179.0</td>\n      <td>-24.0</td>\n    </tr>\n    <tr>\n      <th>128</th>\n      <td>Ke'Shawn Vaughn</td>\n      <td>RB</td>\n      <td>TB</td>\n      <td>100.07</td>\n      <td>0.484914</td>\n      <td>129.0</td>\n      <td>108.5</td>\n      <td>110.0</td>\n      <td>-19.0</td>\n    </tr>\n    <tr>\n      <th>132</th>\n      <td>Alexander Mattison</td>\n      <td>RB</td>\n      <td>MIN</td>\n      <td>95.05</td>\n      <td>0.475511</td>\n      <td>133.0</td>\n      <td>123.0</td>\n      <td>118.0</td>\n      <td>-15.0</td>\n    </tr>\n    <tr>\n      <th>108</th>\n      <td>Sony Michel</td>\n      <td>RB</td>\n      <td>NE</td>\n      <td>111.23</td>\n      <td>0.505818</td>\n      <td>109.0</td>\n      <td>96.5</td>\n      <td>95.0</td>\n      <td>-14.0</td>\n    </tr>\n    <tr>\n      <th>96</th>\n      <td>J.K. Dobbins</td>\n      <td>RB</td>\n      <td>BAL</td>\n      <td>119.25</td>\n      <td>0.520840</td>\n      <td>97.0</td>\n      <td>88.0</td>\n      <td>85.5</td>\n      <td>-11.5</td>\n    </tr>\n    <tr>\n      <th>223</th>\n      <td>Jaylen Samuels</td>\n      <td>RB</td>\n      <td>PIT</td>\n      <td>40.89</td>\n      <td>0.374063</td>\n      <td>224.0</td>\n      <td>214.0</td>\n      <td>216.0</td>\n      <td>-8.0</td>\n    </tr>\n    <tr>\n      <th>172</th>\n      <td>A.J. Dillon</td>\n      <td>RB</td>\n      <td>GB</td>\n      <td>72.61</td>\n      <td>0.433478</td>\n      <td>173.0</td>\n      <td>166.5</td>\n      <td>166.5</td>\n      <td>-6.5</td>\n    </tr>\n    <tr>\n      <th>188</th>\n      <td>Damien Harris</td>\n      <td>RB</td>\n      <td>NE</td>\n      <td>66.53</td>\n      <td>0.422090</td>\n      <td>189.0</td>\n      <td>187.0</td>\n      <td>185.0</td>\n      <td>-4.0</td>\n    </tr>\n    <tr>\n      <th>11</th>\n      <td>Joe Mixon</td>\n      <td>RB</td>\n      <td>CIN</td>\n      <td>240.98</td>\n      <td>0.748854</td>\n      <td>12.0</td>\n      <td>10.0</td>\n      <td>9.0</td>\n      <td>-3.0</td>\n    </tr>\n  </tbody>\n</table>\n</div>"
     },
     "metadata": {},
     "execution_count": 40
    }
   ],
   "source": [
    "# top 10 RB overvalued for this year's draft\n",
    "rb_draft_pool.sort_values(by='Diff in ADP and Value', ascending=True)[:10]"
   ]
  },
  {
   "cell_type": "code",
   "execution_count": 41,
   "metadata": {},
   "outputs": [
    {
     "output_type": "execute_result",
     "data": {
      "text/plain": [
       "               Player Pos Team  FantasyPoints     Value  Value Rank  \\\n",
       "177      Cole Beasley  WR  BUF         144.38  0.429938       178.0   \n",
       "127       Golden Tate  WR  NYG         174.00  0.485420       128.0   \n",
       "39       Robert Woods  WR  LAR         241.44  0.611742        40.0   \n",
       "157  Breshad Perriman  WR  NYJ         155.10  0.450018       158.0   \n",
       "196       Corey Davis  WR  TEN         135.67  0.413623       197.0   \n",
       "164    Hunter Renfrow  WR   LV         150.09  0.440634       165.0   \n",
       "99    Jamison Crowder  WR  NYJ         192.28  0.519660        99.5   \n",
       "6      Michael Thomas  WR   NO         333.18  0.783581         7.0   \n",
       "130  Preston Williams  WR  MIA         172.03  0.481730       131.0   \n",
       "218      Randall Cobb  WR  HOU         119.51  0.383354       219.0   \n",
       "\n",
       "     Average ADP  ADP Rank  Diff in ADP and Value  \n",
       "177        217.5     219.0                   41.0  \n",
       "127        139.0     137.0                    9.0  \n",
       "39          46.0      46.0                    6.0  \n",
       "157        162.5     160.5                    2.5  \n",
       "196        200.0     198.0                    1.0  \n",
       "164        165.0     165.0                    0.0  \n",
       "99         100.0      98.5                   -1.0  \n",
       "6            4.0       4.0                   -3.0  \n",
       "130        130.0     128.0                   -3.0  \n",
       "218        213.5     215.0                   -4.0  "
      ],
      "text/html": "<div>\n<style scoped>\n    .dataframe tbody tr th:only-of-type {\n        vertical-align: middle;\n    }\n\n    .dataframe tbody tr th {\n        vertical-align: top;\n    }\n\n    .dataframe thead th {\n        text-align: right;\n    }\n</style>\n<table border=\"1\" class=\"dataframe\">\n  <thead>\n    <tr style=\"text-align: right;\">\n      <th></th>\n      <th>Player</th>\n      <th>Pos</th>\n      <th>Team</th>\n      <th>FantasyPoints</th>\n      <th>Value</th>\n      <th>Value Rank</th>\n      <th>Average ADP</th>\n      <th>ADP Rank</th>\n      <th>Diff in ADP and Value</th>\n    </tr>\n  </thead>\n  <tbody>\n    <tr>\n      <th>177</th>\n      <td>Cole Beasley</td>\n      <td>WR</td>\n      <td>BUF</td>\n      <td>144.38</td>\n      <td>0.429938</td>\n      <td>178.0</td>\n      <td>217.5</td>\n      <td>219.0</td>\n      <td>41.0</td>\n    </tr>\n    <tr>\n      <th>127</th>\n      <td>Golden Tate</td>\n      <td>WR</td>\n      <td>NYG</td>\n      <td>174.00</td>\n      <td>0.485420</td>\n      <td>128.0</td>\n      <td>139.0</td>\n      <td>137.0</td>\n      <td>9.0</td>\n    </tr>\n    <tr>\n      <th>39</th>\n      <td>Robert Woods</td>\n      <td>WR</td>\n      <td>LAR</td>\n      <td>241.44</td>\n      <td>0.611742</td>\n      <td>40.0</td>\n      <td>46.0</td>\n      <td>46.0</td>\n      <td>6.0</td>\n    </tr>\n    <tr>\n      <th>157</th>\n      <td>Breshad Perriman</td>\n      <td>WR</td>\n      <td>NYJ</td>\n      <td>155.10</td>\n      <td>0.450018</td>\n      <td>158.0</td>\n      <td>162.5</td>\n      <td>160.5</td>\n      <td>2.5</td>\n    </tr>\n    <tr>\n      <th>196</th>\n      <td>Corey Davis</td>\n      <td>WR</td>\n      <td>TEN</td>\n      <td>135.67</td>\n      <td>0.413623</td>\n      <td>197.0</td>\n      <td>200.0</td>\n      <td>198.0</td>\n      <td>1.0</td>\n    </tr>\n    <tr>\n      <th>164</th>\n      <td>Hunter Renfrow</td>\n      <td>WR</td>\n      <td>LV</td>\n      <td>150.09</td>\n      <td>0.440634</td>\n      <td>165.0</td>\n      <td>165.0</td>\n      <td>165.0</td>\n      <td>0.0</td>\n    </tr>\n    <tr>\n      <th>99</th>\n      <td>Jamison Crowder</td>\n      <td>WR</td>\n      <td>NYJ</td>\n      <td>192.28</td>\n      <td>0.519660</td>\n      <td>99.5</td>\n      <td>100.0</td>\n      <td>98.5</td>\n      <td>-1.0</td>\n    </tr>\n    <tr>\n      <th>6</th>\n      <td>Michael Thomas</td>\n      <td>WR</td>\n      <td>NO</td>\n      <td>333.18</td>\n      <td>0.783581</td>\n      <td>7.0</td>\n      <td>4.0</td>\n      <td>4.0</td>\n      <td>-3.0</td>\n    </tr>\n    <tr>\n      <th>130</th>\n      <td>Preston Williams</td>\n      <td>WR</td>\n      <td>MIA</td>\n      <td>172.03</td>\n      <td>0.481730</td>\n      <td>131.0</td>\n      <td>130.0</td>\n      <td>128.0</td>\n      <td>-3.0</td>\n    </tr>\n    <tr>\n      <th>218</th>\n      <td>Randall Cobb</td>\n      <td>WR</td>\n      <td>HOU</td>\n      <td>119.51</td>\n      <td>0.383354</td>\n      <td>219.0</td>\n      <td>213.5</td>\n      <td>215.0</td>\n      <td>-4.0</td>\n    </tr>\n  </tbody>\n</table>\n</div>"
     },
     "metadata": {},
     "execution_count": 41
    }
   ],
   "source": [
    "# top 10 WR sleepers for this year's draft\n",
    "wr_draft_pool.sort_values(by='Diff in ADP and Value', ascending=False)[:10]"
   ]
  },
  {
   "cell_type": "code",
   "execution_count": 42,
   "metadata": {},
   "outputs": [
    {
     "output_type": "execute_result",
     "data": {
      "text/plain": [
       "               Player Pos Team  FantasyPoints     Value  Value Rank  \\\n",
       "357       Denzel Mims  WR  NYJ          77.01  0.303747       358.0   \n",
       "394    Devin Duvernay  WR  BAL          63.90  0.279191       395.0   \n",
       "316      Willie Snead  WR  BAL          85.29  0.319256       317.0   \n",
       "271         John Ross  WR  CIN          97.67  0.342445       272.0   \n",
       "287      Kenny Stills  WR  HOU          92.78  0.333286       288.0   \n",
       "213    Mecole Hardman  WR   KC         123.03  0.389947       214.0   \n",
       "178  Justin Jefferson  WR  MIN         144.34  0.429863       179.0   \n",
       "228    Alshon Jeffery  WR  PHI         112.02  0.369324       229.0   \n",
       "251   Parris Campbell  WR  IND         102.75  0.351961       252.0   \n",
       "274  James Washington  WR  PIT          96.22  0.339729       275.0   \n",
       "\n",
       "     Average ADP  ADP Rank  Diff in ADP and Value  \n",
       "357        179.0     177.0                 -181.0  \n",
       "394        212.0     214.0                 -181.0  \n",
       "316        217.0     218.0                  -99.0  \n",
       "271        182.0     180.0                  -92.0  \n",
       "287        203.0     202.5                  -85.5  \n",
       "213        139.5     138.0                  -76.0  \n",
       "178        108.5     110.0                  -69.0  \n",
       "228        162.5     160.5                  -68.5  \n",
       "251        188.5     186.5                  -65.5  \n",
       "274        216.0     217.0                  -58.0  "
      ],
      "text/html": "<div>\n<style scoped>\n    .dataframe tbody tr th:only-of-type {\n        vertical-align: middle;\n    }\n\n    .dataframe tbody tr th {\n        vertical-align: top;\n    }\n\n    .dataframe thead th {\n        text-align: right;\n    }\n</style>\n<table border=\"1\" class=\"dataframe\">\n  <thead>\n    <tr style=\"text-align: right;\">\n      <th></th>\n      <th>Player</th>\n      <th>Pos</th>\n      <th>Team</th>\n      <th>FantasyPoints</th>\n      <th>Value</th>\n      <th>Value Rank</th>\n      <th>Average ADP</th>\n      <th>ADP Rank</th>\n      <th>Diff in ADP and Value</th>\n    </tr>\n  </thead>\n  <tbody>\n    <tr>\n      <th>357</th>\n      <td>Denzel Mims</td>\n      <td>WR</td>\n      <td>NYJ</td>\n      <td>77.01</td>\n      <td>0.303747</td>\n      <td>358.0</td>\n      <td>179.0</td>\n      <td>177.0</td>\n      <td>-181.0</td>\n    </tr>\n    <tr>\n      <th>394</th>\n      <td>Devin Duvernay</td>\n      <td>WR</td>\n      <td>BAL</td>\n      <td>63.90</td>\n      <td>0.279191</td>\n      <td>395.0</td>\n      <td>212.0</td>\n      <td>214.0</td>\n      <td>-181.0</td>\n    </tr>\n    <tr>\n      <th>316</th>\n      <td>Willie Snead</td>\n      <td>WR</td>\n      <td>BAL</td>\n      <td>85.29</td>\n      <td>0.319256</td>\n      <td>317.0</td>\n      <td>217.0</td>\n      <td>218.0</td>\n      <td>-99.0</td>\n    </tr>\n    <tr>\n      <th>271</th>\n      <td>John Ross</td>\n      <td>WR</td>\n      <td>CIN</td>\n      <td>97.67</td>\n      <td>0.342445</td>\n      <td>272.0</td>\n      <td>182.0</td>\n      <td>180.0</td>\n      <td>-92.0</td>\n    </tr>\n    <tr>\n      <th>287</th>\n      <td>Kenny Stills</td>\n      <td>WR</td>\n      <td>HOU</td>\n      <td>92.78</td>\n      <td>0.333286</td>\n      <td>288.0</td>\n      <td>203.0</td>\n      <td>202.5</td>\n      <td>-85.5</td>\n    </tr>\n    <tr>\n      <th>213</th>\n      <td>Mecole Hardman</td>\n      <td>WR</td>\n      <td>KC</td>\n      <td>123.03</td>\n      <td>0.389947</td>\n      <td>214.0</td>\n      <td>139.5</td>\n      <td>138.0</td>\n      <td>-76.0</td>\n    </tr>\n    <tr>\n      <th>178</th>\n      <td>Justin Jefferson</td>\n      <td>WR</td>\n      <td>MIN</td>\n      <td>144.34</td>\n      <td>0.429863</td>\n      <td>179.0</td>\n      <td>108.5</td>\n      <td>110.0</td>\n      <td>-69.0</td>\n    </tr>\n    <tr>\n      <th>228</th>\n      <td>Alshon Jeffery</td>\n      <td>WR</td>\n      <td>PHI</td>\n      <td>112.02</td>\n      <td>0.369324</td>\n      <td>229.0</td>\n      <td>162.5</td>\n      <td>160.5</td>\n      <td>-68.5</td>\n    </tr>\n    <tr>\n      <th>251</th>\n      <td>Parris Campbell</td>\n      <td>WR</td>\n      <td>IND</td>\n      <td>102.75</td>\n      <td>0.351961</td>\n      <td>252.0</td>\n      <td>188.5</td>\n      <td>186.5</td>\n      <td>-65.5</td>\n    </tr>\n    <tr>\n      <th>274</th>\n      <td>James Washington</td>\n      <td>WR</td>\n      <td>PIT</td>\n      <td>96.22</td>\n      <td>0.339729</td>\n      <td>275.0</td>\n      <td>216.0</td>\n      <td>217.0</td>\n      <td>-58.0</td>\n    </tr>\n  </tbody>\n</table>\n</div>"
     },
     "metadata": {},
     "execution_count": 42
    }
   ],
   "source": [
    "# top 10 WR overvalued for this year's draft\n",
    "wr_draft_pool.sort_values(by='Diff in ADP and Value', ascending=True)[:10]"
   ]
  },
  {
   "cell_type": "code",
   "execution_count": 43,
   "metadata": {},
   "outputs": [
    {
     "output_type": "execute_result",
     "data": {
      "text/plain": [
       "               Player Pos Team  FantasyPoints     Value  Value Rank  \\\n",
       "143        Greg Olsen  TE  SEA         109.24  0.462980       144.0   \n",
       "120        Ian Thomas  TE  CAR         125.52  0.493474       121.0   \n",
       "106  Chris Herndon IV  TE  NYJ         132.66  0.506848       107.0   \n",
       "166     Irv Smith Jr.  TE  MIN          96.64  0.439379       167.0   \n",
       "121      Blake Jarwin  TE  DAL         123.75  0.490159       122.0   \n",
       "118        Jack Doyle  TE  IND         126.34  0.495010       119.0   \n",
       "89       Mike Gesicki  TE  MIA         145.07  0.530093        90.0   \n",
       "116       Jonnu Smith  TE  TEN         127.09  0.496415       117.0   \n",
       "85       Hayden Hurst  TE  ATL         148.28  0.536106        86.0   \n",
       "87         Jared Cook  TE   NO         146.40  0.532585        88.0   \n",
       "\n",
       "     Average ADP  ADP Rank  Diff in ADP and Value  \n",
       "143        210.5     211.0                   67.0  \n",
       "120        180.5     178.0                   57.0  \n",
       "106        164.0     163.5                   56.5  \n",
       "166        202.5     201.0                   34.0  \n",
       "121        158.0     156.0                   34.0  \n",
       "118        153.5     152.0                   33.0  \n",
       "89         124.5     120.0                   30.0  \n",
       "116        145.5     145.5                   28.5  \n",
       "85         113.0     113.0                   27.0  \n",
       "87         108.5     110.0                   22.0  "
      ],
      "text/html": "<div>\n<style scoped>\n    .dataframe tbody tr th:only-of-type {\n        vertical-align: middle;\n    }\n\n    .dataframe tbody tr th {\n        vertical-align: top;\n    }\n\n    .dataframe thead th {\n        text-align: right;\n    }\n</style>\n<table border=\"1\" class=\"dataframe\">\n  <thead>\n    <tr style=\"text-align: right;\">\n      <th></th>\n      <th>Player</th>\n      <th>Pos</th>\n      <th>Team</th>\n      <th>FantasyPoints</th>\n      <th>Value</th>\n      <th>Value Rank</th>\n      <th>Average ADP</th>\n      <th>ADP Rank</th>\n      <th>Diff in ADP and Value</th>\n    </tr>\n  </thead>\n  <tbody>\n    <tr>\n      <th>143</th>\n      <td>Greg Olsen</td>\n      <td>TE</td>\n      <td>SEA</td>\n      <td>109.24</td>\n      <td>0.462980</td>\n      <td>144.0</td>\n      <td>210.5</td>\n      <td>211.0</td>\n      <td>67.0</td>\n    </tr>\n    <tr>\n      <th>120</th>\n      <td>Ian Thomas</td>\n      <td>TE</td>\n      <td>CAR</td>\n      <td>125.52</td>\n      <td>0.493474</td>\n      <td>121.0</td>\n      <td>180.5</td>\n      <td>178.0</td>\n      <td>57.0</td>\n    </tr>\n    <tr>\n      <th>106</th>\n      <td>Chris Herndon IV</td>\n      <td>TE</td>\n      <td>NYJ</td>\n      <td>132.66</td>\n      <td>0.506848</td>\n      <td>107.0</td>\n      <td>164.0</td>\n      <td>163.5</td>\n      <td>56.5</td>\n    </tr>\n    <tr>\n      <th>166</th>\n      <td>Irv Smith Jr.</td>\n      <td>TE</td>\n      <td>MIN</td>\n      <td>96.64</td>\n      <td>0.439379</td>\n      <td>167.0</td>\n      <td>202.5</td>\n      <td>201.0</td>\n      <td>34.0</td>\n    </tr>\n    <tr>\n      <th>121</th>\n      <td>Blake Jarwin</td>\n      <td>TE</td>\n      <td>DAL</td>\n      <td>123.75</td>\n      <td>0.490159</td>\n      <td>122.0</td>\n      <td>158.0</td>\n      <td>156.0</td>\n      <td>34.0</td>\n    </tr>\n    <tr>\n      <th>118</th>\n      <td>Jack Doyle</td>\n      <td>TE</td>\n      <td>IND</td>\n      <td>126.34</td>\n      <td>0.495010</td>\n      <td>119.0</td>\n      <td>153.5</td>\n      <td>152.0</td>\n      <td>33.0</td>\n    </tr>\n    <tr>\n      <th>89</th>\n      <td>Mike Gesicki</td>\n      <td>TE</td>\n      <td>MIA</td>\n      <td>145.07</td>\n      <td>0.530093</td>\n      <td>90.0</td>\n      <td>124.5</td>\n      <td>120.0</td>\n      <td>30.0</td>\n    </tr>\n    <tr>\n      <th>116</th>\n      <td>Jonnu Smith</td>\n      <td>TE</td>\n      <td>TEN</td>\n      <td>127.09</td>\n      <td>0.496415</td>\n      <td>117.0</td>\n      <td>145.5</td>\n      <td>145.5</td>\n      <td>28.5</td>\n    </tr>\n    <tr>\n      <th>85</th>\n      <td>Hayden Hurst</td>\n      <td>TE</td>\n      <td>ATL</td>\n      <td>148.28</td>\n      <td>0.536106</td>\n      <td>86.0</td>\n      <td>113.0</td>\n      <td>113.0</td>\n      <td>27.0</td>\n    </tr>\n    <tr>\n      <th>87</th>\n      <td>Jared Cook</td>\n      <td>TE</td>\n      <td>NO</td>\n      <td>146.40</td>\n      <td>0.532585</td>\n      <td>88.0</td>\n      <td>108.5</td>\n      <td>110.0</td>\n      <td>22.0</td>\n    </tr>\n  </tbody>\n</table>\n</div>"
     },
     "metadata": {},
     "execution_count": 43
    }
   ],
   "source": [
    "# top 10 TE sleepers for this year's draft\n",
    "te_draft_pool.sort_values(by='Diff in ADP and Value', ascending=False)[:10]"
   ]
  },
  {
   "cell_type": "code",
   "execution_count": 44,
   "metadata": {},
   "outputs": [
    {
     "output_type": "execute_result",
     "data": {
      "text/plain": [
       "             Player Pos Team  FantasyPoints     Value  Value Rank  \\\n",
       "98   Rob Gronkowski  TE   TB         139.50  0.519660        99.5   \n",
       "21    George Kittle  TE   SF         235.49  0.699460        22.0   \n",
       "13     Travis Kelce  TE   KC         255.44  0.736828        14.0   \n",
       "41     Mark Andrews  TE  BAL         187.53  0.609626        42.0   \n",
       "90    Austin Hooper  TE  CLE         144.42  0.528876        91.0   \n",
       "64     Hunter Henry  TE  LAC         161.64  0.561131        65.0   \n",
       "66     Tyler Higbee  TE  LAR         160.66  0.559295        67.0   \n",
       "26        Zach Ertz  TE  PHI         210.87  0.653344        27.0   \n",
       "60      Evan Engram  TE  NYG         169.05  0.575010        61.0   \n",
       "110  T.J. Hockenson  TE  DET         131.98  0.505574       111.0   \n",
       "\n",
       "     Average ADP  ADP Rank  Diff in ADP and Value  \n",
       "98          89.0      89.5                  -10.0  \n",
       "21          20.5      21.5                   -0.5  \n",
       "13          17.0      18.0                    4.0  \n",
       "41          47.0      47.0                    5.0  \n",
       "90         103.0     101.0                   10.0  \n",
       "64          80.5      77.0                   12.0  \n",
       "66          84.0      79.0                   12.0  \n",
       "26          39.0      39.5                   12.5  \n",
       "60          75.5      74.0                   13.0  \n",
       "110        129.5     126.5                   15.5  "
      ],
      "text/html": "<div>\n<style scoped>\n    .dataframe tbody tr th:only-of-type {\n        vertical-align: middle;\n    }\n\n    .dataframe tbody tr th {\n        vertical-align: top;\n    }\n\n    .dataframe thead th {\n        text-align: right;\n    }\n</style>\n<table border=\"1\" class=\"dataframe\">\n  <thead>\n    <tr style=\"text-align: right;\">\n      <th></th>\n      <th>Player</th>\n      <th>Pos</th>\n      <th>Team</th>\n      <th>FantasyPoints</th>\n      <th>Value</th>\n      <th>Value Rank</th>\n      <th>Average ADP</th>\n      <th>ADP Rank</th>\n      <th>Diff in ADP and Value</th>\n    </tr>\n  </thead>\n  <tbody>\n    <tr>\n      <th>98</th>\n      <td>Rob Gronkowski</td>\n      <td>TE</td>\n      <td>TB</td>\n      <td>139.50</td>\n      <td>0.519660</td>\n      <td>99.5</td>\n      <td>89.0</td>\n      <td>89.5</td>\n      <td>-10.0</td>\n    </tr>\n    <tr>\n      <th>21</th>\n      <td>George Kittle</td>\n      <td>TE</td>\n      <td>SF</td>\n      <td>235.49</td>\n      <td>0.699460</td>\n      <td>22.0</td>\n      <td>20.5</td>\n      <td>21.5</td>\n      <td>-0.5</td>\n    </tr>\n    <tr>\n      <th>13</th>\n      <td>Travis Kelce</td>\n      <td>TE</td>\n      <td>KC</td>\n      <td>255.44</td>\n      <td>0.736828</td>\n      <td>14.0</td>\n      <td>17.0</td>\n      <td>18.0</td>\n      <td>4.0</td>\n    </tr>\n    <tr>\n      <th>41</th>\n      <td>Mark Andrews</td>\n      <td>TE</td>\n      <td>BAL</td>\n      <td>187.53</td>\n      <td>0.609626</td>\n      <td>42.0</td>\n      <td>47.0</td>\n      <td>47.0</td>\n      <td>5.0</td>\n    </tr>\n    <tr>\n      <th>90</th>\n      <td>Austin Hooper</td>\n      <td>TE</td>\n      <td>CLE</td>\n      <td>144.42</td>\n      <td>0.528876</td>\n      <td>91.0</td>\n      <td>103.0</td>\n      <td>101.0</td>\n      <td>10.0</td>\n    </tr>\n    <tr>\n      <th>64</th>\n      <td>Hunter Henry</td>\n      <td>TE</td>\n      <td>LAC</td>\n      <td>161.64</td>\n      <td>0.561131</td>\n      <td>65.0</td>\n      <td>80.5</td>\n      <td>77.0</td>\n      <td>12.0</td>\n    </tr>\n    <tr>\n      <th>66</th>\n      <td>Tyler Higbee</td>\n      <td>TE</td>\n      <td>LAR</td>\n      <td>160.66</td>\n      <td>0.559295</td>\n      <td>67.0</td>\n      <td>84.0</td>\n      <td>79.0</td>\n      <td>12.0</td>\n    </tr>\n    <tr>\n      <th>26</th>\n      <td>Zach Ertz</td>\n      <td>TE</td>\n      <td>PHI</td>\n      <td>210.87</td>\n      <td>0.653344</td>\n      <td>27.0</td>\n      <td>39.0</td>\n      <td>39.5</td>\n      <td>12.5</td>\n    </tr>\n    <tr>\n      <th>60</th>\n      <td>Evan Engram</td>\n      <td>TE</td>\n      <td>NYG</td>\n      <td>169.05</td>\n      <td>0.575010</td>\n      <td>61.0</td>\n      <td>75.5</td>\n      <td>74.0</td>\n      <td>13.0</td>\n    </tr>\n    <tr>\n      <th>110</th>\n      <td>T.J. Hockenson</td>\n      <td>TE</td>\n      <td>DET</td>\n      <td>131.98</td>\n      <td>0.505574</td>\n      <td>111.0</td>\n      <td>129.5</td>\n      <td>126.5</td>\n      <td>15.5</td>\n    </tr>\n  </tbody>\n</table>\n</div>"
     },
     "metadata": {},
     "execution_count": 44
    }
   ],
   "source": [
    "# top 10 TE overvalued for this year's draft\n",
    "te_draft_pool.sort_values(by='Diff in ADP and Value', ascending=True)[:10]"
   ]
  },
  {
   "cell_type": "code",
   "execution_count": 45,
   "metadata": {},
   "outputs": [
    {
     "output_type": "execute_result",
     "data": {
      "text/plain": [
       "                 Player Pos Team  FantasyPoints     Value  Value Rank  \\\n",
       "113          Cam Newton  QB   NE        267.554  0.501158       114.0   \n",
       "135  Gardner Minshew II  QB  JAC        251.500  0.471087       136.0   \n",
       "159   Teddy Bridgewater  QB  CAR        239.328  0.448287       160.0   \n",
       "176          Derek Carr  QB   LV        229.760  0.430365       177.0   \n",
       "129      Ryan Tannehill  QB  TEN        258.048  0.483352       130.0   \n",
       "149        Kirk Cousins  QB  MIN        245.184  0.459256       150.0   \n",
       "68           Josh Allen  QB  BUF        297.482  0.557216        69.0   \n",
       "55       Deshaun Watson  QB  HOU        312.888  0.586073        56.0   \n",
       "185         Sam Darnold  QB  NYJ        226.866  0.424945       186.0   \n",
       "147     Jimmy Garoppolo  QB   SF        245.542  0.459927       148.0   \n",
       "\n",
       "     Average ADP  ADP Rank  Diff in ADP and Value  \n",
       "113        211.0     212.5                   98.5  \n",
       "135        174.5     172.0                   36.0  \n",
       "159        194.0     192.5                   32.5  \n",
       "176        203.0     202.5                   25.5  \n",
       "129        143.5     143.0                   13.0  \n",
       "149        163.5     162.0                   12.0  \n",
       "68          85.5      80.5                   11.5  \n",
       "55          67.5      67.0                   11.0  \n",
       "185        199.0     196.5                   10.5  \n",
       "147        160.0     158.5                   10.5  "
      ],
      "text/html": "<div>\n<style scoped>\n    .dataframe tbody tr th:only-of-type {\n        vertical-align: middle;\n    }\n\n    .dataframe tbody tr th {\n        vertical-align: top;\n    }\n\n    .dataframe thead th {\n        text-align: right;\n    }\n</style>\n<table border=\"1\" class=\"dataframe\">\n  <thead>\n    <tr style=\"text-align: right;\">\n      <th></th>\n      <th>Player</th>\n      <th>Pos</th>\n      <th>Team</th>\n      <th>FantasyPoints</th>\n      <th>Value</th>\n      <th>Value Rank</th>\n      <th>Average ADP</th>\n      <th>ADP Rank</th>\n      <th>Diff in ADP and Value</th>\n    </tr>\n  </thead>\n  <tbody>\n    <tr>\n      <th>113</th>\n      <td>Cam Newton</td>\n      <td>QB</td>\n      <td>NE</td>\n      <td>267.554</td>\n      <td>0.501158</td>\n      <td>114.0</td>\n      <td>211.0</td>\n      <td>212.5</td>\n      <td>98.5</td>\n    </tr>\n    <tr>\n      <th>135</th>\n      <td>Gardner Minshew II</td>\n      <td>QB</td>\n      <td>JAC</td>\n      <td>251.500</td>\n      <td>0.471087</td>\n      <td>136.0</td>\n      <td>174.5</td>\n      <td>172.0</td>\n      <td>36.0</td>\n    </tr>\n    <tr>\n      <th>159</th>\n      <td>Teddy Bridgewater</td>\n      <td>QB</td>\n      <td>CAR</td>\n      <td>239.328</td>\n      <td>0.448287</td>\n      <td>160.0</td>\n      <td>194.0</td>\n      <td>192.5</td>\n      <td>32.5</td>\n    </tr>\n    <tr>\n      <th>176</th>\n      <td>Derek Carr</td>\n      <td>QB</td>\n      <td>LV</td>\n      <td>229.760</td>\n      <td>0.430365</td>\n      <td>177.0</td>\n      <td>203.0</td>\n      <td>202.5</td>\n      <td>25.5</td>\n    </tr>\n    <tr>\n      <th>129</th>\n      <td>Ryan Tannehill</td>\n      <td>QB</td>\n      <td>TEN</td>\n      <td>258.048</td>\n      <td>0.483352</td>\n      <td>130.0</td>\n      <td>143.5</td>\n      <td>143.0</td>\n      <td>13.0</td>\n    </tr>\n    <tr>\n      <th>149</th>\n      <td>Kirk Cousins</td>\n      <td>QB</td>\n      <td>MIN</td>\n      <td>245.184</td>\n      <td>0.459256</td>\n      <td>150.0</td>\n      <td>163.5</td>\n      <td>162.0</td>\n      <td>12.0</td>\n    </tr>\n    <tr>\n      <th>68</th>\n      <td>Josh Allen</td>\n      <td>QB</td>\n      <td>BUF</td>\n      <td>297.482</td>\n      <td>0.557216</td>\n      <td>69.0</td>\n      <td>85.5</td>\n      <td>80.5</td>\n      <td>11.5</td>\n    </tr>\n    <tr>\n      <th>55</th>\n      <td>Deshaun Watson</td>\n      <td>QB</td>\n      <td>HOU</td>\n      <td>312.888</td>\n      <td>0.586073</td>\n      <td>56.0</td>\n      <td>67.5</td>\n      <td>67.0</td>\n      <td>11.0</td>\n    </tr>\n    <tr>\n      <th>185</th>\n      <td>Sam Darnold</td>\n      <td>QB</td>\n      <td>NYJ</td>\n      <td>226.866</td>\n      <td>0.424945</td>\n      <td>186.0</td>\n      <td>199.0</td>\n      <td>196.5</td>\n      <td>10.5</td>\n    </tr>\n    <tr>\n      <th>147</th>\n      <td>Jimmy Garoppolo</td>\n      <td>QB</td>\n      <td>SF</td>\n      <td>245.542</td>\n      <td>0.459927</td>\n      <td>148.0</td>\n      <td>160.0</td>\n      <td>158.5</td>\n      <td>10.5</td>\n    </tr>\n  </tbody>\n</table>\n</div>"
     },
     "metadata": {},
     "execution_count": 45
    }
   ],
   "source": [
    "# top 10 QB sleepers for this year's draft\n",
    "qb_draft_pool.sort_values(by='Diff in ADP and Value', ascending=False)[:10]"
   ]
  },
  {
   "cell_type": "code",
   "execution_count": 46,
   "metadata": {},
   "outputs": [
    {
     "output_type": "execute_result",
     "data": {
      "text/plain": [
       "                 Player Pos Team  FantasyPoints     Value  Value Rank  \\\n",
       "126    Matthew Stafford  QB  DET        259.326  0.485746       127.0   \n",
       "145  Ben Roethlisberger  QB  PIT        246.772  0.462231       146.0   \n",
       "133        Daniel Jones  QB  NYG        253.094  0.474072       134.0   \n",
       "72         Kyler Murray  QB  ARI        295.652  0.553788        73.0   \n",
       "102           Tom Brady  QB   TB        276.228  0.517405       103.0   \n",
       "28      Patrick Mahomes  QB   KC        345.384  0.646942        29.0   \n",
       "153          Joe Burrow  QB  CIN        243.696  0.456469       154.0   \n",
       "94           Drew Brees  QB   NO        279.616  0.523751        95.0   \n",
       "134      Baker Mayfield  QB  CLE        251.740  0.471536       135.0   \n",
       "25        Lamar Jackson  QB  BAL        361.124  0.676424        26.0   \n",
       "\n",
       "     Average ADP  ADP Rank  Diff in ADP and Value  \n",
       "126        108.0     108.0                  -19.0  \n",
       "145        131.5     129.5                  -16.5  \n",
       "133        123.0     118.0                  -16.0  \n",
       "72          58.5      59.5                  -13.5  \n",
       "102         89.0      89.5                  -13.5  \n",
       "28          24.5      24.5                   -4.5  \n",
       "153        153.0     150.0                   -4.0  \n",
       "94          90.0      91.0                   -4.0  \n",
       "134        134.0     132.0                   -3.0  \n",
       "25          22.5      23.0                   -3.0  "
      ],
      "text/html": "<div>\n<style scoped>\n    .dataframe tbody tr th:only-of-type {\n        vertical-align: middle;\n    }\n\n    .dataframe tbody tr th {\n        vertical-align: top;\n    }\n\n    .dataframe thead th {\n        text-align: right;\n    }\n</style>\n<table border=\"1\" class=\"dataframe\">\n  <thead>\n    <tr style=\"text-align: right;\">\n      <th></th>\n      <th>Player</th>\n      <th>Pos</th>\n      <th>Team</th>\n      <th>FantasyPoints</th>\n      <th>Value</th>\n      <th>Value Rank</th>\n      <th>Average ADP</th>\n      <th>ADP Rank</th>\n      <th>Diff in ADP and Value</th>\n    </tr>\n  </thead>\n  <tbody>\n    <tr>\n      <th>126</th>\n      <td>Matthew Stafford</td>\n      <td>QB</td>\n      <td>DET</td>\n      <td>259.326</td>\n      <td>0.485746</td>\n      <td>127.0</td>\n      <td>108.0</td>\n      <td>108.0</td>\n      <td>-19.0</td>\n    </tr>\n    <tr>\n      <th>145</th>\n      <td>Ben Roethlisberger</td>\n      <td>QB</td>\n      <td>PIT</td>\n      <td>246.772</td>\n      <td>0.462231</td>\n      <td>146.0</td>\n      <td>131.5</td>\n      <td>129.5</td>\n      <td>-16.5</td>\n    </tr>\n    <tr>\n      <th>133</th>\n      <td>Daniel Jones</td>\n      <td>QB</td>\n      <td>NYG</td>\n      <td>253.094</td>\n      <td>0.474072</td>\n      <td>134.0</td>\n      <td>123.0</td>\n      <td>118.0</td>\n      <td>-16.0</td>\n    </tr>\n    <tr>\n      <th>72</th>\n      <td>Kyler Murray</td>\n      <td>QB</td>\n      <td>ARI</td>\n      <td>295.652</td>\n      <td>0.553788</td>\n      <td>73.0</td>\n      <td>58.5</td>\n      <td>59.5</td>\n      <td>-13.5</td>\n    </tr>\n    <tr>\n      <th>102</th>\n      <td>Tom Brady</td>\n      <td>QB</td>\n      <td>TB</td>\n      <td>276.228</td>\n      <td>0.517405</td>\n      <td>103.0</td>\n      <td>89.0</td>\n      <td>89.5</td>\n      <td>-13.5</td>\n    </tr>\n    <tr>\n      <th>28</th>\n      <td>Patrick Mahomes</td>\n      <td>QB</td>\n      <td>KC</td>\n      <td>345.384</td>\n      <td>0.646942</td>\n      <td>29.0</td>\n      <td>24.5</td>\n      <td>24.5</td>\n      <td>-4.5</td>\n    </tr>\n    <tr>\n      <th>153</th>\n      <td>Joe Burrow</td>\n      <td>QB</td>\n      <td>CIN</td>\n      <td>243.696</td>\n      <td>0.456469</td>\n      <td>154.0</td>\n      <td>153.0</td>\n      <td>150.0</td>\n      <td>-4.0</td>\n    </tr>\n    <tr>\n      <th>94</th>\n      <td>Drew Brees</td>\n      <td>QB</td>\n      <td>NO</td>\n      <td>279.616</td>\n      <td>0.523751</td>\n      <td>95.0</td>\n      <td>90.0</td>\n      <td>91.0</td>\n      <td>-4.0</td>\n    </tr>\n    <tr>\n      <th>134</th>\n      <td>Baker Mayfield</td>\n      <td>QB</td>\n      <td>CLE</td>\n      <td>251.740</td>\n      <td>0.471536</td>\n      <td>135.0</td>\n      <td>134.0</td>\n      <td>132.0</td>\n      <td>-3.0</td>\n    </tr>\n    <tr>\n      <th>25</th>\n      <td>Lamar Jackson</td>\n      <td>QB</td>\n      <td>BAL</td>\n      <td>361.124</td>\n      <td>0.676424</td>\n      <td>26.0</td>\n      <td>22.5</td>\n      <td>23.0</td>\n      <td>-3.0</td>\n    </tr>\n  </tbody>\n</table>\n</div>"
     },
     "metadata": {},
     "execution_count": 46
    }
   ],
   "source": [
    "# top 10 QB overvalued for this year's draft\n",
    "qb_draft_pool.sort_values(by='Diff in ADP and Value', ascending=True)[:10]"
   ]
  },
  {
   "cell_type": "code",
   "execution_count": null,
   "metadata": {},
   "outputs": [],
   "source": []
  }
 ]
}